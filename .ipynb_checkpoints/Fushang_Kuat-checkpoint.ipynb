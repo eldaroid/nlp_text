{
 "cells": [
  {
   "cell_type": "markdown",
   "metadata": {},
   "source": [
    "# Семинар 2: Introduction to Data Science \n",
    "\n",
    "Продолжаем вводиться в python. Сегодня порешаем более сложные задачки на базовые навыки, а также посмотрим на `pandas`."
   ]
  },
  {
   "cell_type": "markdown",
   "metadata": {},
   "source": [
    "## 1. Продолжаем решать проблемы Хоббитов.\n",
    "\n",
    "### Задача 1\n",
    "\n",
    "<img src=\"http://i0.kym-cdn.com/photos/images/original/001/187/255/5e9.gif\" width=300>\n",
    "\n",
    "В копях Мории хоббиты нашли стену, на которой высечены разные натуральные числа. Согласно древним сказаниям, это даты сражений. Но великие сражения происходили только по високосным годам. Помогите хоббитам определить, является ли год с данным числом датой великого сражения. Если это так, то выведите YOU SHALL PASS, иначе выведите YOU SHALL NOT PASS. Напомним, что в соответствии с хоббитским календарем, год является високосным, если его номер кратен 4, но не кратен 100, а также если он кратен 400.\n",
    "\n",
    "**Образец**\n",
    "\n",
    "Входные данные:<br />\n",
    "4<br />\n",
    "\n",
    "Вывод программы: <br />\n",
    "YOU SHALL PASS"
   ]
  },
  {
   "cell_type": "code",
   "execution_count": 106,
   "metadata": {},
   "outputs": [],
   "source": [
    "# ваш код\n"
   ]
  },
  {
   "cell_type": "markdown",
   "metadata": {},
   "source": [
    "###  Задача 2\n",
    "\n",
    "По данному целому числу N найдите квадраты всех чисел, предшествующих N (включая N), в порядке убывания. Сделайте это как минимум двумя способами. (Никто не знает, зачем это понадобилось хоббитам).\n",
    "\n",
    "**Образец**\n",
    "\n",
    "Входные данные: <br />\n",
    "3\n",
    "\n",
    "Вывод программы: <br />\n",
    "9<br />\n",
    "4<br />\n",
    "1<br />"
   ]
  },
  {
   "cell_type": "code",
   "execution_count": 107,
   "metadata": {},
   "outputs": [
    {
     "name": "stdout",
     "output_type": "stream",
     "text": [
      "9\n",
      "4\n",
      "1\n"
     ]
    }
   ],
   "source": [
    "# ваш код \n",
    "x=3\n",
    "while x>0:\n",
    "        print(x**2)\n",
    "        x -=1\n",
    "        "
   ]
  },
  {
   "cell_type": "markdown",
   "metadata": {},
   "source": [
    "## 2. Библиотека Pandas\n",
    "\n",
    "\n",
    "![](http://tripkendall.com/wp-content/uploads/2018/01/pandas_logo-1080x675.jpg)\n",
    "\n",
    " - [Pandas](http://pandas.pydata.org/) - библиотека для обработки и анализа данных.\n",
    " \n",
    "Загрузка любой библиотеки выглядит следующим образом: <br /> \n",
    "**import** название [**as** псевдоним]\n",
    "\n",
    "Обычно список импортируемых библиотек задается в самом начале ноутбука, но мы тут с вами повторяли всякое былое, поэтому импортируем, где придется"
   ]
  },
  {
   "cell_type": "code",
   "execution_count": 108,
   "metadata": {},
   "outputs": [],
   "source": [
    "# для начала импортируем одну замечательную библиотеку\n",
    "import this\n"
   ]
  },
  {
   "cell_type": "code",
   "execution_count": 109,
   "metadata": {},
   "outputs": [],
   "source": [
    "# загрузили библиотеку и задали ее псевдоним, по которому далее к ней будем обращаться: pd\n",
    "import pandas as pd"
   ]
  },
  {
   "cell_type": "code",
   "execution_count": 110,
   "metadata": {},
   "outputs": [],
   "source": [
    "\n",
    "# команда, чтобы картинки прорисовывались прямо в jupyter\n",
    "%matplotlib inline"
   ]
  },
  {
   "cell_type": "markdown",
   "metadata": {},
   "source": [
    "Загружаем табличку с данными."
   ]
  },
  {
   "cell_type": "code",
   "execution_count": 111,
   "metadata": {
    "scrolled": true
   },
   "outputs": [],
   "source": [
    "data = pd.read_csv('data.csv')"
   ]
  },
  {
   "cell_type": "markdown",
   "metadata": {},
   "source": [
    "\n",
    "Выведем первые строки."
   ]
  },
  {
   "cell_type": "code",
   "execution_count": 112,
   "metadata": {},
   "outputs": [
    {
     "data": {
      "text/html": [
       "<div>\n",
       "<style scoped>\n",
       "    .dataframe tbody tr th:only-of-type {\n",
       "        vertical-align: middle;\n",
       "    }\n",
       "\n",
       "    .dataframe tbody tr th {\n",
       "        vertical-align: top;\n",
       "    }\n",
       "\n",
       "    .dataframe thead th {\n",
       "        text-align: right;\n",
       "    }\n",
       "</style>\n",
       "<table border=\"1\" class=\"dataframe\">\n",
       "  <thead>\n",
       "    <tr style=\"text-align: right;\">\n",
       "      <th></th>\n",
       "      <th>Country</th>\n",
       "      <th>Region</th>\n",
       "      <th>Sales Person</th>\n",
       "      <th>Date of Purchase</th>\n",
       "      <th>Total</th>\n",
       "      <th>Quantity</th>\n",
       "    </tr>\n",
       "  </thead>\n",
       "  <tbody>\n",
       "    <tr>\n",
       "      <th>0</th>\n",
       "      <td>India</td>\n",
       "      <td>North</td>\n",
       "      <td>John</td>\n",
       "      <td>2/1/2012 0:00:00</td>\n",
       "      <td>100000</td>\n",
       "      <td>567</td>\n",
       "    </tr>\n",
       "    <tr>\n",
       "      <th>1</th>\n",
       "      <td>US</td>\n",
       "      <td>North</td>\n",
       "      <td>Bill</td>\n",
       "      <td>4/16/2012 0:00:00</td>\n",
       "      <td>120000</td>\n",
       "      <td>3000</td>\n",
       "    </tr>\n",
       "    <tr>\n",
       "      <th>2</th>\n",
       "      <td>UK</td>\n",
       "      <td>North</td>\n",
       "      <td>Thomas</td>\n",
       "      <td>7/31/2014 0:00:00</td>\n",
       "      <td>140000</td>\n",
       "      <td>345</td>\n",
       "    </tr>\n",
       "    <tr>\n",
       "      <th>3</th>\n",
       "      <td>Australia</td>\n",
       "      <td>East</td>\n",
       "      <td>John</td>\n",
       "      <td>11/24/2012 0:00:00</td>\n",
       "      <td>160000</td>\n",
       "      <td>1000</td>\n",
       "    </tr>\n",
       "    <tr>\n",
       "      <th>4</th>\n",
       "      <td>Africa</td>\n",
       "      <td>East</td>\n",
       "      <td>Bill</td>\n",
       "      <td>6/11/2012 0:00:00</td>\n",
       "      <td>180000</td>\n",
       "      <td>123</td>\n",
       "    </tr>\n",
       "    <tr>\n",
       "      <th>5</th>\n",
       "      <td>Singapore</td>\n",
       "      <td>East</td>\n",
       "      <td>Thomas</td>\n",
       "      <td>4/24/2017 0:00:00</td>\n",
       "      <td>200000</td>\n",
       "      <td>1000</td>\n",
       "    </tr>\n",
       "    <tr>\n",
       "      <th>6</th>\n",
       "      <td>Mylasia</td>\n",
       "      <td>West</td>\n",
       "      <td>John</td>\n",
       "      <td>10/18/2013 0:00:00</td>\n",
       "      <td>1000000</td>\n",
       "      <td>7890</td>\n",
       "    </tr>\n",
       "    <tr>\n",
       "      <th>7</th>\n",
       "      <td>India</td>\n",
       "      <td>West</td>\n",
       "      <td>Bill</td>\n",
       "      <td>8/18/2018 0:00:00</td>\n",
       "      <td>240000</td>\n",
       "      <td>200</td>\n",
       "    </tr>\n",
       "    <tr>\n",
       "      <th>8</th>\n",
       "      <td>US</td>\n",
       "      <td>West</td>\n",
       "      <td>Thomas</td>\n",
       "      <td>12/25/2013 0:00:00</td>\n",
       "      <td>26000000</td>\n",
       "      <td>1000</td>\n",
       "    </tr>\n",
       "    <tr>\n",
       "      <th>9</th>\n",
       "      <td>UK</td>\n",
       "      <td>North</td>\n",
       "      <td>John</td>\n",
       "      <td>4/9/2016 0:00:00</td>\n",
       "      <td>100000</td>\n",
       "      <td>1000</td>\n",
       "    </tr>\n",
       "  </tbody>\n",
       "</table>\n",
       "</div>"
      ],
      "text/plain": [
       "     Country Region Sales Person    Date of Purchase     Total  Quantity\n",
       "0      India  North         John    2/1/2012 0:00:00    100000       567\n",
       "1         US  North         Bill   4/16/2012 0:00:00    120000      3000\n",
       "2         UK  North       Thomas   7/31/2014 0:00:00    140000       345\n",
       "3  Australia   East         John  11/24/2012 0:00:00    160000      1000\n",
       "4     Africa   East         Bill   6/11/2012 0:00:00    180000       123\n",
       "5  Singapore   East       Thomas   4/24/2017 0:00:00    200000      1000\n",
       "6    Mylasia   West         John  10/18/2013 0:00:00   1000000      7890\n",
       "7      India   West         Bill   8/18/2018 0:00:00    240000       200\n",
       "8         US   West       Thomas  12/25/2013 0:00:00  26000000      1000\n",
       "9         UK  North         John    4/9/2016 0:00:00    100000      1000"
      ]
     },
     "execution_count": 112,
     "metadata": {},
     "output_type": "execute_result"
    }
   ],
   "source": [
    "data.head(10)\n"
   ]
  },
  {
   "cell_type": "markdown",
   "metadata": {},
   "source": [
    "Посмотрим на типы колонок, которые есть в нашей таблице."
   ]
  },
  {
   "cell_type": "code",
   "execution_count": 113,
   "metadata": {},
   "outputs": [
    {
     "name": "stdout",
     "output_type": "stream",
     "text": [
      "<class 'pandas.core.frame.DataFrame'>\n",
      "RangeIndex: 20 entries, 0 to 19\n",
      "Data columns (total 6 columns):\n",
      "Country             20 non-null object\n",
      "Region              20 non-null object\n",
      "Sales Person        20 non-null object\n",
      "Date of Purchase    20 non-null object\n",
      "Total               20 non-null int64\n",
      "Quantity            20 non-null int64\n",
      "dtypes: int64(2), object(4)\n",
      "memory usage: 1.0+ KB\n"
     ]
    }
   ],
   "source": [
    "data.info()"
   ]
  },
  {
   "cell_type": "markdown",
   "metadata": {},
   "source": [
    "С такой же лёгкостью можно посмотреть на описательные статистики. Но про низ мы будем говорить через пару. "
   ]
  },
  {
   "cell_type": "code",
   "execution_count": 114,
   "metadata": {},
   "outputs": [
    {
     "data": {
      "text/html": [
       "<div>\n",
       "<style scoped>\n",
       "    .dataframe tbody tr th:only-of-type {\n",
       "        vertical-align: middle;\n",
       "    }\n",
       "\n",
       "    .dataframe tbody tr th {\n",
       "        vertical-align: top;\n",
       "    }\n",
       "\n",
       "    .dataframe thead th {\n",
       "        text-align: right;\n",
       "    }\n",
       "</style>\n",
       "<table border=\"1\" class=\"dataframe\">\n",
       "  <thead>\n",
       "    <tr style=\"text-align: right;\">\n",
       "      <th></th>\n",
       "      <th>Total</th>\n",
       "      <th>Quantity</th>\n",
       "    </tr>\n",
       "  </thead>\n",
       "  <tbody>\n",
       "    <tr>\n",
       "      <th>count</th>\n",
       "      <td>2.000000e+01</td>\n",
       "      <td>20.000000</td>\n",
       "    </tr>\n",
       "    <tr>\n",
       "      <th>mean</th>\n",
       "      <td>1.502500e+06</td>\n",
       "      <td>977.900000</td>\n",
       "    </tr>\n",
       "    <tr>\n",
       "      <th>std</th>\n",
       "      <td>5.769280e+06</td>\n",
       "      <td>1761.923497</td>\n",
       "    </tr>\n",
       "    <tr>\n",
       "      <th>min</th>\n",
       "      <td>1.000000e+05</td>\n",
       "      <td>85.000000</td>\n",
       "    </tr>\n",
       "    <tr>\n",
       "      <th>25%</th>\n",
       "      <td>1.400000e+05</td>\n",
       "      <td>90.000000</td>\n",
       "    </tr>\n",
       "    <tr>\n",
       "      <th>50%</th>\n",
       "      <td>1.700000e+05</td>\n",
       "      <td>505.500000</td>\n",
       "    </tr>\n",
       "    <tr>\n",
       "      <th>75%</th>\n",
       "      <td>2.250000e+05</td>\n",
       "      <td>1000.000000</td>\n",
       "    </tr>\n",
       "    <tr>\n",
       "      <th>max</th>\n",
       "      <td>2.600000e+07</td>\n",
       "      <td>7890.000000</td>\n",
       "    </tr>\n",
       "  </tbody>\n",
       "</table>\n",
       "</div>"
      ],
      "text/plain": [
       "              Total     Quantity\n",
       "count  2.000000e+01    20.000000\n",
       "mean   1.502500e+06   977.900000\n",
       "std    5.769280e+06  1761.923497\n",
       "min    1.000000e+05    85.000000\n",
       "25%    1.400000e+05    90.000000\n",
       "50%    1.700000e+05   505.500000\n",
       "75%    2.250000e+05  1000.000000\n",
       "max    2.600000e+07  7890.000000"
      ]
     },
     "execution_count": 114,
     "metadata": {},
     "output_type": "execute_result"
    }
   ],
   "source": [
    "data.describe()"
   ]
  },
  {
   "cell_type": "markdown",
   "metadata": {},
   "source": [
    "Посмотрим на список уникальных стран, которые есть в таблице:"
   ]
  },
  {
   "cell_type": "code",
   "execution_count": 115,
   "metadata": {},
   "outputs": [
    {
     "data": {
      "text/plain": [
       "array(['India', 'US', 'UK', 'Australia', 'Africa', 'Singapore', 'Mylasia'],\n",
       "      dtype=object)"
      ]
     },
     "execution_count": 115,
     "metadata": {},
     "output_type": "execute_result"
    }
   ],
   "source": [
    "data[\"Country\"].unique()"
   ]
  },
  {
   "cell_type": "markdown",
   "metadata": {},
   "source": [
    "Мы можем тут же создать новую переменную, которая объединяет страну и регион."
   ]
  },
  {
   "cell_type": "code",
   "execution_count": 116,
   "metadata": {},
   "outputs": [],
   "source": [
    "data['Subregion'] = [x+'_'+y for x,y in zip(data['Region'], data['Country'])]"
   ]
  },
  {
   "cell_type": "markdown",
   "metadata": {},
   "source": [
    "В табличке появилась новая колонка."
   ]
  },
  {
   "cell_type": "code",
   "execution_count": 117,
   "metadata": {
    "scrolled": true
   },
   "outputs": [
    {
     "data": {
      "text/html": [
       "<div>\n",
       "<style scoped>\n",
       "    .dataframe tbody tr th:only-of-type {\n",
       "        vertical-align: middle;\n",
       "    }\n",
       "\n",
       "    .dataframe tbody tr th {\n",
       "        vertical-align: top;\n",
       "    }\n",
       "\n",
       "    .dataframe thead th {\n",
       "        text-align: right;\n",
       "    }\n",
       "</style>\n",
       "<table border=\"1\" class=\"dataframe\">\n",
       "  <thead>\n",
       "    <tr style=\"text-align: right;\">\n",
       "      <th></th>\n",
       "      <th>Country</th>\n",
       "      <th>Region</th>\n",
       "      <th>Sales Person</th>\n",
       "      <th>Date of Purchase</th>\n",
       "      <th>Total</th>\n",
       "      <th>Quantity</th>\n",
       "      <th>Subregion</th>\n",
       "    </tr>\n",
       "  </thead>\n",
       "  <tbody>\n",
       "    <tr>\n",
       "      <th>0</th>\n",
       "      <td>India</td>\n",
       "      <td>North</td>\n",
       "      <td>John</td>\n",
       "      <td>2/1/2012 0:00:00</td>\n",
       "      <td>100000</td>\n",
       "      <td>567</td>\n",
       "      <td>North_India</td>\n",
       "    </tr>\n",
       "    <tr>\n",
       "      <th>1</th>\n",
       "      <td>US</td>\n",
       "      <td>North</td>\n",
       "      <td>Bill</td>\n",
       "      <td>4/16/2012 0:00:00</td>\n",
       "      <td>120000</td>\n",
       "      <td>3000</td>\n",
       "      <td>North_US</td>\n",
       "    </tr>\n",
       "    <tr>\n",
       "      <th>2</th>\n",
       "      <td>UK</td>\n",
       "      <td>North</td>\n",
       "      <td>Thomas</td>\n",
       "      <td>7/31/2014 0:00:00</td>\n",
       "      <td>140000</td>\n",
       "      <td>345</td>\n",
       "      <td>North_UK</td>\n",
       "    </tr>\n",
       "    <tr>\n",
       "      <th>3</th>\n",
       "      <td>Australia</td>\n",
       "      <td>East</td>\n",
       "      <td>John</td>\n",
       "      <td>11/24/2012 0:00:00</td>\n",
       "      <td>160000</td>\n",
       "      <td>1000</td>\n",
       "      <td>East_Australia</td>\n",
       "    </tr>\n",
       "    <tr>\n",
       "      <th>4</th>\n",
       "      <td>Africa</td>\n",
       "      <td>East</td>\n",
       "      <td>Bill</td>\n",
       "      <td>6/11/2012 0:00:00</td>\n",
       "      <td>180000</td>\n",
       "      <td>123</td>\n",
       "      <td>East_Africa</td>\n",
       "    </tr>\n",
       "    <tr>\n",
       "      <th>5</th>\n",
       "      <td>Singapore</td>\n",
       "      <td>East</td>\n",
       "      <td>Thomas</td>\n",
       "      <td>4/24/2017 0:00:00</td>\n",
       "      <td>200000</td>\n",
       "      <td>1000</td>\n",
       "      <td>East_Singapore</td>\n",
       "    </tr>\n",
       "    <tr>\n",
       "      <th>6</th>\n",
       "      <td>Mylasia</td>\n",
       "      <td>West</td>\n",
       "      <td>John</td>\n",
       "      <td>10/18/2013 0:00:00</td>\n",
       "      <td>1000000</td>\n",
       "      <td>7890</td>\n",
       "      <td>West_Mylasia</td>\n",
       "    </tr>\n",
       "    <tr>\n",
       "      <th>7</th>\n",
       "      <td>India</td>\n",
       "      <td>West</td>\n",
       "      <td>Bill</td>\n",
       "      <td>8/18/2018 0:00:00</td>\n",
       "      <td>240000</td>\n",
       "      <td>200</td>\n",
       "      <td>West_India</td>\n",
       "    </tr>\n",
       "    <tr>\n",
       "      <th>8</th>\n",
       "      <td>US</td>\n",
       "      <td>West</td>\n",
       "      <td>Thomas</td>\n",
       "      <td>12/25/2013 0:00:00</td>\n",
       "      <td>26000000</td>\n",
       "      <td>1000</td>\n",
       "      <td>West_US</td>\n",
       "    </tr>\n",
       "    <tr>\n",
       "      <th>9</th>\n",
       "      <td>UK</td>\n",
       "      <td>North</td>\n",
       "      <td>John</td>\n",
       "      <td>4/9/2016 0:00:00</td>\n",
       "      <td>100000</td>\n",
       "      <td>1000</td>\n",
       "      <td>North_UK</td>\n",
       "    </tr>\n",
       "  </tbody>\n",
       "</table>\n",
       "</div>"
      ],
      "text/plain": [
       "     Country Region Sales Person    Date of Purchase     Total  Quantity  \\\n",
       "0      India  North         John    2/1/2012 0:00:00    100000       567   \n",
       "1         US  North         Bill   4/16/2012 0:00:00    120000      3000   \n",
       "2         UK  North       Thomas   7/31/2014 0:00:00    140000       345   \n",
       "3  Australia   East         John  11/24/2012 0:00:00    160000      1000   \n",
       "4     Africa   East         Bill   6/11/2012 0:00:00    180000       123   \n",
       "5  Singapore   East       Thomas   4/24/2017 0:00:00    200000      1000   \n",
       "6    Mylasia   West         John  10/18/2013 0:00:00   1000000      7890   \n",
       "7      India   West         Bill   8/18/2018 0:00:00    240000       200   \n",
       "8         US   West       Thomas  12/25/2013 0:00:00  26000000      1000   \n",
       "9         UK  North         John    4/9/2016 0:00:00    100000      1000   \n",
       "\n",
       "        Subregion  \n",
       "0     North_India  \n",
       "1        North_US  \n",
       "2        North_UK  \n",
       "3  East_Australia  \n",
       "4     East_Africa  \n",
       "5  East_Singapore  \n",
       "6    West_Mylasia  \n",
       "7      West_India  \n",
       "8         West_US  \n",
       "9        North_UK  "
      ]
     },
     "execution_count": 117,
     "metadata": {},
     "output_type": "execute_result"
    }
   ],
   "source": [
    "data.head(10)"
   ]
  },
  {
   "cell_type": "code",
   "execution_count": 118,
   "metadata": {},
   "outputs": [
    {
     "data": {
      "text/html": [
       "<div>\n",
       "<style scoped>\n",
       "    .dataframe tbody tr th:only-of-type {\n",
       "        vertical-align: middle;\n",
       "    }\n",
       "\n",
       "    .dataframe tbody tr th {\n",
       "        vertical-align: top;\n",
       "    }\n",
       "\n",
       "    .dataframe thead th {\n",
       "        text-align: right;\n",
       "    }\n",
       "</style>\n",
       "<table border=\"1\" class=\"dataframe\">\n",
       "  <thead>\n",
       "    <tr style=\"text-align: right;\">\n",
       "      <th></th>\n",
       "      <th>Country</th>\n",
       "      <th>Region</th>\n",
       "      <th>Sales Person</th>\n",
       "      <th>Date of Purchase</th>\n",
       "      <th>Total</th>\n",
       "      <th>Quantity</th>\n",
       "      <th>Subregion</th>\n",
       "      <th>price</th>\n",
       "    </tr>\n",
       "  </thead>\n",
       "  <tbody>\n",
       "    <tr>\n",
       "      <th>0</th>\n",
       "      <td>India</td>\n",
       "      <td>North</td>\n",
       "      <td>John</td>\n",
       "      <td>2/1/2012 0:00:00</td>\n",
       "      <td>100000</td>\n",
       "      <td>567</td>\n",
       "      <td>North_India</td>\n",
       "      <td>176.366843</td>\n",
       "    </tr>\n",
       "    <tr>\n",
       "      <th>1</th>\n",
       "      <td>US</td>\n",
       "      <td>North</td>\n",
       "      <td>Bill</td>\n",
       "      <td>4/16/2012 0:00:00</td>\n",
       "      <td>120000</td>\n",
       "      <td>3000</td>\n",
       "      <td>North_US</td>\n",
       "      <td>40.000000</td>\n",
       "    </tr>\n",
       "    <tr>\n",
       "      <th>2</th>\n",
       "      <td>UK</td>\n",
       "      <td>North</td>\n",
       "      <td>Thomas</td>\n",
       "      <td>7/31/2014 0:00:00</td>\n",
       "      <td>140000</td>\n",
       "      <td>345</td>\n",
       "      <td>North_UK</td>\n",
       "      <td>405.797101</td>\n",
       "    </tr>\n",
       "    <tr>\n",
       "      <th>3</th>\n",
       "      <td>Australia</td>\n",
       "      <td>East</td>\n",
       "      <td>John</td>\n",
       "      <td>11/24/2012 0:00:00</td>\n",
       "      <td>160000</td>\n",
       "      <td>1000</td>\n",
       "      <td>East_Australia</td>\n",
       "      <td>160.000000</td>\n",
       "    </tr>\n",
       "    <tr>\n",
       "      <th>4</th>\n",
       "      <td>Africa</td>\n",
       "      <td>East</td>\n",
       "      <td>Bill</td>\n",
       "      <td>6/11/2012 0:00:00</td>\n",
       "      <td>180000</td>\n",
       "      <td>123</td>\n",
       "      <td>East_Africa</td>\n",
       "      <td>1463.414634</td>\n",
       "    </tr>\n",
       "  </tbody>\n",
       "</table>\n",
       "</div>"
      ],
      "text/plain": [
       "     Country Region Sales Person    Date of Purchase   Total  Quantity  \\\n",
       "0      India  North         John    2/1/2012 0:00:00  100000       567   \n",
       "1         US  North         Bill   4/16/2012 0:00:00  120000      3000   \n",
       "2         UK  North       Thomas   7/31/2014 0:00:00  140000       345   \n",
       "3  Australia   East         John  11/24/2012 0:00:00  160000      1000   \n",
       "4     Africa   East         Bill   6/11/2012 0:00:00  180000       123   \n",
       "\n",
       "        Subregion        price  \n",
       "0     North_India   176.366843  \n",
       "1        North_US    40.000000  \n",
       "2        North_UK   405.797101  \n",
       "3  East_Australia   160.000000  \n",
       "4     East_Africa  1463.414634  "
      ]
     },
     "execution_count": 118,
     "metadata": {},
     "output_type": "execute_result"
    }
   ],
   "source": [
    "#Поделим столбцы для создания новой переменной\n",
    "data [\"price\"]=data[\"Total\"]/data[\"Quantity\"]\n",
    "data.head()"
   ]
  },
  {
   "cell_type": "code",
   "execution_count": 119,
   "metadata": {},
   "outputs": [
    {
     "data": {
      "text/html": [
       "<div>\n",
       "<style scoped>\n",
       "    .dataframe tbody tr th:only-of-type {\n",
       "        vertical-align: middle;\n",
       "    }\n",
       "\n",
       "    .dataframe tbody tr th {\n",
       "        vertical-align: top;\n",
       "    }\n",
       "\n",
       "    .dataframe thead th {\n",
       "        text-align: right;\n",
       "    }\n",
       "</style>\n",
       "<table border=\"1\" class=\"dataframe\">\n",
       "  <thead>\n",
       "    <tr style=\"text-align: right;\">\n",
       "      <th></th>\n",
       "      <th>Country</th>\n",
       "      <th>Region</th>\n",
       "      <th>Sales Person</th>\n",
       "      <th>Date of Purchase</th>\n",
       "      <th>Total</th>\n",
       "      <th>Quantity</th>\n",
       "      <th>Subregion</th>\n",
       "      <th>price</th>\n",
       "    </tr>\n",
       "  </thead>\n",
       "  <tbody>\n",
       "    <tr>\n",
       "      <th>4</th>\n",
       "      <td>Africa</td>\n",
       "      <td>East</td>\n",
       "      <td>Bill</td>\n",
       "      <td>6/11/2012 0:00:00</td>\n",
       "      <td>180000</td>\n",
       "      <td>123</td>\n",
       "      <td>East_Africa</td>\n",
       "      <td>1463.414634</td>\n",
       "    </tr>\n",
       "    <tr>\n",
       "      <th>18</th>\n",
       "      <td>Africa</td>\n",
       "      <td>North</td>\n",
       "      <td>John</td>\n",
       "      <td>12/14/2015 0:00:00</td>\n",
       "      <td>140000</td>\n",
       "      <td>85</td>\n",
       "      <td>North_Africa</td>\n",
       "      <td>1647.058824</td>\n",
       "    </tr>\n",
       "    <tr>\n",
       "      <th>11</th>\n",
       "      <td>Africa</td>\n",
       "      <td>North</td>\n",
       "      <td>Thomas</td>\n",
       "      <td>6/10/2012 0:00:00</td>\n",
       "      <td>140000</td>\n",
       "      <td>1000</td>\n",
       "      <td>North_Africa</td>\n",
       "      <td>140.000000</td>\n",
       "    </tr>\n",
       "    <tr>\n",
       "      <th>17</th>\n",
       "      <td>Australia</td>\n",
       "      <td>West</td>\n",
       "      <td>Thomas</td>\n",
       "      <td>10/29/2016 0:00:00</td>\n",
       "      <td>260000</td>\n",
       "      <td>90</td>\n",
       "      <td>West_Australia</td>\n",
       "      <td>2888.888889</td>\n",
       "    </tr>\n",
       "    <tr>\n",
       "      <th>3</th>\n",
       "      <td>Australia</td>\n",
       "      <td>East</td>\n",
       "      <td>John</td>\n",
       "      <td>11/24/2012 0:00:00</td>\n",
       "      <td>160000</td>\n",
       "      <td>1000</td>\n",
       "      <td>East_Australia</td>\n",
       "      <td>160.000000</td>\n",
       "    </tr>\n",
       "    <tr>\n",
       "      <th>10</th>\n",
       "      <td>Australia</td>\n",
       "      <td>North</td>\n",
       "      <td>Bill</td>\n",
       "      <td>7/29/2010 0:00:00</td>\n",
       "      <td>120000</td>\n",
       "      <td>567</td>\n",
       "      <td>North_Australia</td>\n",
       "      <td>211.640212</td>\n",
       "    </tr>\n",
       "    <tr>\n",
       "      <th>0</th>\n",
       "      <td>India</td>\n",
       "      <td>North</td>\n",
       "      <td>John</td>\n",
       "      <td>2/1/2012 0:00:00</td>\n",
       "      <td>100000</td>\n",
       "      <td>567</td>\n",
       "      <td>North_India</td>\n",
       "      <td>176.366843</td>\n",
       "    </tr>\n",
       "    <tr>\n",
       "      <th>14</th>\n",
       "      <td>India</td>\n",
       "      <td>East</td>\n",
       "      <td>Thomas</td>\n",
       "      <td>8/17/2014 0:00:00</td>\n",
       "      <td>200000</td>\n",
       "      <td>90</td>\n",
       "      <td>East_India</td>\n",
       "      <td>2222.222222</td>\n",
       "    </tr>\n",
       "    <tr>\n",
       "      <th>7</th>\n",
       "      <td>India</td>\n",
       "      <td>West</td>\n",
       "      <td>Bill</td>\n",
       "      <td>8/18/2018 0:00:00</td>\n",
       "      <td>240000</td>\n",
       "      <td>200</td>\n",
       "      <td>West_India</td>\n",
       "      <td>1200.000000</td>\n",
       "    </tr>\n",
       "    <tr>\n",
       "      <th>13</th>\n",
       "      <td>Mylasia</td>\n",
       "      <td>East</td>\n",
       "      <td>Bill</td>\n",
       "      <td>6/10/2013 0:00:00</td>\n",
       "      <td>180000</td>\n",
       "      <td>444</td>\n",
       "      <td>East_Mylasia</td>\n",
       "      <td>405.405405</td>\n",
       "    </tr>\n",
       "    <tr>\n",
       "      <th>6</th>\n",
       "      <td>Mylasia</td>\n",
       "      <td>West</td>\n",
       "      <td>John</td>\n",
       "      <td>10/18/2013 0:00:00</td>\n",
       "      <td>1000000</td>\n",
       "      <td>7890</td>\n",
       "      <td>West_Mylasia</td>\n",
       "      <td>126.742712</td>\n",
       "    </tr>\n",
       "    <tr>\n",
       "      <th>12</th>\n",
       "      <td>Singapore</td>\n",
       "      <td>East</td>\n",
       "      <td>John</td>\n",
       "      <td>4/24/2018 0:00:00</td>\n",
       "      <td>160000</td>\n",
       "      <td>892</td>\n",
       "      <td>East_Singapore</td>\n",
       "      <td>179.372197</td>\n",
       "    </tr>\n",
       "    <tr>\n",
       "      <th>19</th>\n",
       "      <td>Singapore</td>\n",
       "      <td>North</td>\n",
       "      <td>Bill</td>\n",
       "      <td>1/25/2012 0:00:00</td>\n",
       "      <td>150000</td>\n",
       "      <td>85</td>\n",
       "      <td>North_Singapore</td>\n",
       "      <td>1764.705882</td>\n",
       "    </tr>\n",
       "    <tr>\n",
       "      <th>5</th>\n",
       "      <td>Singapore</td>\n",
       "      <td>East</td>\n",
       "      <td>Thomas</td>\n",
       "      <td>4/24/2017 0:00:00</td>\n",
       "      <td>200000</td>\n",
       "      <td>1000</td>\n",
       "      <td>East_Singapore</td>\n",
       "      <td>200.000000</td>\n",
       "    </tr>\n",
       "    <tr>\n",
       "      <th>2</th>\n",
       "      <td>UK</td>\n",
       "      <td>North</td>\n",
       "      <td>Thomas</td>\n",
       "      <td>7/31/2014 0:00:00</td>\n",
       "      <td>140000</td>\n",
       "      <td>345</td>\n",
       "      <td>North_UK</td>\n",
       "      <td>405.797101</td>\n",
       "    </tr>\n",
       "    <tr>\n",
       "      <th>16</th>\n",
       "      <td>UK</td>\n",
       "      <td>West</td>\n",
       "      <td>Bill</td>\n",
       "      <td>4/28/2011 0:00:00</td>\n",
       "      <td>240000</td>\n",
       "      <td>90</td>\n",
       "      <td>West_UK</td>\n",
       "      <td>2666.666667</td>\n",
       "    </tr>\n",
       "    <tr>\n",
       "      <th>9</th>\n",
       "      <td>UK</td>\n",
       "      <td>North</td>\n",
       "      <td>John</td>\n",
       "      <td>4/9/2016 0:00:00</td>\n",
       "      <td>100000</td>\n",
       "      <td>1000</td>\n",
       "      <td>North_UK</td>\n",
       "      <td>100.000000</td>\n",
       "    </tr>\n",
       "    <tr>\n",
       "      <th>15</th>\n",
       "      <td>US</td>\n",
       "      <td>West</td>\n",
       "      <td>John</td>\n",
       "      <td>8/1/2013 0:00:00</td>\n",
       "      <td>220000</td>\n",
       "      <td>90</td>\n",
       "      <td>West_US</td>\n",
       "      <td>2444.444444</td>\n",
       "    </tr>\n",
       "    <tr>\n",
       "      <th>1</th>\n",
       "      <td>US</td>\n",
       "      <td>North</td>\n",
       "      <td>Bill</td>\n",
       "      <td>4/16/2012 0:00:00</td>\n",
       "      <td>120000</td>\n",
       "      <td>3000</td>\n",
       "      <td>North_US</td>\n",
       "      <td>40.000000</td>\n",
       "    </tr>\n",
       "    <tr>\n",
       "      <th>8</th>\n",
       "      <td>US</td>\n",
       "      <td>West</td>\n",
       "      <td>Thomas</td>\n",
       "      <td>12/25/2013 0:00:00</td>\n",
       "      <td>26000000</td>\n",
       "      <td>1000</td>\n",
       "      <td>West_US</td>\n",
       "      <td>26000.000000</td>\n",
       "    </tr>\n",
       "  </tbody>\n",
       "</table>\n",
       "</div>"
      ],
      "text/plain": [
       "      Country Region Sales Person    Date of Purchase     Total  Quantity  \\\n",
       "4      Africa   East         Bill   6/11/2012 0:00:00    180000       123   \n",
       "18     Africa  North         John  12/14/2015 0:00:00    140000        85   \n",
       "11     Africa  North       Thomas   6/10/2012 0:00:00    140000      1000   \n",
       "17  Australia   West       Thomas  10/29/2016 0:00:00    260000        90   \n",
       "3   Australia   East         John  11/24/2012 0:00:00    160000      1000   \n",
       "10  Australia  North         Bill   7/29/2010 0:00:00    120000       567   \n",
       "0       India  North         John    2/1/2012 0:00:00    100000       567   \n",
       "14      India   East       Thomas   8/17/2014 0:00:00    200000        90   \n",
       "7       India   West         Bill   8/18/2018 0:00:00    240000       200   \n",
       "13    Mylasia   East         Bill   6/10/2013 0:00:00    180000       444   \n",
       "6     Mylasia   West         John  10/18/2013 0:00:00   1000000      7890   \n",
       "12  Singapore   East         John   4/24/2018 0:00:00    160000       892   \n",
       "19  Singapore  North         Bill   1/25/2012 0:00:00    150000        85   \n",
       "5   Singapore   East       Thomas   4/24/2017 0:00:00    200000      1000   \n",
       "2          UK  North       Thomas   7/31/2014 0:00:00    140000       345   \n",
       "16         UK   West         Bill   4/28/2011 0:00:00    240000        90   \n",
       "9          UK  North         John    4/9/2016 0:00:00    100000      1000   \n",
       "15         US   West         John    8/1/2013 0:00:00    220000        90   \n",
       "1          US  North         Bill   4/16/2012 0:00:00    120000      3000   \n",
       "8          US   West       Thomas  12/25/2013 0:00:00  26000000      1000   \n",
       "\n",
       "          Subregion         price  \n",
       "4       East_Africa   1463.414634  \n",
       "18     North_Africa   1647.058824  \n",
       "11     North_Africa    140.000000  \n",
       "17   West_Australia   2888.888889  \n",
       "3    East_Australia    160.000000  \n",
       "10  North_Australia    211.640212  \n",
       "0       North_India    176.366843  \n",
       "14       East_India   2222.222222  \n",
       "7        West_India   1200.000000  \n",
       "13     East_Mylasia    405.405405  \n",
       "6      West_Mylasia    126.742712  \n",
       "12   East_Singapore    179.372197  \n",
       "19  North_Singapore   1764.705882  \n",
       "5    East_Singapore    200.000000  \n",
       "2          North_UK    405.797101  \n",
       "16          West_UK   2666.666667  \n",
       "9          North_UK    100.000000  \n",
       "15          West_US   2444.444444  \n",
       "1          North_US     40.000000  \n",
       "8           West_US  26000.000000  "
      ]
     },
     "execution_count": 119,
     "metadata": {},
     "output_type": "execute_result"
    }
   ],
   "source": [
    "#Отсортируем наблюдения по столбцу:\n",
    "\n",
    "data.sort_values(by=\"Country\",ascending=True)"
   ]
  },
  {
   "cell_type": "markdown",
   "metadata": {},
   "source": [
    "`Date of Purchase` имеет формат `str`, хотя очевидно, что это дата, давайте приведем его к формату даты: `datetime.datetime`."
   ]
  },
  {
   "cell_type": "code",
   "execution_count": 120,
   "metadata": {},
   "outputs": [],
   "source": [
    "# для этого нам понадобиться ещё один пакет, который позволяет работать с датами\n",
    "from datetime import datetime"
   ]
  },
  {
   "cell_type": "code",
   "execution_count": 121,
   "metadata": {},
   "outputs": [
    {
     "data": {
      "text/plain": [
       "[datetime.datetime(2012, 2, 1, 0, 0),\n",
       " datetime.datetime(2012, 4, 16, 0, 0),\n",
       " datetime.datetime(2014, 7, 31, 0, 0),\n",
       " datetime.datetime(2012, 11, 24, 0, 0),\n",
       " datetime.datetime(2012, 6, 11, 0, 0),\n",
       " datetime.datetime(2017, 4, 24, 0, 0),\n",
       " datetime.datetime(2013, 10, 18, 0, 0),\n",
       " datetime.datetime(2018, 8, 18, 0, 0),\n",
       " datetime.datetime(2013, 12, 25, 0, 0),\n",
       " datetime.datetime(2016, 4, 9, 0, 0),\n",
       " datetime.datetime(2010, 7, 29, 0, 0),\n",
       " datetime.datetime(2012, 6, 10, 0, 0),\n",
       " datetime.datetime(2018, 4, 24, 0, 0),\n",
       " datetime.datetime(2013, 6, 10, 0, 0),\n",
       " datetime.datetime(2014, 8, 17, 0, 0),\n",
       " datetime.datetime(2013, 8, 1, 0, 0),\n",
       " datetime.datetime(2011, 4, 28, 0, 0),\n",
       " datetime.datetime(2016, 10, 29, 0, 0),\n",
       " datetime.datetime(2015, 12, 14, 0, 0),\n",
       " datetime.datetime(2012, 1, 25, 0, 0)]"
      ]
     },
     "execution_count": 121,
     "metadata": {},
     "output_type": "execute_result"
    }
   ],
   "source": [
    "index_1 = [datetime.strptime(x, '%m/%d/%Y %H:%M:%S') for x in data['Date of Purchase']]\n",
    "\n",
    "# каждая строка это определенный день в формате (год, месяц, день, час, минута)\n",
    "index_1 "
   ]
  },
  {
   "cell_type": "code",
   "execution_count": 122,
   "metadata": {},
   "outputs": [
    {
     "data": {
      "text/plain": [
       "0    2012-02-01\n",
       "1    2012-04-16\n",
       "2    2014-07-31\n",
       "3    2012-11-24\n",
       "4    2012-06-11\n",
       "5    2017-04-24\n",
       "6    2013-10-18\n",
       "7    2018-08-18\n",
       "8    2013-12-25\n",
       "9    2016-04-09\n",
       "10   2010-07-29\n",
       "11   2012-06-10\n",
       "12   2018-04-24\n",
       "13   2013-06-10\n",
       "14   2014-08-17\n",
       "15   2013-08-01\n",
       "16   2011-04-28\n",
       "17   2016-10-29\n",
       "18   2015-12-14\n",
       "19   2012-01-25\n",
       "Name: Date of Purchase, dtype: datetime64[ns]"
      ]
     },
     "execution_count": 122,
     "metadata": {},
     "output_type": "execute_result"
    }
   ],
   "source": [
    "\n",
    "index2=data[\"Date of Purchase\"].apply(lambda x:datetime.strptime(x, \"%m/%d/%Y %H:%M:%S\"))\n",
    "# переведём дату в более удобоваримый вид \n",
    "index2\n",
    "\n"
   ]
  },
  {
   "cell_type": "code",
   "execution_count": 123,
   "metadata": {},
   "outputs": [],
   "source": [
    " # создадим у таблицы индекс, с ним удобно работать \n",
    "data.index=index2"
   ]
  },
  {
   "cell_type": "markdown",
   "metadata": {},
   "source": [
    "### Примеры обращения по индексу"
   ]
  },
  {
   "cell_type": "code",
   "execution_count": 124,
   "metadata": {},
   "outputs": [
    {
     "data": {
      "text/html": [
       "<div>\n",
       "<style scoped>\n",
       "    .dataframe tbody tr th:only-of-type {\n",
       "        vertical-align: middle;\n",
       "    }\n",
       "\n",
       "    .dataframe tbody tr th {\n",
       "        vertical-align: top;\n",
       "    }\n",
       "\n",
       "    .dataframe thead th {\n",
       "        text-align: right;\n",
       "    }\n",
       "</style>\n",
       "<table border=\"1\" class=\"dataframe\">\n",
       "  <thead>\n",
       "    <tr style=\"text-align: right;\">\n",
       "      <th></th>\n",
       "      <th>Country</th>\n",
       "      <th>Region</th>\n",
       "      <th>Sales Person</th>\n",
       "      <th>Date of Purchase</th>\n",
       "      <th>Total</th>\n",
       "      <th>Quantity</th>\n",
       "      <th>Subregion</th>\n",
       "      <th>price</th>\n",
       "    </tr>\n",
       "    <tr>\n",
       "      <th>Date of Purchase</th>\n",
       "      <th></th>\n",
       "      <th></th>\n",
       "      <th></th>\n",
       "      <th></th>\n",
       "      <th></th>\n",
       "      <th></th>\n",
       "      <th></th>\n",
       "      <th></th>\n",
       "    </tr>\n",
       "  </thead>\n",
       "  <tbody>\n",
       "    <tr>\n",
       "      <th>2012-02-01</th>\n",
       "      <td>India</td>\n",
       "      <td>North</td>\n",
       "      <td>John</td>\n",
       "      <td>2/1/2012 0:00:00</td>\n",
       "      <td>100000</td>\n",
       "      <td>567</td>\n",
       "      <td>North_India</td>\n",
       "      <td>176.366843</td>\n",
       "    </tr>\n",
       "    <tr>\n",
       "      <th>2012-04-16</th>\n",
       "      <td>US</td>\n",
       "      <td>North</td>\n",
       "      <td>Bill</td>\n",
       "      <td>4/16/2012 0:00:00</td>\n",
       "      <td>120000</td>\n",
       "      <td>3000</td>\n",
       "      <td>North_US</td>\n",
       "      <td>40.000000</td>\n",
       "    </tr>\n",
       "    <tr>\n",
       "      <th>2012-11-24</th>\n",
       "      <td>Australia</td>\n",
       "      <td>East</td>\n",
       "      <td>John</td>\n",
       "      <td>11/24/2012 0:00:00</td>\n",
       "      <td>160000</td>\n",
       "      <td>1000</td>\n",
       "      <td>East_Australia</td>\n",
       "      <td>160.000000</td>\n",
       "    </tr>\n",
       "    <tr>\n",
       "      <th>2012-06-11</th>\n",
       "      <td>Africa</td>\n",
       "      <td>East</td>\n",
       "      <td>Bill</td>\n",
       "      <td>6/11/2012 0:00:00</td>\n",
       "      <td>180000</td>\n",
       "      <td>123</td>\n",
       "      <td>East_Africa</td>\n",
       "      <td>1463.414634</td>\n",
       "    </tr>\n",
       "    <tr>\n",
       "      <th>2010-07-29</th>\n",
       "      <td>Australia</td>\n",
       "      <td>North</td>\n",
       "      <td>Bill</td>\n",
       "      <td>7/29/2010 0:00:00</td>\n",
       "      <td>120000</td>\n",
       "      <td>567</td>\n",
       "      <td>North_Australia</td>\n",
       "      <td>211.640212</td>\n",
       "    </tr>\n",
       "    <tr>\n",
       "      <th>2012-06-10</th>\n",
       "      <td>Africa</td>\n",
       "      <td>North</td>\n",
       "      <td>Thomas</td>\n",
       "      <td>6/10/2012 0:00:00</td>\n",
       "      <td>140000</td>\n",
       "      <td>1000</td>\n",
       "      <td>North_Africa</td>\n",
       "      <td>140.000000</td>\n",
       "    </tr>\n",
       "    <tr>\n",
       "      <th>2011-04-28</th>\n",
       "      <td>UK</td>\n",
       "      <td>West</td>\n",
       "      <td>Bill</td>\n",
       "      <td>4/28/2011 0:00:00</td>\n",
       "      <td>240000</td>\n",
       "      <td>90</td>\n",
       "      <td>West_UK</td>\n",
       "      <td>2666.666667</td>\n",
       "    </tr>\n",
       "    <tr>\n",
       "      <th>2012-01-25</th>\n",
       "      <td>Singapore</td>\n",
       "      <td>North</td>\n",
       "      <td>Bill</td>\n",
       "      <td>1/25/2012 0:00:00</td>\n",
       "      <td>150000</td>\n",
       "      <td>85</td>\n",
       "      <td>North_Singapore</td>\n",
       "      <td>1764.705882</td>\n",
       "    </tr>\n",
       "  </tbody>\n",
       "</table>\n",
       "</div>"
      ],
      "text/plain": [
       "                    Country Region Sales Person    Date of Purchase   Total  \\\n",
       "Date of Purchase                                                              \n",
       "2012-02-01            India  North         John    2/1/2012 0:00:00  100000   \n",
       "2012-04-16               US  North         Bill   4/16/2012 0:00:00  120000   \n",
       "2012-11-24        Australia   East         John  11/24/2012 0:00:00  160000   \n",
       "2012-06-11           Africa   East         Bill   6/11/2012 0:00:00  180000   \n",
       "2010-07-29        Australia  North         Bill   7/29/2010 0:00:00  120000   \n",
       "2012-06-10           Africa  North       Thomas   6/10/2012 0:00:00  140000   \n",
       "2011-04-28               UK   West         Bill   4/28/2011 0:00:00  240000   \n",
       "2012-01-25        Singapore  North         Bill   1/25/2012 0:00:00  150000   \n",
       "\n",
       "                  Quantity        Subregion        price  \n",
       "Date of Purchase                                          \n",
       "2012-02-01             567      North_India   176.366843  \n",
       "2012-04-16            3000         North_US    40.000000  \n",
       "2012-11-24            1000   East_Australia   160.000000  \n",
       "2012-06-11             123      East_Africa  1463.414634  \n",
       "2010-07-29             567  North_Australia   211.640212  \n",
       "2012-06-10            1000     North_Africa   140.000000  \n",
       "2011-04-28              90          West_UK  2666.666667  \n",
       "2012-01-25              85  North_Singapore  1764.705882  "
      ]
     },
     "execution_count": 124,
     "metadata": {},
     "output_type": "execute_result"
    }
   ],
   "source": [
    " # срез всех наблюдений, произошедших до 2013 года\n",
    "data[data.index<\"2013\"]"
   ]
  },
  {
   "cell_type": "code",
   "execution_count": 125,
   "metadata": {},
   "outputs": [
    {
     "data": {
      "text/html": [
       "<div>\n",
       "<style scoped>\n",
       "    .dataframe tbody tr th:only-of-type {\n",
       "        vertical-align: middle;\n",
       "    }\n",
       "\n",
       "    .dataframe tbody tr th {\n",
       "        vertical-align: top;\n",
       "    }\n",
       "\n",
       "    .dataframe thead th {\n",
       "        text-align: right;\n",
       "    }\n",
       "</style>\n",
       "<table border=\"1\" class=\"dataframe\">\n",
       "  <thead>\n",
       "    <tr style=\"text-align: right;\">\n",
       "      <th></th>\n",
       "      <th>Country</th>\n",
       "      <th>Region</th>\n",
       "      <th>Sales Person</th>\n",
       "      <th>Date of Purchase</th>\n",
       "      <th>Total</th>\n",
       "      <th>Quantity</th>\n",
       "      <th>Subregion</th>\n",
       "      <th>price</th>\n",
       "    </tr>\n",
       "    <tr>\n",
       "      <th>Date of Purchase</th>\n",
       "      <th></th>\n",
       "      <th></th>\n",
       "      <th></th>\n",
       "      <th></th>\n",
       "      <th></th>\n",
       "      <th></th>\n",
       "      <th></th>\n",
       "      <th></th>\n",
       "    </tr>\n",
       "  </thead>\n",
       "  <tbody>\n",
       "    <tr>\n",
       "      <th>2014-07-31</th>\n",
       "      <td>UK</td>\n",
       "      <td>North</td>\n",
       "      <td>Thomas</td>\n",
       "      <td>7/31/2014 0:00:00</td>\n",
       "      <td>140000</td>\n",
       "      <td>345</td>\n",
       "      <td>North_UK</td>\n",
       "      <td>405.797101</td>\n",
       "    </tr>\n",
       "    <tr>\n",
       "      <th>2016-04-09</th>\n",
       "      <td>UK</td>\n",
       "      <td>North</td>\n",
       "      <td>John</td>\n",
       "      <td>4/9/2016 0:00:00</td>\n",
       "      <td>100000</td>\n",
       "      <td>1000</td>\n",
       "      <td>North_UK</td>\n",
       "      <td>100.000000</td>\n",
       "    </tr>\n",
       "    <tr>\n",
       "      <th>2011-04-28</th>\n",
       "      <td>UK</td>\n",
       "      <td>West</td>\n",
       "      <td>Bill</td>\n",
       "      <td>4/28/2011 0:00:00</td>\n",
       "      <td>240000</td>\n",
       "      <td>90</td>\n",
       "      <td>West_UK</td>\n",
       "      <td>2666.666667</td>\n",
       "    </tr>\n",
       "  </tbody>\n",
       "</table>\n",
       "</div>"
      ],
      "text/plain": [
       "                 Country Region Sales Person   Date of Purchase   Total  \\\n",
       "Date of Purchase                                                          \n",
       "2014-07-31            UK  North       Thomas  7/31/2014 0:00:00  140000   \n",
       "2016-04-09            UK  North         John   4/9/2016 0:00:00  100000   \n",
       "2011-04-28            UK   West         Bill  4/28/2011 0:00:00  240000   \n",
       "\n",
       "                  Quantity Subregion        price  \n",
       "Date of Purchase                                   \n",
       "2014-07-31             345  North_UK   405.797101  \n",
       "2016-04-09            1000  North_UK   100.000000  \n",
       "2011-04-28              90   West_UK  2666.666667  "
      ]
     },
     "execution_count": 125,
     "metadata": {},
     "output_type": "execute_result"
    }
   ],
   "source": [
    "#можно посмотреть, как устроен индекс:\n",
    "#Отдельном посмотрим на года, месяца и дни:\n",
    "\n",
    "data[(data[\"Total\"]<12000000)& (data[\"Country\"]==\"UK\")]"
   ]
  },
  {
   "cell_type": "code",
   "execution_count": 126,
   "metadata": {},
   "outputs": [
    {
     "data": {
      "text/plain": [
       "<pandas.core.groupby.groupby.DataFrameGroupBy object at 0x000000000D19A630>"
      ]
     },
     "execution_count": 126,
     "metadata": {},
     "output_type": "execute_result"
    }
   ],
   "source": [
    "# наблюдения между 2013 и 2014\n",
    "data.groupby([\"Country\"])"
   ]
  },
  {
   "cell_type": "code",
   "execution_count": 127,
   "metadata": {},
   "outputs": [],
   "source": [
    "# наблюдения до конкретного дня\n"
   ]
  },
  {
   "cell_type": "markdown",
   "metadata": {},
   "source": [
    "Помимо обращения по индексу можно \"фильтровать\" по условию (маске)"
   ]
  },
  {
   "cell_type": "code",
   "execution_count": null,
   "metadata": {},
   "outputs": [],
   "source": []
  },
  {
   "cell_type": "code",
   "execution_count": null,
   "metadata": {},
   "outputs": [],
   "source": []
  },
  {
   "cell_type": "markdown",
   "metadata": {},
   "source": [
    "Если ничего не соответствует условиям, то вернется пустой dataframe"
   ]
  },
  {
   "cell_type": "code",
   "execution_count": 128,
   "metadata": {},
   "outputs": [
    {
     "data": {
      "text/html": [
       "<div>\n",
       "<style scoped>\n",
       "    .dataframe tbody tr th:only-of-type {\n",
       "        vertical-align: middle;\n",
       "    }\n",
       "\n",
       "    .dataframe tbody tr th {\n",
       "        vertical-align: top;\n",
       "    }\n",
       "\n",
       "    .dataframe thead th {\n",
       "        text-align: right;\n",
       "    }\n",
       "</style>\n",
       "<table border=\"1\" class=\"dataframe\">\n",
       "  <thead>\n",
       "    <tr style=\"text-align: right;\">\n",
       "      <th></th>\n",
       "      <th>Country</th>\n",
       "      <th>Region</th>\n",
       "      <th>Sales Person</th>\n",
       "      <th>Date of Purchase</th>\n",
       "      <th>Total</th>\n",
       "      <th>Quantity</th>\n",
       "      <th>Subregion</th>\n",
       "      <th>price</th>\n",
       "    </tr>\n",
       "    <tr>\n",
       "      <th>Date of Purchase</th>\n",
       "      <th></th>\n",
       "      <th></th>\n",
       "      <th></th>\n",
       "      <th></th>\n",
       "      <th></th>\n",
       "      <th></th>\n",
       "      <th></th>\n",
       "      <th></th>\n",
       "    </tr>\n",
       "  </thead>\n",
       "  <tbody>\n",
       "  </tbody>\n",
       "</table>\n",
       "</div>"
      ],
      "text/plain": [
       "Empty DataFrame\n",
       "Columns: [Country, Region, Sales Person, Date of Purchase, Total, Quantity, Subregion, price]\n",
       "Index: []"
      ]
     },
     "execution_count": 128,
     "metadata": {},
     "output_type": "execute_result"
    }
   ],
   "source": [
    "data[(data['Total'] < 120000) & (data['Country']=='Slovenia')]"
   ]
  },
  {
   "cell_type": "markdown",
   "metadata": {},
   "source": [
    "Посмотрим на продажи по странам (Country)"
   ]
  },
  {
   "cell_type": "code",
   "execution_count": null,
   "metadata": {},
   "outputs": [],
   "source": [
    "\n"
   ]
  },
  {
   "cell_type": "markdown",
   "metadata": {},
   "source": [
    "Со сгруппированными данными можно работать и в циклах"
   ]
  },
  {
   "cell_type": "code",
   "execution_count": 129,
   "metadata": {},
   "outputs": [
    {
     "name": "stdout",
     "output_type": "stream",
     "text": [
      "Africa\n",
      "                 Country Region Sales Person    Date of Purchase   Total  \\\n",
      "Date of Purchase                                                           \n",
      "2012-06-11        Africa   East         Bill   6/11/2012 0:00:00  180000   \n",
      "2012-06-10        Africa  North       Thomas   6/10/2012 0:00:00  140000   \n",
      "2015-12-14        Africa  North         John  12/14/2015 0:00:00  140000   \n",
      "\n",
      "                  Quantity     Subregion        price  \n",
      "Date of Purchase                                       \n",
      "2012-06-11             123   East_Africa  1463.414634  \n",
      "2012-06-10            1000  North_Africa   140.000000  \n",
      "2015-12-14              85  North_Africa  1647.058824  \n"
     ]
    }
   ],
   "source": [
    "for x in data.groupby('Country'):\n",
    "    print(x[0])\n",
    "    print(x[1])\n",
    "    break"
   ]
  },
  {
   "cell_type": "markdown",
   "metadata": {},
   "source": [
    "Можно группировать по нескольким полям"
   ]
  },
  {
   "cell_type": "code",
   "execution_count": 130,
   "metadata": {},
   "outputs": [
    {
     "data": {
      "text/html": [
       "<div>\n",
       "<style scoped>\n",
       "    .dataframe tbody tr th:only-of-type {\n",
       "        vertical-align: middle;\n",
       "    }\n",
       "\n",
       "    .dataframe tbody tr th {\n",
       "        vertical-align: top;\n",
       "    }\n",
       "\n",
       "    .dataframe thead th {\n",
       "        text-align: right;\n",
       "    }\n",
       "</style>\n",
       "<table border=\"1\" class=\"dataframe\">\n",
       "  <thead>\n",
       "    <tr style=\"text-align: right;\">\n",
       "      <th></th>\n",
       "      <th></th>\n",
       "      <th>Total</th>\n",
       "      <th>Quantity</th>\n",
       "      <th>price</th>\n",
       "    </tr>\n",
       "    <tr>\n",
       "      <th>Country</th>\n",
       "      <th>Region</th>\n",
       "      <th></th>\n",
       "      <th></th>\n",
       "      <th></th>\n",
       "    </tr>\n",
       "  </thead>\n",
       "  <tbody>\n",
       "    <tr>\n",
       "      <th rowspan=\"2\" valign=\"top\">Africa</th>\n",
       "      <th>East</th>\n",
       "      <td>180000</td>\n",
       "      <td>123</td>\n",
       "      <td>1463.414634</td>\n",
       "    </tr>\n",
       "    <tr>\n",
       "      <th>North</th>\n",
       "      <td>280000</td>\n",
       "      <td>1085</td>\n",
       "      <td>1787.058824</td>\n",
       "    </tr>\n",
       "    <tr>\n",
       "      <th rowspan=\"3\" valign=\"top\">Australia</th>\n",
       "      <th>East</th>\n",
       "      <td>160000</td>\n",
       "      <td>1000</td>\n",
       "      <td>160.000000</td>\n",
       "    </tr>\n",
       "    <tr>\n",
       "      <th>North</th>\n",
       "      <td>120000</td>\n",
       "      <td>567</td>\n",
       "      <td>211.640212</td>\n",
       "    </tr>\n",
       "    <tr>\n",
       "      <th>West</th>\n",
       "      <td>260000</td>\n",
       "      <td>90</td>\n",
       "      <td>2888.888889</td>\n",
       "    </tr>\n",
       "    <tr>\n",
       "      <th rowspan=\"3\" valign=\"top\">India</th>\n",
       "      <th>East</th>\n",
       "      <td>200000</td>\n",
       "      <td>90</td>\n",
       "      <td>2222.222222</td>\n",
       "    </tr>\n",
       "    <tr>\n",
       "      <th>North</th>\n",
       "      <td>100000</td>\n",
       "      <td>567</td>\n",
       "      <td>176.366843</td>\n",
       "    </tr>\n",
       "    <tr>\n",
       "      <th>West</th>\n",
       "      <td>240000</td>\n",
       "      <td>200</td>\n",
       "      <td>1200.000000</td>\n",
       "    </tr>\n",
       "    <tr>\n",
       "      <th rowspan=\"2\" valign=\"top\">Mylasia</th>\n",
       "      <th>East</th>\n",
       "      <td>180000</td>\n",
       "      <td>444</td>\n",
       "      <td>405.405405</td>\n",
       "    </tr>\n",
       "    <tr>\n",
       "      <th>West</th>\n",
       "      <td>1000000</td>\n",
       "      <td>7890</td>\n",
       "      <td>126.742712</td>\n",
       "    </tr>\n",
       "    <tr>\n",
       "      <th rowspan=\"2\" valign=\"top\">Singapore</th>\n",
       "      <th>East</th>\n",
       "      <td>360000</td>\n",
       "      <td>1892</td>\n",
       "      <td>379.372197</td>\n",
       "    </tr>\n",
       "    <tr>\n",
       "      <th>North</th>\n",
       "      <td>150000</td>\n",
       "      <td>85</td>\n",
       "      <td>1764.705882</td>\n",
       "    </tr>\n",
       "    <tr>\n",
       "      <th rowspan=\"2\" valign=\"top\">UK</th>\n",
       "      <th>North</th>\n",
       "      <td>240000</td>\n",
       "      <td>1345</td>\n",
       "      <td>505.797101</td>\n",
       "    </tr>\n",
       "    <tr>\n",
       "      <th>West</th>\n",
       "      <td>240000</td>\n",
       "      <td>90</td>\n",
       "      <td>2666.666667</td>\n",
       "    </tr>\n",
       "    <tr>\n",
       "      <th rowspan=\"2\" valign=\"top\">US</th>\n",
       "      <th>North</th>\n",
       "      <td>120000</td>\n",
       "      <td>3000</td>\n",
       "      <td>40.000000</td>\n",
       "    </tr>\n",
       "    <tr>\n",
       "      <th>West</th>\n",
       "      <td>26220000</td>\n",
       "      <td>1090</td>\n",
       "      <td>28444.444444</td>\n",
       "    </tr>\n",
       "  </tbody>\n",
       "</table>\n",
       "</div>"
      ],
      "text/plain": [
       "                     Total  Quantity         price\n",
       "Country   Region                                  \n",
       "Africa    East      180000       123   1463.414634\n",
       "          North     280000      1085   1787.058824\n",
       "Australia East      160000      1000    160.000000\n",
       "          North     120000       567    211.640212\n",
       "          West      260000        90   2888.888889\n",
       "India     East      200000        90   2222.222222\n",
       "          North     100000       567    176.366843\n",
       "          West      240000       200   1200.000000\n",
       "Mylasia   East      180000       444    405.405405\n",
       "          West     1000000      7890    126.742712\n",
       "Singapore East      360000      1892    379.372197\n",
       "          North     150000        85   1764.705882\n",
       "UK        North     240000      1345    505.797101\n",
       "          West      240000        90   2666.666667\n",
       "US        North     120000      3000     40.000000\n",
       "          West    26220000      1090  28444.444444"
      ]
     },
     "execution_count": 130,
     "metadata": {},
     "output_type": "execute_result"
    }
   ],
   "source": [
    "data.groupby(['Country', 'Region']).agg('sum')"
   ]
  },
  {
   "cell_type": "code",
   "execution_count": 131,
   "metadata": {},
   "outputs": [
    {
     "data": {
      "text/html": [
       "<div>\n",
       "<style scoped>\n",
       "    .dataframe tbody tr th:only-of-type {\n",
       "        vertical-align: middle;\n",
       "    }\n",
       "\n",
       "    .dataframe tbody tr th {\n",
       "        vertical-align: top;\n",
       "    }\n",
       "\n",
       "    .dataframe thead th {\n",
       "        text-align: right;\n",
       "    }\n",
       "</style>\n",
       "<table border=\"1\" class=\"dataframe\">\n",
       "  <thead>\n",
       "    <tr style=\"text-align: right;\">\n",
       "      <th></th>\n",
       "      <th></th>\n",
       "      <th>Total</th>\n",
       "      <th>Quantity</th>\n",
       "      <th>price</th>\n",
       "    </tr>\n",
       "    <tr>\n",
       "      <th>Country</th>\n",
       "      <th>Region</th>\n",
       "      <th></th>\n",
       "      <th></th>\n",
       "      <th></th>\n",
       "    </tr>\n",
       "  </thead>\n",
       "  <tbody>\n",
       "    <tr>\n",
       "      <th rowspan=\"2\" valign=\"top\">Africa</th>\n",
       "      <th>East</th>\n",
       "      <td>180000.0</td>\n",
       "      <td>123.0</td>\n",
       "      <td>1463.414634</td>\n",
       "    </tr>\n",
       "    <tr>\n",
       "      <th>North</th>\n",
       "      <td>140000.0</td>\n",
       "      <td>542.5</td>\n",
       "      <td>893.529412</td>\n",
       "    </tr>\n",
       "    <tr>\n",
       "      <th rowspan=\"3\" valign=\"top\">Australia</th>\n",
       "      <th>East</th>\n",
       "      <td>160000.0</td>\n",
       "      <td>1000.0</td>\n",
       "      <td>160.000000</td>\n",
       "    </tr>\n",
       "    <tr>\n",
       "      <th>North</th>\n",
       "      <td>120000.0</td>\n",
       "      <td>567.0</td>\n",
       "      <td>211.640212</td>\n",
       "    </tr>\n",
       "    <tr>\n",
       "      <th>West</th>\n",
       "      <td>260000.0</td>\n",
       "      <td>90.0</td>\n",
       "      <td>2888.888889</td>\n",
       "    </tr>\n",
       "    <tr>\n",
       "      <th rowspan=\"3\" valign=\"top\">India</th>\n",
       "      <th>East</th>\n",
       "      <td>200000.0</td>\n",
       "      <td>90.0</td>\n",
       "      <td>2222.222222</td>\n",
       "    </tr>\n",
       "    <tr>\n",
       "      <th>North</th>\n",
       "      <td>100000.0</td>\n",
       "      <td>567.0</td>\n",
       "      <td>176.366843</td>\n",
       "    </tr>\n",
       "    <tr>\n",
       "      <th>West</th>\n",
       "      <td>240000.0</td>\n",
       "      <td>200.0</td>\n",
       "      <td>1200.000000</td>\n",
       "    </tr>\n",
       "    <tr>\n",
       "      <th rowspan=\"2\" valign=\"top\">Mylasia</th>\n",
       "      <th>East</th>\n",
       "      <td>180000.0</td>\n",
       "      <td>444.0</td>\n",
       "      <td>405.405405</td>\n",
       "    </tr>\n",
       "    <tr>\n",
       "      <th>West</th>\n",
       "      <td>1000000.0</td>\n",
       "      <td>7890.0</td>\n",
       "      <td>126.742712</td>\n",
       "    </tr>\n",
       "    <tr>\n",
       "      <th rowspan=\"2\" valign=\"top\">Singapore</th>\n",
       "      <th>East</th>\n",
       "      <td>180000.0</td>\n",
       "      <td>946.0</td>\n",
       "      <td>189.686099</td>\n",
       "    </tr>\n",
       "    <tr>\n",
       "      <th>North</th>\n",
       "      <td>150000.0</td>\n",
       "      <td>85.0</td>\n",
       "      <td>1764.705882</td>\n",
       "    </tr>\n",
       "    <tr>\n",
       "      <th rowspan=\"2\" valign=\"top\">UK</th>\n",
       "      <th>North</th>\n",
       "      <td>120000.0</td>\n",
       "      <td>672.5</td>\n",
       "      <td>252.898551</td>\n",
       "    </tr>\n",
       "    <tr>\n",
       "      <th>West</th>\n",
       "      <td>240000.0</td>\n",
       "      <td>90.0</td>\n",
       "      <td>2666.666667</td>\n",
       "    </tr>\n",
       "    <tr>\n",
       "      <th rowspan=\"2\" valign=\"top\">US</th>\n",
       "      <th>North</th>\n",
       "      <td>120000.0</td>\n",
       "      <td>3000.0</td>\n",
       "      <td>40.000000</td>\n",
       "    </tr>\n",
       "    <tr>\n",
       "      <th>West</th>\n",
       "      <td>13110000.0</td>\n",
       "      <td>545.0</td>\n",
       "      <td>14222.222222</td>\n",
       "    </tr>\n",
       "  </tbody>\n",
       "</table>\n",
       "</div>"
      ],
      "text/plain": [
       "                       Total  Quantity         price\n",
       "Country   Region                                    \n",
       "Africa    East      180000.0     123.0   1463.414634\n",
       "          North     140000.0     542.5    893.529412\n",
       "Australia East      160000.0    1000.0    160.000000\n",
       "          North     120000.0     567.0    211.640212\n",
       "          West      260000.0      90.0   2888.888889\n",
       "India     East      200000.0      90.0   2222.222222\n",
       "          North     100000.0     567.0    176.366843\n",
       "          West      240000.0     200.0   1200.000000\n",
       "Mylasia   East      180000.0     444.0    405.405405\n",
       "          West     1000000.0    7890.0    126.742712\n",
       "Singapore East      180000.0     946.0    189.686099\n",
       "          North     150000.0      85.0   1764.705882\n",
       "UK        North     120000.0     672.5    252.898551\n",
       "          West      240000.0      90.0   2666.666667\n",
       "US        North     120000.0    3000.0     40.000000\n",
       "          West    13110000.0     545.0  14222.222222"
      ]
     },
     "execution_count": 131,
     "metadata": {},
     "output_type": "execute_result"
    }
   ],
   "source": [
    "data.groupby(['Country', 'Region']).mean()"
   ]
  },
  {
   "cell_type": "markdown",
   "metadata": {},
   "source": [
    "Можно применять свои функции "
   ]
  },
  {
   "cell_type": "code",
   "execution_count": 132,
   "metadata": {},
   "outputs": [
    {
     "data": {
      "text/html": [
       "<div>\n",
       "<style scoped>\n",
       "    .dataframe tbody tr th:only-of-type {\n",
       "        vertical-align: middle;\n",
       "    }\n",
       "\n",
       "    .dataframe tbody tr th {\n",
       "        vertical-align: top;\n",
       "    }\n",
       "\n",
       "    .dataframe thead th {\n",
       "        text-align: right;\n",
       "    }\n",
       "</style>\n",
       "<table border=\"1\" class=\"dataframe\">\n",
       "  <thead>\n",
       "    <tr style=\"text-align: right;\">\n",
       "      <th></th>\n",
       "      <th>Total</th>\n",
       "      <th>Quantity</th>\n",
       "      <th>price</th>\n",
       "    </tr>\n",
       "    <tr>\n",
       "      <th>Country</th>\n",
       "      <th></th>\n",
       "      <th></th>\n",
       "      <th></th>\n",
       "    </tr>\n",
       "  </thead>\n",
       "  <tbody>\n",
       "    <tr>\n",
       "      <th>Africa</th>\n",
       "      <td>3.134815e+10</td>\n",
       "      <td>2.161873e+05</td>\n",
       "      <td>1.565271e+06</td>\n",
       "    </tr>\n",
       "    <tr>\n",
       "      <th>Australia</th>\n",
       "      <td>4.320000e+10</td>\n",
       "      <td>4.067628e+05</td>\n",
       "      <td>1.574970e+06</td>\n",
       "    </tr>\n",
       "    <tr>\n",
       "      <th>India</th>\n",
       "      <td>4.320000e+10</td>\n",
       "      <td>1.088073e+05</td>\n",
       "      <td>1.918495e+06</td>\n",
       "    </tr>\n",
       "    <tr>\n",
       "      <th>Mylasia</th>\n",
       "      <td>1.740500e+11</td>\n",
       "      <td>8.681944e+06</td>\n",
       "      <td>3.539770e+04</td>\n",
       "    </tr>\n",
       "    <tr>\n",
       "      <th>Singapore</th>\n",
       "      <td>3.853333e+10</td>\n",
       "      <td>5.790413e+05</td>\n",
       "      <td>6.810475e+05</td>\n",
       "    </tr>\n",
       "    <tr>\n",
       "      <th>UK</th>\n",
       "      <td>3.413333e+10</td>\n",
       "      <td>3.050704e+05</td>\n",
       "      <td>1.491041e+06</td>\n",
       "    </tr>\n",
       "    <tr>\n",
       "      <th>US</th>\n",
       "      <td>1.027845e+14</td>\n",
       "      <td>2.478237e+06</td>\n",
       "      <td>1.202020e+08</td>\n",
       "    </tr>\n",
       "  </tbody>\n",
       "</table>\n",
       "</div>"
      ],
      "text/plain": [
       "                  Total      Quantity         price\n",
       "Country                                            \n",
       "Africa     3.134815e+10  2.161873e+05  1.565271e+06\n",
       "Australia  4.320000e+10  4.067628e+05  1.574970e+06\n",
       "India      4.320000e+10  1.088073e+05  1.918495e+06\n",
       "Mylasia    1.740500e+11  8.681944e+06  3.539770e+04\n",
       "Singapore  3.853333e+10  5.790413e+05  6.810475e+05\n",
       "UK         3.413333e+10  3.050704e+05  1.491041e+06\n",
       "US         1.027845e+14  2.478237e+06  1.202020e+08"
      ]
     },
     "execution_count": 132,
     "metadata": {},
     "output_type": "execute_result"
    }
   ],
   "source": [
    "import numpy as np\n",
    "def custom(x):\n",
    "    return (sum(x)-np.mean(x))**2 / len(x)\n",
    "    \n",
    "data.groupby(['Country']).agg(custom)"
   ]
  },
  {
   "cell_type": "markdown",
   "metadata": {},
   "source": [
    "Немного визуализации данных по табличке. Про визуализацию подробнее мы будем говорить через две пары."
   ]
  },
  {
   "cell_type": "markdown",
   "metadata": {},
   "source": [
    "Просто нарисуем график продаж во времени:"
   ]
  },
  {
   "cell_type": "code",
   "execution_count": 133,
   "metadata": {},
   "outputs": [
    {
     "data": {
      "text/plain": [
       "<matplotlib.axes._subplots.AxesSubplot at 0xd109e10>"
      ]
     },
     "execution_count": 133,
     "metadata": {},
     "output_type": "execute_result"
    },
    {
     "data": {
      "image/png": "[encoded data removed]",
      "text/plain": [
       "<Figure size 720x72 with 1 Axes>"
      ]
     },
     "metadata": {
      "needs_background": "light"
     },
     "output_type": "display_data"
    }
   ],
   "source": [
    "data[\"Quantity\"].plot(title=\"Количество\", figsize=(10,1))"
   ]
  },
  {
   "cell_type": "markdown",
   "metadata": {},
   "source": [
    "data.groupby([\"Contry\"]).agg(\"mean\"))[\"Quanriry\"]"
   ]
  },
  {
   "cell_type": "code",
   "execution_count": 134,
   "metadata": {},
   "outputs": [
    {
     "data": {
      "text/plain": [
       "<matplotlib.axes._subplots.AxesSubplot at 0xcbf8ba8>"
      ]
     },
     "execution_count": 134,
     "metadata": {},
     "output_type": "execute_result"
    },
    {
     "data": {
      "image/png": "[encoded data removed]",
      "text/plain": [
       "<Figure size 720x360 with 1 Axes>"
      ]
     },
     "metadata": {
      "needs_background": "light"
     },
     "output_type": "display_data"
    }
   ],
   "source": [
    "data.groupby(['Country']).agg('max')['Total'].plot.bar(figsize=(10,5))"
   ]
  },
  {
   "cell_type": "code",
   "execution_count": 135,
   "metadata": {},
   "outputs": [
    {
     "data": {
      "text/plain": [
       "Country\n",
       "Africa        402.666667\n",
       "Australia     552.333333\n",
       "India         285.666667\n",
       "Mylasia      4167.000000\n",
       "Singapore     659.000000\n",
       "UK            478.333333\n",
       "US           1363.333333\n",
       "Name: Quantity, dtype: float64"
      ]
     },
     "execution_count": 135,
     "metadata": {},
     "output_type": "execute_result"
    }
   ],
   "source": [
    "data.groupby(['Country']).agg('mean')['Quantity']"
   ]
  },
  {
   "cell_type": "markdown",
   "metadata": {},
   "source": [
    "Применение функций к столбцу"
   ]
  },
  {
   "cell_type": "code",
   "execution_count": 136,
   "metadata": {},
   "outputs": [
    {
     "data": {
      "text/plain": [
       "<matplotlib.axes._subplots.AxesSubplot at 0xbdedb70>"
      ]
     },
     "execution_count": 136,
     "metadata": {},
     "output_type": "execute_result"
    },
    {
     "data": {
      "image/png": "[encoded data removed]",
      "text/plain": [
       "<Figure size 432x288 with 1 Axes>"
      ]
     },
     "metadata": {
      "needs_background": "light"
     },
     "output_type": "display_data"
    }
   ],
   "source": [
    "data['Quantity_proc'] = data['Quantity'].apply(lambda x: x/data['Quantity'].max())\n",
    "data['Total_proc'] = data['Total'].apply(lambda x: x/data['Total'].max())\n",
    "\n",
    "data[[\"Quantity_proc\",\"Total_proc\"]].plot.bar()"
   ]
  },
  {
   "cell_type": "markdown",
   "metadata": {},
   "source": [
    "# 3. Задание."
   ]
  },
  {
   "cell_type": "markdown",
   "metadata": {},
   "source": [
    "__1. Сколько уникальных Sales Person? (уникальность считается по паре страна, регион)__\n",
    "Подсказка: используйте .agg('nunique')"
   ]
  },
  {
   "cell_type": "code",
   "execution_count": 137,
   "metadata": {},
   "outputs": [
    {
     "data": {
      "text/plain": [
       "20"
      ]
     },
     "execution_count": 137,
     "metadata": {},
     "output_type": "execute_result"
    }
   ],
   "source": [
    "# Ваш код \n",
    "data.groupby([\"Country\",\"Region\"])[\"Sales Person\"].nunique().sum()\n"
   ]
  },
  {
   "cell_type": "markdown",
   "metadata": {},
   "source": [
    "__2. В каком году было больше всего продаж? (Total)__\n",
    "Подсказка: создайте новую переменную \"год\""
   ]
  },
  {
   "cell_type": "code",
   "execution_count": 138,
   "metadata": {},
   "outputs": [
    {
     "data": {
      "text/plain": [
       "2013"
      ]
     },
     "execution_count": 138,
     "metadata": {},
     "output_type": "execute_result"
    }
   ],
   "source": [
    "data[\"year\"]=data.index.year\n",
    "data.groupby(\"year\").Total.sum().idxmax()\n",
    "# Ваш код "
   ]
  },
  {
   "cell_type": "markdown",
   "metadata": {},
   "source": [
    "__3. Нарисуйте barplot продаж (Total) по годам__"
   ]
  },
  {
   "cell_type": "code",
   "execution_count": 139,
   "metadata": {
    "scrolled": false
   },
   "outputs": [
    {
     "data": {
      "text/plain": [
       "<matplotlib.axes._subplots.AxesSubplot at 0xcf31d68>"
      ]
     },
     "execution_count": 139,
     "metadata": {},
     "output_type": "execute_result"
    },
    {
     "data": {
      "image/png": "[encoded data removed]",
      "text/plain": [
       "<Figure size 1080x288 with 1 Axes>"
      ]
     },
     "metadata": {
      "needs_background": "light"
     },
     "output_type": "display_data"
    }
   ],
   "source": [
    "data.groupby(['year']).agg('mean')['Total'].plot.bar(title=\"Продажи\",figsize=(15,4))"
   ]
  },
  {
   "cell_type": "markdown",
   "metadata": {},
   "source": [
    "__4. Сделайте min-max scaling столбца Total__\n",
    "\n",
    "Структура min_max:\n",
    "\n",
    "    min = минимальный элемент в столбце\n",
    "    max = максимальный элемент в столбце\n",
    "    \n",
    "    x_new = (x-min)/(max-min)\n",
    "    \n",
    "    Вам нужно создать новую переменную с таким значением"
   ]
  },
  {
   "cell_type": "code",
   "execution_count": 140,
   "metadata": {},
   "outputs": [
    {
     "data": {
      "text/plain": [
       "Date of Purchase\n",
       "2012-02-01    0.000000\n",
       "2012-04-16    0.000772\n",
       "2014-07-31    0.001544\n",
       "2012-11-24    0.002317\n",
       "2012-06-11    0.003089\n",
       "2017-04-24    0.003861\n",
       "2013-10-18    0.034749\n",
       "2018-08-18    0.005405\n",
       "2013-12-25    1.000000\n",
       "2016-04-09    0.000000\n",
       "2010-07-29    0.000772\n",
       "2012-06-10    0.001544\n",
       "2018-04-24    0.002317\n",
       "2013-06-10    0.003089\n",
       "2014-08-17    0.003861\n",
       "2013-08-01    0.004633\n",
       "2011-04-28    0.005405\n",
       "2016-10-29    0.006178\n",
       "2015-12-14    0.001544\n",
       "2012-01-25    0.001931\n",
       "Name: Total, dtype: float64"
      ]
     },
     "execution_count": 140,
     "metadata": {},
     "output_type": "execute_result"
    }
   ],
   "source": [
    "#x_new = (x - x.min()) / (x.max() - x.min())\n",
    "data_new=(data.Total-data.Total.min())/(data.Total.max()-data.Total.min())\n",
    "data_new"
   ]
  },
  {
   "cell_type": "markdown",
   "metadata": {},
   "source": [
    "__5. Постройте график (barplot) для полученных в прошлом номере значений__"
   ]
  },
  {
   "cell_type": "code",
   "execution_count": 141,
   "metadata": {},
   "outputs": [
    {
     "data": {
      "text/plain": [
       "<matplotlib.axes._subplots.AxesSubplot at 0xd1e5e48>"
      ]
     },
     "execution_count": 141,
     "metadata": {},
     "output_type": "execute_result"
    },
    {
     "data": {
      "image/png": "[encoded data removed]",
      "text/plain": [
       "<Figure size 1080x288 with 1 Axes>"
      ]
     },
     "metadata": {
      "needs_background": "light"
     },
     "output_type": "display_data"
    }
   ],
   "source": [
    "data_new.plot.bar(title=\"Продажи\",figsize=(15,4))"
   ]
  },
  {
   "cell_type": "code",
   "execution_count": null,
   "metadata": {},
   "outputs": [],
   "source": []
  }
 ],
 "metadata": {
  "kernelspec": {
   "display_name": "Python 3",
   "language": "python",
   "name": "python3"
  },
  "language_info": {
   "codemirror_mode": {
    "name": "ipython",
    "version": 3
   },
   "file_extension": ".py",
   "mimetype": "text/x-python",
   "name": "python",
   "nbconvert_exporter": "python",
   "pygments_lexer": "ipython3",
   "version": "3.8.8"
  }
 },
 "nbformat": 4,
 "nbformat_minor": 2
}
