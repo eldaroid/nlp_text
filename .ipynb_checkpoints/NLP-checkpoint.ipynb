{
 "cells": [
  {
   "cell_type": "markdown",
   "id": "0273d209",
   "metadata": {},
   "source": [
    "# Загрузка и отображение данных\n"
   ]
  },
  {
   "cell_type": "code",
   "execution_count": 1,
   "id": "a5da0a49",
   "metadata": {},
   "outputs": [],
   "source": [
    "import urllib"
   ]
  },
  {
   "cell_type": "code",
   "execution_count": 2,
   "id": "22ba2e69",
   "metadata": {},
   "outputs": [],
   "source": [
    "url = \"http://textfiles.com/science/blackhol.txt\"\n",
    "file = urllib.request.urlopen(url)\n",
    "text = open(\"text.txt\",\"w\")"
   ]
  },
  {
   "cell_type": "code",
   "execution_count": 3,
   "id": "7ca50ae5",
   "metadata": {},
   "outputs": [],
   "source": [
    "for line in file:\n",
    "    decoded_line = line.decode(\"utf-8\")\n",
    "    text.write(str(decoded_line))"
   ]
  },
  {
   "cell_type": "code",
   "execution_count": 4,
   "id": "46a044a5",
   "metadata": {},
   "outputs": [
    {
     "name": "stdout",
     "output_type": "stream",
     "text": [
      "                           Combat Arms\n",
      "                         2869 Grove Way\n",
      "              Castro Valley, California 94546-6709\n",
      "                    Telephone (415) 538-6544\n",
      "\n",
      "\n",
      "     The following material was downloaded from the NASA SpaceLink\n",
      "BBS at the National Aeronautics and Space Administration, George C.\n",
      "Marshall Space Flight Center, Marshall Space Flight Center, Alabama\n",
      "35812 on 11/16/88.\n",
      "\n",
      "\n",
      "\n",
      "B L A C K    H O L E S    I N    S P A C E\n",
      "-------------------------------------------------------------\n",
      " \n",
      "     There is much more to black holes than meets the eye.  In fact,\n",
      "your eyes, even with the aid of the most advanced telescope, will\n",
      "never see a black hole in space.  The reason is that the matter\n",
      "within a black hole is so dense and has so great a gravitational pull\n",
      "that it prevents even light from escaping.\n",
      " \n",
      "     Like other electromagnetic radiation (radio waves, infrared\n",
      "rays, ultraviolet radiation, X-rays, and gamma radiation), light is\n",
      "the fastest traveler in the Universe.  It moves at nearly 300,000\n",
      "kilometers (about 186,000 miles) per second.  At such a speed, you\n",
      "could circle the Earth seven times between heartbeats.\n",
      " \n",
      "     If light can't escape a black hole, it follows that nothing else\n",
      "can.  Consequently, there is no direct way to detect a black hole.\n",
      " \n",
      "     In fact, the principal evidence of the existence of black holes\n",
      "comes not from observation but from solutions to complex equations\n",
      "based on Einstein's Theory of General Relativity.  Among other\n",
      "things, the calculations indicate that black holes may occur in a\n",
      "variety of sizes and be more abundant than most of us realize.\n",
      " \n",
      " \n",
      "MINI BLACK HOLES\n",
      " \n",
      "     Some black holes are theorized to be nearly as old as the Big\n",
      "Bang, which is hypothesized to have started our Universe 10 to 20\n",
      "billion years ago.  The rapid early expansion of some parts of the\n",
      "dense hot matter in this nascent Universe is said to have so\n",
      "compressed less rapidly moving parts that the latter became\n",
      "superdense and collapsed further, forming black holes.  Among the\n",
      "holes so created may be the submicroscopic mini-black holes.\n",
      " \n",
      "     A mini-black hole may be as small as an atomic particle but\n",
      "contain as much mass (material) as Mount Everest.  Never\n",
      "underestimate the power of a mini-black hole.  If some event caused\n",
      "it to decompress, it would be as if millions of hydrogen bombs were\n",
      "simultaneously detonated.\n",
      " \n",
      " \n",
      "HOW STARS DIE\n",
      " \n",
      "     The most widespread support is given to the theory that a black\n",
      "hole is the natural end product of a giant star's death.  According\n",
      "to this theory, a star like our Sun and others we see in the sky\n",
      "lives as long as thermal energy and radiation from nuclear reactions\n",
      "in its core provide sufficient outward pressure to counteract the\n",
      "inward pressure of gravity caused by the star's own great mass.\n",
      " \n",
      "     When the star exhausts its nuclear fuels, it succumbs to the\n",
      "forces of its own gravity and literally collapses inward.  According\n",
      "to equations derived from quantum mechanics and Einstein's Theory of\n",
      "General Relativity, the star's remaining mass determines whether it\n",
      "becomes a white dwarf, a neutron star, or black hole.\n",
      " \n",
      " \n",
      "WHITE DWARFS\n",
      " \n",
      "     Stars are usually measured in comparison with our Sun's mass.  A\n",
      "star whose remaining mass is about that of our Sun condenses to\n",
      "approximately the size of Earth.  The star's contraction is halted by\n",
      "the collective resistance of electrons pressed against each other and\n",
      "their atomic nuclei.  Matter in this collapsed star is so tightly\n",
      "packed that a piece the size of a sugar cube would weigh thousands of\n",
      "kilograms.  Gravitational contraction would also have made the star\n",
      "white hot.  It is appropriately called a white dwarf.\n",
      " \n",
      "     Astronomers have detected white dwarfs in space.  The first\n",
      "discovery was a planet-sized object that seemed to exert a\n",
      "disproportionately high gravitational effect upon a celestial\n",
      "companion, the so call dog star Sirius, which is about 2.28 times our\n",
      "Sun's mass.  It appeared that this planet-sized object would have to\n",
      "be about as massive as our Sun to affect Sirius as it did.  Moreover,\n",
      "spectral analysis indicated the star's color was white.\n",
      " \n",
      "     Based upon these and other studies, astronomers concluded that\n",
      "they had found a white dwarf.  However, it took many years after the\n",
      "discovery in 1914 before most scientists accepted the fact that an\n",
      "object thousands of times denser than anything possible on Earth\n",
      "could exist.\n",
      " \n",
      " \n",
      "NEUTRON STARS AND SUPERNOVAS\n",
      " \n",
      "     Giant stars usually lose most of their mass during their normal\n",
      "lifetimes.  If such a star still retains 1 1/2 to 3 solar masses\n",
      "after exhaustion of its nuclear fuels, it would collapse to even\n",
      "greater density and smaller size than the white dwarf.  The reason is\n",
      "that there is a limit on the amount of compression electrons can\n",
      "resist in the presence of atomic nuclei.\n",
      " \n",
      "     In this instance, the limit is breached.  Electrons are\n",
      "literally driven into atomic nuclei, mating with protons to form\n",
      "neutrons and thus transmuting nuclei into neutrons.  The resulting\n",
      "object is aptly called a neutron star.  It may be only a few\n",
      "kilometers in diameter.  A sugar-cube size piece of this star would\n",
      "weigh about one-half a trillion kilograms.\n",
      " \n",
      "     Sometimes, as electrons are driven into protons in atomic\n",
      "nuclei, neutrinos are blown outward so forcefully that they blast off\n",
      "the star's outer layer.  This creates a supernova that may\n",
      "temporarily outshine all of the other stars in a galaxy.\n",
      " \n",
      "     The most prominent object believed to be a neutron star is the\n",
      "Crab Nebula, the remnant of a supernova observed and reported by\n",
      "Chinese astronomers in 1504.  A star-like object in the nebula\n",
      "blinks, or pulses, about 30 times per second in visible light, radio\n",
      "waves, and X and gamma rays.  The radio pulses are believed to result\n",
      "from interaction between a point on the spinning star and the star's\n",
      "magnetic field.  As the star rotates, this point is theorized\n",
      "alternately to face and be turned away from Earth.  The fast rotation\n",
      "rate implied by the interval between pulses indicates the star is no\n",
      "more than a few kilometers in diameter because if it were larger, it\n",
      "would be torn apart by centrifugal force.\n",
      " \n",
      " \n",
      "PULSARS\n",
      " \n",
      "     Radio telescopes have detected a large number of other objects\n",
      "which send out naturally pulsed radio signals.  They were named\n",
      "pulsars.  Like the object in the Crab Nebula, they are presumed to be\n",
      "rotating neutron stars.\n",
      " \n",
      "     Of these pulsars, only the Vela pulsar--which gets its name\n",
      "because of its location in the Vela (Sails) constellation--pulses at\n",
      "wavelengths shorter than radio.  Like the Crab pulsar, the Vela\n",
      "pulsar also pulses at optical and gamma ray wavelengths.  However,\n",
      "unlike the Crab pulsar, it is not an X-ray pulsar.  Aside from the\n",
      "mystery generated by these differences, scientists also debate the\n",
      "reasons for the pulses at gamma, X-ray and optical frequencies.  As\n",
      "noted earlier, they agree on the origin of the radio pulses.\n",
      " \n",
      " \n",
      "BLACK HOLES\n",
      " \n",
      "     When a star has three or more solar masses left after it\n",
      "exhausts its nuclear fuels, it can become a black hole.\n",
      " \n",
      "     Like the white dwarf and neutron star, this star's density and\n",
      "gravity increase with contraction.  Consequently, the star's\n",
      "gravitational escape velocity (speed needed to escape from the star)\n",
      "increases.  When the star has shrunk to the Schwarzschild radius,\n",
      "named for the man who first calculated it, its gravitational escape\n",
      "velocity would be nearly 300,000 kilometers per second, which is\n",
      "equal to the speed of light.  Consequently, light could never leave\n",
      "the star.\n",
      " \n",
      "     Reduction of a giant star to the Schwarzschild radius represents\n",
      "an incredible compression of mass and decrease in size.  As an\n",
      "example, mathematicians calculate that for a star of 10 solar masses\n",
      "(ten times the mass of our Sun) after exhaustion of its nuclear\n",
      "fuels, the Schwarzschild radius is about 30 kilometers.\n",
      "\n",
      "---------------------------------------------------------------------\n",
      "     According to the Law of General Relativity, space and time are\n",
      "warped, or curved, by gravity.  Time is theorized TO POINT INTO THE\n",
      "\n"
     ]
    }
   ],
   "source": [
    "f = open('text.txt', \"r\")\n",
    "text = f.read()\n",
    "print(text)"
   ]
  },
  {
   "cell_type": "code",
   "execution_count": 5,
   "id": "7bf1922d",
   "metadata": {},
   "outputs": [
    {
     "data": {
      "text/plain": [
       "8067"
      ]
     },
     "execution_count": 5,
     "metadata": {},
     "output_type": "execute_result"
    }
   ],
   "source": [
    "len(text)\n"
   ]
  },
  {
   "cell_type": "code",
   "execution_count": 6,
   "id": "8f0183a0",
   "metadata": {},
   "outputs": [
    {
     "data": {
      "text/plain": [
       "'                           Combat Arms\\n                         2869 Grove Way\\n              Castro Valley, California 94546-6709\\n                    Telephone (415) 538-6544\\n\\n\\n     The following material was downloaded from the NASA SpaceLink\\nBBS at the National Aeronautics and Space Administration'"
      ]
     },
     "execution_count": 6,
     "metadata": {},
     "output_type": "execute_result"
    }
   ],
   "source": [
    "text[:300]"
   ]
  },
  {
   "cell_type": "markdown",
   "id": "f1372872",
   "metadata": {},
   "source": [
    "# Предварительная обработка (препроцессинг) текста\n",
    "Для проведения частотного анализа и определения тематики текста рекомендуется выполнить очистку текста от знаков пунктуации, лишних пробельных символов и цифр. Сделать это можно различными способами – с помощью встроенных функций работы со строками, с помощью регулярных выражений, с помощью операций обработки списков или другим способом."
   ]
  },
  {
   "cell_type": "code",
   "execution_count": 7,
   "id": "c8017722",
   "metadata": {},
   "outputs": [],
   "source": [
    "# перевод в единый регистр (например, нижний)\n",
    "text = text.lower()"
   ]
  },
  {
   "cell_type": "code",
   "execution_count": 8,
   "id": "96392d97",
   "metadata": {},
   "outputs": [],
   "source": [
    "import string\n",
    "# string.punctuation"
   ]
  },
  {
   "cell_type": "code",
   "execution_count": 9,
   "id": "72665881",
   "metadata": {},
   "outputs": [
    {
     "data": {
      "text/plain": [
       "str"
      ]
     },
     "execution_count": 9,
     "metadata": {},
     "output_type": "execute_result"
    }
   ],
   "source": [
    "type(string.punctuation)"
   ]
  },
  {
   "cell_type": "code",
   "execution_count": 10,
   "id": "314d419a",
   "metadata": {},
   "outputs": [],
   "source": [
    "# spec_chars = string.punctuation + '\\xa0«»\\t—…'\n",
    "spec_chars = '\\xa0«»\\t—…!\"#$%&\\'()*+,-/:;<=>?@[\\\\]^_`{|}~'"
   ]
  },
  {
   "cell_type": "code",
   "execution_count": 11,
   "id": "30697930",
   "metadata": {},
   "outputs": [
    {
     "name": "stdout",
     "output_type": "stream",
     "text": [
      "CPU times: user 776 µs, sys: 44 µs, total: 820 µs\n",
      "Wall time: 823 µs\n"
     ]
    }
   ],
   "source": [
    "%%time\n",
    "text = \"\".join([ch for ch in text if ch not in spec_chars])"
   ]
  },
  {
   "cell_type": "code",
   "execution_count": 12,
   "id": "16e1e6cf",
   "metadata": {},
   "outputs": [],
   "source": [
    "import re\n",
    "text = re.sub('\\n', ' ', text)"
   ]
  },
  {
   "cell_type": "code",
   "execution_count": 13,
   "id": "233b5104",
   "metadata": {},
   "outputs": [],
   "source": [
    "# print(text)"
   ]
  },
  {
   "cell_type": "code",
   "execution_count": 14,
   "id": "ff08c82c",
   "metadata": {},
   "outputs": [],
   "source": [
    "def remove_chars_from_text(text, chars):\n",
    "    return \"\".join([ch for ch in text if ch not in chars])"
   ]
  },
  {
   "cell_type": "code",
   "execution_count": 15,
   "id": "d7bb128b",
   "metadata": {},
   "outputs": [
    {
     "name": "stdout",
     "output_type": "stream",
     "text": [
      "CPU times: user 848 µs, sys: 41 µs, total: 889 µs\n",
      "Wall time: 898 µs\n"
     ]
    }
   ],
   "source": [
    "%%time\n",
    "text = remove_chars_from_text(text, spec_chars)"
   ]
  },
  {
   "cell_type": "code",
   "execution_count": 16,
   "id": "97dcdcd9",
   "metadata": {},
   "outputs": [
    {
     "name": "stdout",
     "output_type": "stream",
     "text": [
      "                           combat arms                          2869 grove way               castro valley california 945466709                     telephone 415 5386544        the following material was downloaded from the nasa spacelink bbs at the national aeronautics and space administration george c. marshall space flight center marshall space flight center alabama 35812 on 111688.    b l a c k    h o l e s    i n    s p a c e         there is much more to black holes than meets the eye.  in fact your eyes even with the aid of the most advanced telescope will never see a black hole in space.  the reason is that the matter within a black hole is so dense and has so great a gravitational pull that it prevents even light from escaping.        like other electromagnetic radiation radio waves infrared rays ultraviolet radiation xrays and gamma radiation light is the fastest traveler in the universe.  it moves at nearly 300000 kilometers about 186000 miles per second.  at such a speed you could circle the earth seven times between heartbeats.        if light cant escape a black hole it follows that nothing else can.  consequently there is no direct way to detect a black hole.        in fact the principal evidence of the existence of black holes comes not from observation but from solutions to complex equations based on einsteins theory of general relativity.  among other things the calculations indicate that black holes may occur in a variety of sizes and be more abundant than most of us realize.     mini black holes        some black holes are theorized to be nearly as old as the big bang which is hypothesized to have started our universe 10 to 20 billion years ago.  the rapid early expansion of some parts of the dense hot matter in this nascent universe is said to have so compressed less rapidly moving parts that the latter became superdense and collapsed further forming black holes.  among the holes so created may be the submicroscopic miniblack holes.        a miniblack hole may be as small as an atomic particle but contain as much mass material as mount everest.  never underestimate the power of a miniblack hole.  if some event caused it to decompress it would be as if millions of hydrogen bombs were simultaneously detonated.     how stars die        the most widespread support is given to the theory that a black hole is the natural end product of a giant stars death.  according to this theory a star like our sun and others we see in the sky lives as long as thermal energy and radiation from nuclear reactions in its core provide sufficient outward pressure to counteract the inward pressure of gravity caused by the stars own great mass.        when the star exhausts its nuclear fuels it succumbs to the forces of its own gravity and literally collapses inward.  according to equations derived from quantum mechanics and einsteins theory of general relativity the stars remaining mass determines whether it becomes a white dwarf a neutron star or black hole.     white dwarfs        stars are usually measured in comparison with our suns mass.  a star whose remaining mass is about that of our sun condenses to approximately the size of earth.  the stars contraction is halted by the collective resistance of electrons pressed against each other and their atomic nuclei.  matter in this collapsed star is so tightly packed that a piece the size of a sugar cube would weigh thousands of kilograms.  gravitational contraction would also have made the star white hot.  it is appropriately called a white dwarf.        astronomers have detected white dwarfs in space.  the first discovery was a planetsized object that seemed to exert a disproportionately high gravitational effect upon a celestial companion the so call dog star sirius which is about 2.28 times our suns mass.  it appeared that this planetsized object would have to be about as massive as our sun to affect sirius as it did.  moreover spectral analysis indicated the stars color was white.        based upon these and other studies astronomers concluded that they had found a white dwarf.  however it took many years after the discovery in 1914 before most scientists accepted the fact that an object thousands of times denser than anything possible on earth could exist.     neutron stars and supernovas        giant stars usually lose most of their mass during their normal lifetimes.  if such a star still retains 1 12 to 3 solar masses after exhaustion of its nuclear fuels it would collapse to even greater density and smaller size than the white dwarf.  the reason is that there is a limit on the amount of compression electrons can resist in the presence of atomic nuclei.        in this instance the limit is breached.  electrons are literally driven into atomic nuclei mating with protons to form neutrons and thus transmuting nuclei into neutrons.  the resulting object is aptly called a neutron star.  it may be only a few kilometers in diameter.  a sugarcube size piece of this star would weigh about onehalf a trillion kilograms.        sometimes as electrons are driven into protons in atomic nuclei neutrinos are blown outward so forcefully that they blast off the stars outer layer.  this creates a supernova that may temporarily outshine all of the other stars in a galaxy.        the most prominent object believed to be a neutron star is the crab nebula the remnant of a supernova observed and reported by chinese astronomers in 1504.  a starlike object in the nebula blinks or pulses about 30 times per second in visible light radio waves and x and gamma rays.  the radio pulses are believed to result from interaction between a point on the spinning star and the stars magnetic field.  as the star rotates this point is theorized alternately to face and be turned away from earth.  the fast rotation rate implied by the interval between pulses indicates the star is no more than a few kilometers in diameter because if it were larger it would be torn apart by centrifugal force.     pulsars        radio telescopes have detected a large number of other objects which send out naturally pulsed radio signals.  they were named pulsars.  like the object in the crab nebula they are presumed to be rotating neutron stars.        of these pulsars only the vela pulsarwhich gets its name because of its location in the vela sails constellationpulses at wavelengths shorter than radio.  like the crab pulsar the vela pulsar also pulses at optical and gamma ray wavelengths.  however unlike the crab pulsar it is not an xray pulsar.  aside from the mystery generated by these differences scientists also debate the reasons for the pulses at gamma xray and optical frequencies.  as noted earlier they agree on the origin of the radio pulses.     black holes        when a star has three or more solar masses left after it exhausts its nuclear fuels it can become a black hole.        like the white dwarf and neutron star this stars density and gravity increase with contraction.  consequently the stars gravitational escape velocity speed needed to escape from the star increases.  when the star has shrunk to the schwarzschild radius named for the man who first calculated it its gravitational escape velocity would be nearly 300000 kilometers per second which is equal to the speed of light.  consequently light could never leave the star.        reduction of a giant star to the schwarzschild radius represents an incredible compression of mass and decrease in size.  as an example mathematicians calculate that for a star of 10 solar masses ten times the mass of our sun after exhaustion of its nuclear fuels the schwarzschild radius is about 30 kilometers.        according to the law of general relativity space and time are warped or curved by gravity.  time is theorized to point into the \n"
     ]
    }
   ],
   "source": [
    "print(text)"
   ]
  },
  {
   "cell_type": "code",
   "execution_count": 17,
   "id": "4cb4b0af",
   "metadata": {},
   "outputs": [
    {
     "name": "stdout",
     "output_type": "stream",
     "text": [
      "CPU times: user 963 µs, sys: 89 µs, total: 1.05 ms\n",
      "Wall time: 1.06 ms\n"
     ]
    }
   ],
   "source": [
    "%%time\n",
    "text = remove_chars_from_text(text, string.digits)"
   ]
  },
  {
   "cell_type": "code",
   "execution_count": 18,
   "id": "cdda0243",
   "metadata": {},
   "outputs": [],
   "source": [
    "# print(text)"
   ]
  },
  {
   "cell_type": "markdown",
   "id": "61b8abfc",
   "metadata": {},
   "source": [
    "# Токенизация текста\n",
    "Токенизация — самый первый шаг при обработке текста.\n",
    "[Примеры токенизации](https://www.nltk.org/api/nltk.tokenize)"
   ]
  },
  {
   "cell_type": "code",
   "execution_count": 19,
   "id": "f9ce4ce6",
   "metadata": {},
   "outputs": [],
   "source": [
    "# токенайзер по пробелам (банально, да)\n",
    "from nltk.tokenize import WhitespaceTokenizer\n",
    "text = text.replace(\".\", \" .\")"
   ]
  },
  {
   "cell_type": "code",
   "execution_count": 20,
   "id": "fb0ed4ea",
   "metadata": {},
   "outputs": [],
   "source": [
    "tokenizer = WhitespaceTokenizer()\n",
    "text = tokenizer.tokenize(text)\n",
    "# text = nltk.word_tokenize(text)"
   ]
  },
  {
   "cell_type": "code",
   "execution_count": 21,
   "id": "3d8a94e1",
   "metadata": {},
   "outputs": [],
   "source": [
    "text = list(filter(lambda x: x if (len(x)>1 or x == '.') else None, text))"
   ]
  },
  {
   "cell_type": "code",
   "execution_count": 22,
   "id": "97447698",
   "metadata": {},
   "outputs": [
    {
     "name": "stdout",
     "output_type": "stream",
     "text": [
      "['combat', 'arms', 'grove', 'way', 'castro', 'valley', 'california', 'telephone', 'the', 'following', 'material', 'was', 'downloaded', 'from', 'the', 'nasa', 'spacelink', 'bbs', 'at', 'the', 'national', 'aeronautics', 'and', 'space', 'administration', 'george', '.', 'marshall', 'space', 'flight', 'center', 'marshall', 'space', 'flight', 'center', 'alabama', 'on', '.', 'there', 'is', 'much', 'more', 'to', 'black', 'holes', 'than', 'meets', 'the', 'eye', '.', 'in', 'fact', 'your', 'eyes', 'even', 'with', 'the', 'aid', 'of', 'the', 'most', 'advanced', 'telescope', 'will', 'never', 'see', 'black', 'hole', 'in', 'space', '.', 'the', 'reason', 'is', 'that', 'the', 'matter', 'within', 'black', 'hole', 'is', 'so', 'dense', 'and', 'has', 'so', 'great', 'gravitational', 'pull', 'that', 'it', 'prevents', 'even', 'light', 'from', 'escaping', '.', 'like', 'other', 'electromagnetic', 'radiation', 'radio', 'waves', 'infrared', 'rays', 'ultraviolet', 'radiation', 'xrays', 'and', 'gamma', 'radiation', 'light', 'is', 'the', 'fastest', 'traveler', 'in', 'the', 'universe', '.', 'it', 'moves', 'at', 'nearly', 'kilometers', 'about', 'miles', 'per', 'second', '.', 'at', 'such', 'speed', 'you', 'could', 'circle', 'the', 'earth', 'seven', 'times', 'between', 'heartbeats', '.', 'if', 'light', 'cant', 'escape', 'black', 'hole', 'it', 'follows', 'that', 'nothing', 'else', 'can', '.', 'consequently', 'there', 'is', 'no', 'direct', 'way', 'to', 'detect', 'black', 'hole', '.', 'in', 'fact', 'the', 'principal', 'evidence', 'of', 'the', 'existence', 'of', 'black', 'holes', 'comes', 'not', 'from', 'observation', 'but', 'from', 'solutions', 'to', 'complex', 'equations', 'based', 'on', 'einsteins', 'theory', 'of', 'general', 'relativity', '.', 'among', 'other', 'things', 'the', 'calculations', 'indicate', 'that', 'black', 'holes', 'may', 'occur', 'in', 'variety', 'of', 'sizes', 'and', 'be', 'more', 'abundant', 'than', 'most', 'of', 'us', 'realize', '.', 'mini', 'black', 'holes', 'some', 'black', 'holes', 'are', 'theorized', 'to', 'be', 'nearly', 'as', 'old', 'as', 'the', 'big', 'bang', 'which', 'is', 'hypothesized', 'to', 'have', 'started', 'our', 'universe', 'to', 'billion', 'years', 'ago', '.', 'the', 'rapid', 'early', 'expansion', 'of', 'some', 'parts', 'of', 'the', 'dense', 'hot', 'matter', 'in', 'this', 'nascent', 'universe', 'is', 'said', 'to', 'have', 'so', 'compressed', 'less', 'rapidly', 'moving', 'parts', 'that', 'the', 'latter', 'became', 'superdense', 'and', 'collapsed', 'further', 'forming', 'black', 'holes', '.', 'among', 'the', 'holes', 'so', 'created', 'may', 'be', 'the', 'submicroscopic', 'miniblack', 'holes', '.', 'miniblack', 'hole', 'may', 'be', 'as', 'small', 'as', 'an', 'atomic', 'particle', 'but', 'contain', 'as', 'much', 'mass', 'material', 'as', 'mount', 'everest', '.', 'never', 'underestimate', 'the', 'power', 'of', 'miniblack', 'hole', '.', 'if', 'some', 'event', 'caused', 'it', 'to', 'decompress', 'it', 'would', 'be', 'as', 'if', 'millions', 'of', 'hydrogen', 'bombs', 'were', 'simultaneously', 'detonated', '.', 'how', 'stars', 'die', 'the', 'most', 'widespread', 'support', 'is', 'given', 'to', 'the', 'theory', 'that', 'black', 'hole', 'is', 'the', 'natural', 'end', 'product', 'of', 'giant', 'stars', 'death', '.', 'according', 'to', 'this', 'theory', 'star', 'like', 'our', 'sun', 'and', 'others', 'we', 'see', 'in', 'the', 'sky', 'lives', 'as', 'long', 'as', 'thermal', 'energy', 'and', 'radiation', 'from', 'nuclear', 'reactions', 'in', 'its', 'core', 'provide', 'sufficient', 'outward', 'pressure', 'to', 'counteract', 'the', 'inward', 'pressure', 'of', 'gravity', 'caused', 'by', 'the', 'stars', 'own', 'great', 'mass', '.', 'when', 'the', 'star', 'exhausts', 'its', 'nuclear', 'fuels', 'it', 'succumbs', 'to', 'the', 'forces', 'of', 'its', 'own', 'gravity', 'and', 'literally', 'collapses', 'inward', '.', 'according', 'to', 'equations', 'derived', 'from', 'quantum', 'mechanics', 'and', 'einsteins', 'theory', 'of', 'general', 'relativity', 'the', 'stars', 'remaining', 'mass', 'determines', 'whether', 'it', 'becomes', 'white', 'dwarf', 'neutron', 'star', 'or', 'black', 'hole', '.', 'white', 'dwarfs', 'stars', 'are', 'usually', 'measured', 'in', 'comparison', 'with', 'our', 'suns', 'mass', '.', 'star', 'whose', 'remaining', 'mass', 'is', 'about', 'that', 'of', 'our', 'sun', 'condenses', 'to', 'approximately', 'the', 'size', 'of', 'earth', '.', 'the', 'stars', 'contraction', 'is', 'halted', 'by', 'the', 'collective', 'resistance', 'of', 'electrons', 'pressed', 'against', 'each', 'other', 'and', 'their', 'atomic', 'nuclei', '.', 'matter', 'in', 'this', 'collapsed', 'star', 'is', 'so', 'tightly', 'packed', 'that', 'piece', 'the', 'size', 'of', 'sugar', 'cube', 'would', 'weigh', 'thousands', 'of', 'kilograms', '.', 'gravitational', 'contraction', 'would', 'also', 'have', 'made', 'the', 'star', 'white', 'hot', '.', 'it', 'is', 'appropriately', 'called', 'white', 'dwarf', '.', 'astronomers', 'have', 'detected', 'white', 'dwarfs', 'in', 'space', '.', 'the', 'first', 'discovery', 'was', 'planetsized', 'object', 'that', 'seemed', 'to', 'exert', 'disproportionately', 'high', 'gravitational', 'effect', 'upon', 'celestial', 'companion', 'the', 'so', 'call', 'dog', 'star', 'sirius', 'which', 'is', 'about', '.', 'times', 'our', 'suns', 'mass', '.', 'it', 'appeared', 'that', 'this', 'planetsized', 'object', 'would', 'have', 'to', 'be', 'about', 'as', 'massive', 'as', 'our', 'sun', 'to', 'affect', 'sirius', 'as', 'it', 'did', '.', 'moreover', 'spectral', 'analysis', 'indicated', 'the', 'stars', 'color', 'was', 'white', '.', 'based', 'upon', 'these', 'and', 'other', 'studies', 'astronomers', 'concluded', 'that', 'they', 'had', 'found', 'white', 'dwarf', '.', 'however', 'it', 'took', 'many', 'years', 'after', 'the', 'discovery', 'in', 'before', 'most', 'scientists', 'accepted', 'the', 'fact', 'that', 'an', 'object', 'thousands', 'of', 'times', 'denser', 'than', 'anything', 'possible', 'on', 'earth', 'could', 'exist', '.', 'neutron', 'stars', 'and', 'supernovas', 'giant', 'stars', 'usually', 'lose', 'most', 'of', 'their', 'mass', 'during', 'their', 'normal', 'lifetimes', '.', 'if', 'such', 'star', 'still', 'retains', 'to', 'solar', 'masses', 'after', 'exhaustion', 'of', 'its', 'nuclear', 'fuels', 'it', 'would', 'collapse', 'to', 'even', 'greater', 'density', 'and', 'smaller', 'size', 'than', 'the', 'white', 'dwarf', '.', 'the', 'reason', 'is', 'that', 'there', 'is', 'limit', 'on', 'the', 'amount', 'of', 'compression', 'electrons', 'can', 'resist', 'in', 'the', 'presence', 'of', 'atomic', 'nuclei', '.', 'in', 'this', 'instance', 'the', 'limit', 'is', 'breached', '.', 'electrons', 'are', 'literally', 'driven', 'into', 'atomic', 'nuclei', 'mating', 'with', 'protons', 'to', 'form', 'neutrons', 'and', 'thus', 'transmuting', 'nuclei', 'into', 'neutrons', '.', 'the', 'resulting', 'object', 'is', 'aptly', 'called', 'neutron', 'star', '.', 'it', 'may', 'be', 'only', 'few', 'kilometers', 'in', 'diameter', '.', 'sugarcube', 'size', 'piece', 'of', 'this', 'star', 'would', 'weigh', 'about', 'onehalf', 'trillion', 'kilograms', '.', 'sometimes', 'as', 'electrons', 'are', 'driven', 'into', 'protons', 'in', 'atomic', 'nuclei', 'neutrinos', 'are', 'blown', 'outward', 'so', 'forcefully', 'that', 'they', 'blast', 'off', 'the', 'stars', 'outer', 'layer', '.', 'this', 'creates', 'supernova', 'that', 'may', 'temporarily', 'outshine', 'all', 'of', 'the', 'other', 'stars', 'in', 'galaxy', '.', 'the', 'most', 'prominent', 'object', 'believed', 'to', 'be', 'neutron', 'star', 'is', 'the', 'crab', 'nebula', 'the', 'remnant', 'of', 'supernova', 'observed', 'and', 'reported', 'by', 'chinese', 'astronomers', 'in', '.', 'starlike', 'object', 'in', 'the', 'nebula', 'blinks', 'or', 'pulses', 'about', 'times', 'per', 'second', 'in', 'visible', 'light', 'radio', 'waves', 'and', 'and', 'gamma', 'rays', '.', 'the', 'radio', 'pulses', 'are', 'believed', 'to', 'result', 'from', 'interaction', 'between', 'point', 'on', 'the', 'spinning', 'star', 'and', 'the', 'stars', 'magnetic', 'field', '.', 'as', 'the', 'star', 'rotates', 'this', 'point', 'is', 'theorized', 'alternately', 'to', 'face', 'and', 'be', 'turned', 'away', 'from', 'earth', '.', 'the', 'fast', 'rotation', 'rate', 'implied', 'by', 'the', 'interval', 'between', 'pulses', 'indicates', 'the', 'star', 'is', 'no', 'more', 'than', 'few', 'kilometers', 'in', 'diameter', 'because', 'if', 'it', 'were', 'larger', 'it', 'would', 'be', 'torn', 'apart', 'by', 'centrifugal', 'force', '.', 'pulsars', 'radio', 'telescopes', 'have', 'detected', 'large', 'number', 'of', 'other', 'objects', 'which', 'send', 'out', 'naturally', 'pulsed', 'radio', 'signals', '.', 'they', 'were', 'named', 'pulsars', '.', 'like', 'the', 'object', 'in', 'the', 'crab', 'nebula', 'they', 'are', 'presumed', 'to', 'be', 'rotating', 'neutron', 'stars', '.', 'of', 'these', 'pulsars', 'only', 'the', 'vela', 'pulsarwhich', 'gets', 'its', 'name', 'because', 'of', 'its', 'location', 'in', 'the', 'vela', 'sails', 'constellationpulses', 'at', 'wavelengths', 'shorter', 'than', 'radio', '.', 'like', 'the', 'crab', 'pulsar', 'the', 'vela', 'pulsar', 'also', 'pulses', 'at', 'optical', 'and', 'gamma', 'ray', 'wavelengths', '.', 'however', 'unlike', 'the', 'crab', 'pulsar', 'it', 'is', 'not', 'an', 'xray', 'pulsar', '.', 'aside', 'from', 'the', 'mystery', 'generated', 'by', 'these', 'differences', 'scientists', 'also', 'debate', 'the', 'reasons', 'for', 'the', 'pulses', 'at', 'gamma', 'xray', 'and', 'optical', 'frequencies', '.', 'as', 'noted', 'earlier', 'they', 'agree', 'on', 'the', 'origin', 'of', 'the', 'radio', 'pulses', '.', 'black', 'holes', 'when', 'star', 'has', 'three', 'or', 'more', 'solar', 'masses', 'left', 'after', 'it', 'exhausts', 'its', 'nuclear', 'fuels', 'it', 'can', 'become', 'black', 'hole', '.', 'like', 'the', 'white', 'dwarf', 'and', 'neutron', 'star', 'this', 'stars', 'density', 'and', 'gravity', 'increase', 'with', 'contraction', '.', 'consequently', 'the', 'stars', 'gravitational', 'escape', 'velocity', 'speed', 'needed', 'to', 'escape', 'from', 'the', 'star', 'increases', '.', 'when', 'the', 'star', 'has', 'shrunk', 'to', 'the', 'schwarzschild', 'radius', 'named', 'for', 'the', 'man', 'who', 'first', 'calculated', 'it', 'its', 'gravitational', 'escape', 'velocity', 'would', 'be', 'nearly', 'kilometers', 'per', 'second', 'which', 'is', 'equal', 'to', 'the', 'speed', 'of', 'light', '.', 'consequently', 'light', 'could', 'never', 'leave', 'the', 'star', '.', 'reduction', 'of', 'giant', 'star', 'to', 'the', 'schwarzschild', 'radius', 'represents', 'an', 'incredible', 'compression', 'of', 'mass', 'and', 'decrease', 'in', 'size', '.', 'as', 'an', 'example', 'mathematicians', 'calculate', 'that', 'for', 'star', 'of', 'solar', 'masses', 'ten', 'times', 'the', 'mass', 'of', 'our', 'sun', 'after', 'exhaustion', 'of', 'its', 'nuclear', 'fuels', 'the', 'schwarzschild', 'radius', 'is', 'about', 'kilometers', '.', 'according', 'to', 'the', 'law', 'of', 'general', 'relativity', 'space', 'and', 'time', 'are', 'warped', 'or', 'curved', 'by', 'gravity', '.', 'time', 'is', 'theorized', 'to', 'point', 'into', 'the']\n"
     ]
    }
   ],
   "source": [
    "print(text)"
   ]
  },
  {
   "cell_type": "markdown",
   "id": "62cff978",
   "metadata": {},
   "source": [
    "# Стоп-слова\n",
    "Стоп-слова — высокочастотные слова, которые не дают нам никакой информации о конкретном тексте. Они составляют верхушку частотного списка в любом языке. Набор стоп-слов не универсален, он будет зависеть от вашей задачи!"
   ]
  },
  {
   "cell_type": "code",
   "execution_count": 23,
   "id": "ad7ce4db",
   "metadata": {},
   "outputs": [],
   "source": [
    "import nltk\n",
    "# nltk.download()\n",
    "from nltk.corpus import stopwords"
   ]
  },
  {
   "cell_type": "code",
   "execution_count": 24,
   "id": "6786beec",
   "metadata": {},
   "outputs": [
    {
     "data": {
      "text/plain": [
       "['arabic',\n",
       " 'azerbaijani',\n",
       " 'danish',\n",
       " 'dutch',\n",
       " 'english',\n",
       " 'finnish',\n",
       " 'french',\n",
       " 'german',\n",
       " 'greek',\n",
       " 'hungarian',\n",
       " 'indonesian',\n",
       " 'italian',\n",
       " 'kazakh',\n",
       " 'nepali',\n",
       " 'norwegian',\n",
       " 'portuguese',\n",
       " 'romanian',\n",
       " 'russian',\n",
       " 'slovene',\n",
       " 'spanish',\n",
       " 'swedish',\n",
       " 'tajik',\n",
       " 'turkish']"
      ]
     },
     "execution_count": 24,
     "metadata": {},
     "output_type": "execute_result"
    }
   ],
   "source": [
    "# смотрим, какие языки есть\n",
    "stopwords.fileids()"
   ]
  },
  {
   "cell_type": "code",
   "execution_count": 25,
   "id": "294fb7a4",
   "metadata": {},
   "outputs": [
    {
     "data": {
      "text/plain": [
       "['i',\n",
       " 'me',\n",
       " 'my',\n",
       " 'myself',\n",
       " 'we',\n",
       " 'our',\n",
       " 'ours',\n",
       " 'ourselves',\n",
       " 'you',\n",
       " \"you're\",\n",
       " \"you've\",\n",
       " \"you'll\",\n",
       " \"you'd\",\n",
       " 'your',\n",
       " 'yours',\n",
       " 'yourself',\n",
       " 'yourselves',\n",
       " 'he',\n",
       " 'him',\n",
       " 'his']"
      ]
     },
     "execution_count": 25,
     "metadata": {},
     "output_type": "execute_result"
    }
   ],
   "source": [
    "stopwords_ru = stopwords.words('english') \n",
    "stopwords_ru[:20]"
   ]
  },
  {
   "cell_type": "code",
   "execution_count": null,
   "id": "890be869",
   "metadata": {},
   "outputs": [],
   "source": [
    "text = [word for word in text if not word in stopwords.words()]"
   ]
  },
  {
   "cell_type": "code",
   "execution_count": null,
   "id": "9c46dc91",
   "metadata": {},
   "outputs": [],
   "source": [
    "print(len(\" \".join(text)))"
   ]
  },
  {
   "cell_type": "markdown",
   "id": "b3c7b140",
   "metadata": {},
   "source": [
    "# Нормализация"
   ]
  },
  {
   "cell_type": "markdown",
   "id": "5d99873c",
   "metadata": {},
   "source": [
    "Стемминг — отсечение от слова окончаний и суффиксов, чтобы оставшаяся часть, называемая stem, была одинаковой для всех грамматических форм слова. Стем необязательно совпадает с морфлогической основой слова. Одинаковый стем может получиться и не у однокоренных слов и наоборот — в этом проблема стемминга.\n",
    "\n",
    "1-ый вид ошибки: белый, белка, белье $\\implies$ бел\n",
    "\n",
    "2-ой вид ошибки: трудность, трудный $\\implies$ трудност, труд\n",
    "\n",
    "3-ий вид ошибки: быстрый, быстрее $\\implies$ быст, побыстрее $\\implies$ побыст\n",
    "\n",
    "Самый простой алгоритм, алгоритм Портера, состоит из 5 циклов команд, на каждом цикле – операция удаления / замены суффикса. Возможны вероятностные расширения алгоритма.\n",
    "\n",
    "\n",
    "## Лемматизация и стемминг – это частные случаи нормализации и они отличаются.\n",
    "\n",
    "Стемминг – это грубый эвристический процесс, который отрезает «лишнее» от корня слов, часто это приводит к потере словообразовательных суффиксов.\n",
    "\n",
    "Лемматизация – это более тонкий процесс, который использует словарь и морфологический анализ, чтобы в итоге привести слово к его канонической форме – лемме.\n",
    "\n",
    "Отличие в том, что стеммер (конкретная реализация алгоритма стемминга – прим.переводчика) действует без знания контекста и, соответственно, не понимает разницу между словами, которые имеют разный смысл в зависимости от части речи. Однако у стеммеров есть и свои преимущества: их проще внедрить и они работают быстрее. Плюс, более низкая «аккуратность» может не иметь значения в некоторых случаях.\n",
    "\n",
    "Примеры:\n",
    "\n",
    "Слово good – это лемма для слова better. Стеммер не увидит эту связь, так как здесь нужно сверяться со словарем.\n",
    "Слово play – это базовая форма слова playing. Тут справятся и стемминг, и лемматизация.\n",
    "Слово meeting может быть как нормальной формой существительного, так и формой глагола to meet, в зависимости от контекста. В отличие от стемминга, лемматизация попробует выбрать правильную лемму, опираясь на контекст.\n",
    "\n",
    "Теперь, когда мы знаем, в чем разница, давайте рассмотрим пример:\n"
   ]
  },
  {
   "cell_type": "code",
   "execution_count": null,
   "id": "072a0ba9",
   "metadata": {},
   "outputs": [],
   "source": [
    "text_normalization = \" \".join([str(item) for item in text])\n",
    "print(text_normalization)"
   ]
  },
  {
   "cell_type": "code",
   "execution_count": null,
   "id": "2751d966",
   "metadata": {},
   "outputs": [],
   "source": [
    "tokenizer = nltk.tokenize.TreebankWordTokenizer()\n",
    "tokens = tokenizer.tokenize(text_normalization)"
   ]
  },
  {
   "cell_type": "code",
   "execution_count": null,
   "id": "85020bf4",
   "metadata": {},
   "outputs": [],
   "source": [
    "stemmer = nltk.stem.PorterStemmer()\n",
    "\n",
    "text_stemming = \" \".join(stemmer.stem(token) for token in tokens)"
   ]
  },
  {
   "cell_type": "code",
   "execution_count": null,
   "id": "7b2b3564",
   "metadata": {},
   "outputs": [],
   "source": [
    "print(text_stemming)"
   ]
  },
  {
   "cell_type": "markdown",
   "id": "a0211d7e",
   "metadata": {},
   "source": [
    "# Лемматизация\n",
    "Лемматизация — процесс приведения словоформы к лемме, т.е. нормальной (словарной) форме. Это более сложная задача, чем стемминг, но и результаты дает гораздо более осмысленные, особенно для языков с богатой морфологией.\n",
    "\n",
    "кошке, кошку, кошкам, кошкой $\\implies$ кошка\n",
    "бежал, бежит, бегу $\\implies$ бежать\n",
    "белому, белым, белыми $\\implies$ белый"
   ]
  },
  {
   "cell_type": "code",
   "execution_count": null,
   "id": "f1711f85",
   "metadata": {},
   "outputs": [],
   "source": [
    "tokenizer = nltk.tokenize.TreebankWordTokenizer()\n",
    "tokens = tokenizer.tokenize(text_stemming)"
   ]
  },
  {
   "cell_type": "code",
   "execution_count": null,
   "id": "b448bfae",
   "metadata": {},
   "outputs": [],
   "source": [
    "lemmatizator = nltk.stem.WordNetLemmatizer()\n",
    "text_lemmatization = \" \".join(lemmatizator.lemmatize(token) for token in tokens)"
   ]
  },
  {
   "cell_type": "code",
   "execution_count": null,
   "id": "fe18d5f6",
   "metadata": {},
   "outputs": [],
   "source": [
    "tokenizer = WhitespaceTokenizer()\n",
    "text_lemmatization = tokenizer.tokenize(text_lemmatization)"
   ]
  },
  {
   "cell_type": "code",
   "execution_count": null,
   "id": "5dc22a82",
   "metadata": {},
   "outputs": [],
   "source": [
    "print(text_lemmatization)"
   ]
  },
  {
   "cell_type": "code",
   "execution_count": null,
   "id": "0e3a597e",
   "metadata": {},
   "outputs": [],
   "source": [
    "print(\"Символов до нормализации: %d\"%(len(\" \".join(text))))\n",
    "print(\"Символов после стемминга: %d\"%(len(text_stemming)))\n",
    "print(\"Символов после лемматизации: %d\"%len(\" \".join(text_lemmatization)))"
   ]
  },
  {
   "cell_type": "markdown",
   "id": "0e702196",
   "metadata": {},
   "source": [
    "# Исправление опечаток\n",
    "[Простейший спеллчекер Норвига](https://norvig.com/spell-correct.html)"
   ]
  },
  {
   "cell_type": "markdown",
   "id": "9cecb34d",
   "metadata": {},
   "source": [
    "# Подсчёт статистики встречаемости слов в тексте"
   ]
  },
  {
   "cell_type": "code",
   "execution_count": null,
   "id": "e86c4fa9",
   "metadata": {},
   "outputs": [],
   "source": [
    "%%time\n",
    "from nltk.probability import FreqDist\n",
    "fdist = FreqDist(text)\n",
    "fdist"
   ]
  },
  {
   "cell_type": "code",
   "execution_count": null,
   "id": "9f13286e",
   "metadata": {},
   "outputs": [],
   "source": [
    "fdist.most_common(5)"
   ]
  },
  {
   "cell_type": "code",
   "execution_count": null,
   "id": "4c5f0af2",
   "metadata": {},
   "outputs": [],
   "source": [
    "fdist.plot(35,cumulative=False)"
   ]
  },
  {
   "cell_type": "markdown",
   "id": "70a503ca",
   "metadata": {},
   "source": [
    "# С параметром cumulative=False график иллюстрирует закон Ципфа\n",
    "**Закон Ципфа** («ранг—частота»). Например, Если все слова достаточно длинного текста упорядочить по убыванию частоты их использования, то частота n-го слова в таком списке окажется приблизительно обратно пропорциональной его порядковому номеру n.\n",
    "Второе по используемости слово встречается примерно в два раза реже, чем первое, третье — в три раза реже, чем первое, и т.д."
   ]
  },
  {
   "cell_type": "code",
   "execution_count": null,
   "id": "d017b599",
   "metadata": {},
   "outputs": [],
   "source": [
    "from IPython.display import Image\n",
    "from IPython.core.display import HTML \n",
    "Image(url= \"https://ic.pics.livejournal.com/eponim2008/17443609/234916/234916_original.jpg\")"
   ]
  },
  {
   "cell_type": "markdown",
   "id": "c10a14e9",
   "metadata": {},
   "source": [
    "https://github.com/ancatmara/data-science-nlp/blob/master/1.%20Intro.ipynb\n",
    "\n",
    "Закон назван именем американского лингвиста Джорджа Ципфа (правда, популяризировал он данную закономерность не для лингвистических данных, а для описания распределения экономических сил и социального статуса). Если закон Ципфа соблюдается — значит, перед вами нормальный текст на естественном языке. Если нет, то что-то с ним не так."
   ]
  },
  {
   "cell_type": "markdown",
   "id": "301a3540",
   "metadata": {},
   "source": [
    "# Визуализация"
   ]
  },
  {
   "cell_type": "code",
   "execution_count": null,
   "id": "f214c5cc",
   "metadata": {},
   "outputs": [],
   "source": [
    "from wordcloud import WordCloud"
   ]
  },
  {
   "cell_type": "code",
   "execution_count": null,
   "id": "c9a7e64b",
   "metadata": {},
   "outputs": [],
   "source": [
    "import sys\n",
    "print(sys.executable)"
   ]
  },
  {
   "cell_type": "code",
   "execution_count": null,
   "id": "7fae60a2",
   "metadata": {},
   "outputs": [],
   "source": [
    "import matplotlib.pyplot as plt\n",
    "%matplotlib inline"
   ]
  },
  {
   "cell_type": "code",
   "execution_count": null,
   "id": "9b6e034a",
   "metadata": {},
   "outputs": [],
   "source": [
    "text_raw = \" \".join(text)"
   ]
  },
  {
   "cell_type": "code",
   "execution_count": null,
   "id": "1ae24e69",
   "metadata": {},
   "outputs": [],
   "source": [
    "wordcloud = WordCloud().generate(text_raw)"
   ]
  },
  {
   "cell_type": "code",
   "execution_count": null,
   "id": "076f5476",
   "metadata": {},
   "outputs": [],
   "source": [
    "plt.imshow(wordcloud, interpolation='bilinear')\n",
    "plt.axis(\"off\")\n",
    "plt.show()"
   ]
  },
  {
   "cell_type": "markdown",
   "id": "769c58ff",
   "metadata": {},
   "source": [
    "# Векторизация\n",
    "Создаем векторы документа и строим итоговую матрицутермы-на-документы."
   ]
  },
  {
   "cell_type": "code",
   "execution_count": null,
   "id": "3baf3765",
   "metadata": {},
   "outputs": [],
   "source": [
    "text = \" \".join(word for word in text)\n",
    "text = text.replace(\" .\", \".\")\n",
    "# print(text)"
   ]
  },
  {
   "cell_type": "markdown",
   "id": "c76af9d0",
   "metadata": {},
   "source": [
    "https://habr.com/ru/company/Voximplant/blog/446738/\n",
    "Регулярное выражение (регулярка, regexp, regex) – это последовательность символов, которая определяет шаблон поиска. Например:"
   ]
  },
  {
   "cell_type": "code",
   "execution_count": null,
   "id": "bbeb81eb",
   "metadata": {},
   "outputs": [],
   "source": [
    "text = re.split('(?<!\\w\\.\\w.)(?<![A-Z][a-z]\\.)(?<=\\.|\\?)\\s', text)\n",
    "# print(text)"
   ]
  },
  {
   "cell_type": "code",
   "execution_count": null,
   "id": "f6c432fd",
   "metadata": {},
   "outputs": [],
   "source": [
    "import pandas as pd\n",
    "from sklearn.feature_extraction.text import CountVectorizer\n",
    "\n",
    "count_vectorizer = CountVectorizer(min_df=2, max_df=0.5, ngram_range = (1,2))\n",
    "features = count_vectorizer.fit_transform(text)\n",
    "\n",
    "pd.DataFrame(\n",
    "    features.todense(),\n",
    "    columns = count_vectorizer.get_feature_names()\n",
    ")"
   ]
  },
  {
   "cell_type": "markdown",
   "id": "a58ea595",
   "metadata": {},
   "source": [
    "# TF-IDF"
   ]
  },
  {
   "cell_type": "code",
   "execution_count": null,
   "id": "896447d6",
   "metadata": {},
   "outputs": [],
   "source": [
    "from sklearn.feature_extraction.text import TfidfVectorizer\n",
    "\n",
    "tfidf_vectorizer = TfidfVectorizer(min_df=2, max_df=0.5, ngram_range = (1,2))\n",
    "features = tfidf_vectorizer.fit_transform(text)\n",
    "\n",
    "pd.DataFrame(\n",
    "    features.todense(),\n",
    "    columns = tfidf_vectorizer.get_feature_names()\n",
    ")"
   ]
  },
  {
   "cell_type": "code",
   "execution_count": null,
   "id": "ad241d2c",
   "metadata": {},
   "outputs": [],
   "source": [
    "tfidf_vectorizer = TfidfVectorizer(ngram_range = (1,2))\n",
    "features = tfidf_vectorizer.fit_transform(text)\n",
    "\n",
    "df = pd.DataFrame(\n",
    "    features.todense(),\n",
    "    columns = tfidf_vectorizer.get_feature_names()\n",
    ")\n",
    "\n",
    "df.mean(axis=0).sort_values()"
   ]
  },
  {
   "cell_type": "code",
   "execution_count": null,
   "id": "039a903c",
   "metadata": {},
   "outputs": [],
   "source": [
    "tfidf_vectorizer = TfidfVectorizer(max_features=3, ngram_range = (1,2))\n",
    "features = tfidf_vectorizer.fit_transform(text)\n",
    "\n",
    "pd.DataFrame(\n",
    "    features.todense(),\n",
    "    columns = tfidf_vectorizer.get_feature_names()\n",
    ")"
   ]
  },
  {
   "cell_type": "markdown",
   "id": "986c203c",
   "metadata": {},
   "source": [
    "# kmeans кластеризация текста"
   ]
  },
  {
   "cell_type": "code",
   "execution_count": null,
   "id": "f0110036",
   "metadata": {},
   "outputs": [],
   "source": [
    "from sklearn.cluster import KMeans\n",
    "from sklearn.metrics import adjusted_rand_score"
   ]
  },
  {
   "cell_type": "markdown",
   "id": "1b134810",
   "metadata": {},
   "source": [
    "https://pythonprogramminglanguage.com/kmeans-text-clustering/\n",
    "https://habr.com/ru/post/67078/"
   ]
  },
  {
   "cell_type": "code",
   "execution_count": null,
   "id": "44805230",
   "metadata": {},
   "outputs": [],
   "source": [
    "# vectorizer = TfidfVectorizer(stop_words='english')\n",
    "X = tfidf_vectorizer.fit_transform(text)\n",
    "\n",
    "true_k = 2\n",
    "model = KMeans(n_clusters=true_k, init='k-means++', max_iter=100, n_init=1)\n",
    "model.fit(X)\n",
    "\n",
    "print(\"Top terms per cluster:\")\n",
    "order_centroids = model.cluster_centers_.argsort()[:, ::-1]\n",
    "terms = vectorizer.get_feature_names()\n",
    "for i in range(true_k):\n",
    "    print(\"Cluster %d:\" % i),\n",
    "    for ind in order_centroids[i, :10]:\n",
    "        print(' %s' % terms[ind]),\n",
    "    print\n",
    "\n",
    "print(\"\\n\")\n",
    "print(\"Prediction\")\n",
    "\n",
    "Y = tfidf_vectorizer.transform([\"chrome browser to open.\"])\n",
    "prediction = model.predict(Y)\n",
    "print(prediction)\n",
    "\n",
    "Y = tfidf_vectorizer.transform([\"My cat is hungry.\"])\n",
    "prediction = model.predict(Y)\n",
    "print(prediction)"
   ]
  },
  {
   "cell_type": "code",
   "execution_count": null,
   "id": "de1d759f",
   "metadata": {},
   "outputs": [],
   "source": []
  },
  {
   "cell_type": "code",
   "execution_count": null,
   "id": "345df990",
   "metadata": {},
   "outputs": [],
   "source": []
  },
  {
   "cell_type": "code",
   "execution_count": null,
   "id": "12cddea5",
   "metadata": {},
   "outputs": [],
   "source": []
  },
  {
   "cell_type": "code",
   "execution_count": null,
   "id": "5ede80f0",
   "metadata": {},
   "outputs": [],
   "source": []
  },
  {
   "cell_type": "code",
   "execution_count": null,
   "id": "6967a6b2",
   "metadata": {},
   "outputs": [],
   "source": []
  }
 ],
 "metadata": {
  "kernelspec": {
   "display_name": "Python 3",
   "language": "python",
   "name": "python3"
  },
  "language_info": {
   "codemirror_mode": {
    "name": "ipython",
    "version": 3
   },
   "file_extension": ".py",
   "mimetype": "text/x-python",
   "name": "python",
   "nbconvert_exporter": "python",
   "pygments_lexer": "ipython3",
   "version": "3.8.8"
  }
 },
 "nbformat": 4,
 "nbformat_minor": 5
}
