{
 "cells": [
  {
   "cell_type": "markdown",
   "id": "0273d209",
   "metadata": {},
   "source": [
    "# Загрузка и отображение данных\n"
   ]
  },
  {
   "cell_type": "code",
   "execution_count": 1,
   "id": "a5da0a49",
   "metadata": {},
   "outputs": [],
   "source": [
    "import urllib"
   ]
  },
  {
   "cell_type": "code",
   "execution_count": 2,
   "id": "22ba2e69",
   "metadata": {},
   "outputs": [],
   "source": [
    "url = \"http://textfiles.com/science/blackhol.txt\"\n",
    "file = urllib.request.urlopen(url)\n",
    "text = open(\"text.txt\",\"w\")"
   ]
  },
  {
   "cell_type": "code",
   "execution_count": 3,
   "id": "7ca50ae5",
   "metadata": {},
   "outputs": [],
   "source": [
    "for line in file:\n",
    "    decoded_line = line.decode(\"utf-8\")\n",
    "    text.write(str(decoded_line))"
   ]
  },
  {
   "cell_type": "code",
   "execution_count": 4,
   "id": "46a044a5",
   "metadata": {},
   "outputs": [
    {
     "name": "stdout",
     "output_type": "stream",
     "text": [
      "                           Combat Arms\n",
      "                         2869 Grove Way\n",
      "              Castro Valley, California 94546-6709\n",
      "                    Telephone (415) 538-6544\n",
      "\n",
      "\n",
      "     The following material was downloaded from the NASA SpaceLink\n",
      "BBS at the National Aeronautics and Space Administration, George C.\n",
      "Marshall Space Flight Center, Marshall Space Flight Center, Alabama\n",
      "35812 on 11/16/88.\n",
      "\n",
      "\n",
      "\n",
      "B L A C K    H O L E S    I N    S P A C E\n",
      "-------------------------------------------------------------\n",
      " \n",
      "     There is much more to black holes than meets the eye.  In fact,\n",
      "your eyes, even with the aid of the most advanced telescope, will\n",
      "never see a black hole in space.  The reason is that the matter\n",
      "within a black hole is so dense and has so great a gravitational pull\n",
      "that it prevents even light from escaping.\n",
      " \n",
      "     Like other electromagnetic radiation (radio waves, infrared\n",
      "rays, ultraviolet radiation, X-rays, and gamma radiation), light is\n",
      "the fastest traveler in the Universe.  It moves at nearly 300,000\n",
      "kilometers (about 186,000 miles) per second.  At such a speed, you\n",
      "could circle the Earth seven times between heartbeats.\n",
      " \n",
      "     If light can't escape a black hole, it follows that nothing else\n",
      "can.  Consequently, there is no direct way to detect a black hole.\n",
      " \n",
      "     In fact, the principal evidence of the existence of black holes\n",
      "comes not from observation but from solutions to complex equations\n",
      "based on Einstein's Theory of General Relativity.  Among other\n",
      "things, the calculations indicate that black holes may occur in a\n",
      "variety of sizes and be more abundant than most of us realize.\n",
      " \n",
      " \n",
      "MINI BLACK HOLES\n",
      " \n",
      "     Some black holes are theorized to be nearly as old as the Big\n",
      "Bang, which is hypothesized to have started our Universe 10 to 20\n",
      "billion years ago.  The rapid early expansion of some parts of the\n",
      "dense hot matter in this nascent Universe is said to have so\n",
      "compressed less rapidly moving parts that the latter became\n",
      "superdense and collapsed further, forming black holes.  Among the\n",
      "holes so created may be the submicroscopic mini-black holes.\n",
      " \n",
      "     A mini-black hole may be as small as an atomic particle but\n",
      "contain as much mass (material) as Mount Everest.  Never\n",
      "underestimate the power of a mini-black hole.  If some event caused\n",
      "it to decompress, it would be as if millions of hydrogen bombs were\n",
      "simultaneously detonated.\n",
      " \n",
      " \n",
      "HOW STARS DIE\n",
      " \n",
      "     The most widespread support is given to the theory that a black\n",
      "hole is the natural end product of a giant star's death.  According\n",
      "to this theory, a star like our Sun and others we see in the sky\n",
      "lives as long as thermal energy and radiation from nuclear reactions\n",
      "in its core provide sufficient outward pressure to counteract the\n",
      "inward pressure of gravity caused by the star's own great mass.\n",
      " \n",
      "     When the star exhausts its nuclear fuels, it succumbs to the\n",
      "forces of its own gravity and literally collapses inward.  According\n",
      "to equations derived from quantum mechanics and Einstein's Theory of\n",
      "General Relativity, the star's remaining mass determines whether it\n",
      "becomes a white dwarf, a neutron star, or black hole.\n",
      " \n",
      " \n",
      "WHITE DWARFS\n",
      " \n",
      "     Stars are usually measured in comparison with our Sun's mass.  A\n",
      "star whose remaining mass is about that of our Sun condenses to\n",
      "approximately the size of Earth.  The star's contraction is halted by\n",
      "the collective resistance of electrons pressed against each other and\n",
      "their atomic nuclei.  Matter in this collapsed star is so tightly\n",
      "packed that a piece the size of a sugar cube would weigh thousands of\n",
      "kilograms.  Gravitational contraction would also have made the star\n",
      "white hot.  It is appropriately called a white dwarf.\n",
      " \n",
      "     Astronomers have detected white dwarfs in space.  The first\n",
      "discovery was a planet-sized object that seemed to exert a\n",
      "disproportionately high gravitational effect upon a celestial\n",
      "companion, the so call dog star Sirius, which is about 2.28 times our\n",
      "Sun's mass.  It appeared that this planet-sized object would have to\n",
      "be about as massive as our Sun to affect Sirius as it did.  Moreover,\n",
      "spectral analysis indicated the star's color was white.\n",
      " \n",
      "     Based upon these and other studies, astronomers concluded that\n",
      "they had found a white dwarf.  However, it took many years after the\n",
      "discovery in 1914 before most scientists accepted the fact that an\n",
      "object thousands of times denser than anything possible on Earth\n",
      "could exist.\n",
      " \n",
      " \n",
      "NEUTRON STARS AND SUPERNOVAS\n",
      " \n",
      "     Giant stars usually lose most of their mass during their normal\n",
      "lifetimes.  If such a star still retains 1 1/2 to 3 solar masses\n",
      "after exhaustion of its nuclear fuels, it would collapse to even\n",
      "greater density and smaller size than the white dwarf.  The reason is\n",
      "that there is a limit on the amount of compression electrons can\n",
      "resist in the presence of atomic nuclei.\n",
      " \n",
      "     In this instance, the limit is breached.  Electrons are\n",
      "literally driven into atomic nuclei, mating with protons to form\n",
      "neutrons and thus transmuting nuclei into neutrons.  The resulting\n",
      "object is aptly called a neutron star.  It may be only a few\n",
      "kilometers in diameter.  A sugar-cube size piece of this star would\n",
      "weigh about one-half a trillion kilograms.\n",
      " \n",
      "     Sometimes, as electrons are driven into protons in atomic\n",
      "nuclei, neutrinos are blown outward so forcefully that they blast off\n",
      "the star's outer layer.  This creates a supernova that may\n",
      "temporarily outshine all of the other stars in a galaxy.\n",
      " \n",
      "     The most prominent object believed to be a neutron star is the\n",
      "Crab Nebula, the remnant of a supernova observed and reported by\n",
      "Chinese astronomers in 1504.  A star-like object in the nebula\n",
      "blinks, or pulses, about 30 times per second in visible light, radio\n",
      "waves, and X and gamma rays.  The radio pulses are believed to result\n",
      "from interaction between a point on the spinning star and the star's\n",
      "magnetic field.  As the star rotates, this point is theorized\n",
      "alternately to face and be turned away from Earth.  The fast rotation\n",
      "rate implied by the interval between pulses indicates the star is no\n",
      "more than a few kilometers in diameter because if it were larger, it\n",
      "would be torn apart by centrifugal force.\n",
      " \n",
      " \n",
      "PULSARS\n",
      " \n",
      "     Radio telescopes have detected a large number of other objects\n",
      "which send out naturally pulsed radio signals.  They were named\n",
      "pulsars.  Like the object in the Crab Nebula, they are presumed to be\n",
      "rotating neutron stars.\n",
      " \n",
      "     Of these pulsars, only the Vela pulsar--which gets its name\n",
      "because of its location in the Vela (Sails) constellation--pulses at\n",
      "wavelengths shorter than radio.  Like the Crab pulsar, the Vela\n",
      "pulsar also pulses at optical and gamma ray wavelengths.  However,\n",
      "unlike the Crab pulsar, it is not an X-ray pulsar.  Aside from the\n",
      "mystery generated by these differences, scientists also debate the\n",
      "reasons for the pulses at gamma, X-ray and optical frequencies.  As\n",
      "noted earlier, they agree on the origin of the radio pulses.\n",
      " \n",
      " \n",
      "BLACK HOLES\n",
      " \n",
      "     When a star has three or more solar masses left after it\n",
      "exhausts its nuclear fuels, it can become a black hole.\n",
      " \n",
      "     Like the white dwarf and neutron star, this star's density and\n",
      "gravity increase with contraction.  Consequently, the star's\n",
      "gravitational escape velocity (speed needed to escape from the star)\n",
      "increases.  When the star has shrunk to the Schwarzschild radius,\n",
      "named for the man who first calculated it, its gravitational escape\n",
      "velocity would be nearly 300,000 kilometers per second, which is\n",
      "equal to the speed of light.  Consequently, light could never leave\n",
      "the star.\n",
      " \n",
      "     Reduction of a giant star to the Schwarzschild radius represents\n",
      "an incredible compression of mass and decrease in size.  As an\n",
      "example, mathematicians calculate that for a star of 10 solar masses\n",
      "(ten times the mass of our Sun) after exhaustion of its nuclear\n",
      "fuels, the Schwarzschild radius is about 30 kilometers.\n",
      "\n",
      "---------------------------------------------------------------------\n",
      "     According to the Law of General Relativity, space and time are\n",
      "warped, or curved, by gravity.  Time is theorized TO POINT INTO THE\n",
      "\n"
     ]
    }
   ],
   "source": [
    "f = open('text.txt', \"r\")\n",
    "text = f.read()\n",
    "print(text)"
   ]
  },
  {
   "cell_type": "code",
   "execution_count": 5,
   "id": "7bf1922d",
   "metadata": {},
   "outputs": [
    {
     "data": {
      "text/plain": [
       "8067"
      ]
     },
     "execution_count": 5,
     "metadata": {},
     "output_type": "execute_result"
    }
   ],
   "source": [
    "len(text)\n"
   ]
  },
  {
   "cell_type": "code",
   "execution_count": 6,
   "id": "8f0183a0",
   "metadata": {},
   "outputs": [
    {
     "data": {
      "text/plain": [
       "'                           Combat Arms\\n                         2869 Grove Way\\n              Castro Valley, California 94546-6709\\n                    Telephone (415) 538-6544\\n\\n\\n     The following material was downloaded from the NASA SpaceLink\\nBBS at the National Aeronautics and Space Administration'"
      ]
     },
     "execution_count": 6,
     "metadata": {},
     "output_type": "execute_result"
    }
   ],
   "source": [
    "text[:300]"
   ]
  },
  {
   "cell_type": "markdown",
   "id": "f1372872",
   "metadata": {},
   "source": [
    "# Предварительная обработка (препроцессинг) текста\n",
    "Для проведения частотного анализа и определения тематики текста рекомендуется выполнить очистку текста от знаков пунктуации, лишних пробельных символов и цифр. Сделать это можно различными способами – с помощью встроенных функций работы со строками, с помощью регулярных выражений, с помощью операций обработки списков или другим способом."
   ]
  },
  {
   "cell_type": "code",
   "execution_count": 7,
   "id": "c8017722",
   "metadata": {},
   "outputs": [],
   "source": [
    "# перевод в единый регистр (например, нижний)\n",
    "text = text.lower()"
   ]
  },
  {
   "cell_type": "code",
   "execution_count": 8,
   "id": "96392d97",
   "metadata": {},
   "outputs": [],
   "source": [
    "import string\n",
    "# string.punctuation"
   ]
  },
  {
   "cell_type": "code",
   "execution_count": 9,
   "id": "72665881",
   "metadata": {},
   "outputs": [
    {
     "data": {
      "text/plain": [
       "str"
      ]
     },
     "execution_count": 9,
     "metadata": {},
     "output_type": "execute_result"
    }
   ],
   "source": [
    "type(string.punctuation)"
   ]
  },
  {
   "cell_type": "code",
   "execution_count": 10,
   "id": "314d419a",
   "metadata": {},
   "outputs": [],
   "source": [
    "# spec_chars = string.punctuation + '\\xa0«»\\t—…'\n",
    "spec_chars = '\\xa0«»\\t—…!\"#$%&\\'()*+,-/:;<=>?@[\\\\]^_`{|}~'"
   ]
  },
  {
   "cell_type": "code",
   "execution_count": 11,
   "id": "30697930",
   "metadata": {},
   "outputs": [
    {
     "name": "stdout",
     "output_type": "stream",
     "text": [
      "CPU times: user 1.42 ms, sys: 140 µs, total: 1.56 ms\n",
      "Wall time: 1.81 ms\n"
     ]
    }
   ],
   "source": [
    "%%time\n",
    "text = \"\".join([ch for ch in text if ch not in spec_chars])"
   ]
  },
  {
   "cell_type": "code",
   "execution_count": 12,
   "id": "16e1e6cf",
   "metadata": {},
   "outputs": [],
   "source": [
    "import re\n",
    "text = re.sub('\\n', ' ', text)"
   ]
  },
  {
   "cell_type": "code",
   "execution_count": 13,
   "id": "233b5104",
   "metadata": {},
   "outputs": [],
   "source": [
    "# print(text)"
   ]
  },
  {
   "cell_type": "code",
   "execution_count": 14,
   "id": "ff08c82c",
   "metadata": {},
   "outputs": [],
   "source": [
    "def remove_chars_from_text(text, chars):\n",
    "    return \"\".join([ch for ch in text if ch not in chars])"
   ]
  },
  {
   "cell_type": "code",
   "execution_count": 15,
   "id": "d7bb128b",
   "metadata": {},
   "outputs": [
    {
     "name": "stdout",
     "output_type": "stream",
     "text": [
      "CPU times: user 750 µs, sys: 47 µs, total: 797 µs\n",
      "Wall time: 804 µs\n"
     ]
    }
   ],
   "source": [
    "%%time\n",
    "text = remove_chars_from_text(text, spec_chars)"
   ]
  },
  {
   "cell_type": "code",
   "execution_count": 16,
   "id": "97dcdcd9",
   "metadata": {},
   "outputs": [
    {
     "name": "stdout",
     "output_type": "stream",
     "text": [
      "                           combat arms                          2869 grove way               castro valley california 945466709                     telephone 415 5386544        the following material was downloaded from the nasa spacelink bbs at the national aeronautics and space administration george c. marshall space flight center marshall space flight center alabama 35812 on 111688.    b l a c k    h o l e s    i n    s p a c e         there is much more to black holes than meets the eye.  in fact your eyes even with the aid of the most advanced telescope will never see a black hole in space.  the reason is that the matter within a black hole is so dense and has so great a gravitational pull that it prevents even light from escaping.        like other electromagnetic radiation radio waves infrared rays ultraviolet radiation xrays and gamma radiation light is the fastest traveler in the universe.  it moves at nearly 300000 kilometers about 186000 miles per second.  at such a speed you could circle the earth seven times between heartbeats.        if light cant escape a black hole it follows that nothing else can.  consequently there is no direct way to detect a black hole.        in fact the principal evidence of the existence of black holes comes not from observation but from solutions to complex equations based on einsteins theory of general relativity.  among other things the calculations indicate that black holes may occur in a variety of sizes and be more abundant than most of us realize.     mini black holes        some black holes are theorized to be nearly as old as the big bang which is hypothesized to have started our universe 10 to 20 billion years ago.  the rapid early expansion of some parts of the dense hot matter in this nascent universe is said to have so compressed less rapidly moving parts that the latter became superdense and collapsed further forming black holes.  among the holes so created may be the submicroscopic miniblack holes.        a miniblack hole may be as small as an atomic particle but contain as much mass material as mount everest.  never underestimate the power of a miniblack hole.  if some event caused it to decompress it would be as if millions of hydrogen bombs were simultaneously detonated.     how stars die        the most widespread support is given to the theory that a black hole is the natural end product of a giant stars death.  according to this theory a star like our sun and others we see in the sky lives as long as thermal energy and radiation from nuclear reactions in its core provide sufficient outward pressure to counteract the inward pressure of gravity caused by the stars own great mass.        when the star exhausts its nuclear fuels it succumbs to the forces of its own gravity and literally collapses inward.  according to equations derived from quantum mechanics and einsteins theory of general relativity the stars remaining mass determines whether it becomes a white dwarf a neutron star or black hole.     white dwarfs        stars are usually measured in comparison with our suns mass.  a star whose remaining mass is about that of our sun condenses to approximately the size of earth.  the stars contraction is halted by the collective resistance of electrons pressed against each other and their atomic nuclei.  matter in this collapsed star is so tightly packed that a piece the size of a sugar cube would weigh thousands of kilograms.  gravitational contraction would also have made the star white hot.  it is appropriately called a white dwarf.        astronomers have detected white dwarfs in space.  the first discovery was a planetsized object that seemed to exert a disproportionately high gravitational effect upon a celestial companion the so call dog star sirius which is about 2.28 times our suns mass.  it appeared that this planetsized object would have to be about as massive as our sun to affect sirius as it did.  moreover spectral analysis indicated the stars color was white.        based upon these and other studies astronomers concluded that they had found a white dwarf.  however it took many years after the discovery in 1914 before most scientists accepted the fact that an object thousands of times denser than anything possible on earth could exist.     neutron stars and supernovas        giant stars usually lose most of their mass during their normal lifetimes.  if such a star still retains 1 12 to 3 solar masses after exhaustion of its nuclear fuels it would collapse to even greater density and smaller size than the white dwarf.  the reason is that there is a limit on the amount of compression electrons can resist in the presence of atomic nuclei.        in this instance the limit is breached.  electrons are literally driven into atomic nuclei mating with protons to form neutrons and thus transmuting nuclei into neutrons.  the resulting object is aptly called a neutron star.  it may be only a few kilometers in diameter.  a sugarcube size piece of this star would weigh about onehalf a trillion kilograms.        sometimes as electrons are driven into protons in atomic nuclei neutrinos are blown outward so forcefully that they blast off the stars outer layer.  this creates a supernova that may temporarily outshine all of the other stars in a galaxy.        the most prominent object believed to be a neutron star is the crab nebula the remnant of a supernova observed and reported by chinese astronomers in 1504.  a starlike object in the nebula blinks or pulses about 30 times per second in visible light radio waves and x and gamma rays.  the radio pulses are believed to result from interaction between a point on the spinning star and the stars magnetic field.  as the star rotates this point is theorized alternately to face and be turned away from earth.  the fast rotation rate implied by the interval between pulses indicates the star is no more than a few kilometers in diameter because if it were larger it would be torn apart by centrifugal force.     pulsars        radio telescopes have detected a large number of other objects which send out naturally pulsed radio signals.  they were named pulsars.  like the object in the crab nebula they are presumed to be rotating neutron stars.        of these pulsars only the vela pulsarwhich gets its name because of its location in the vela sails constellationpulses at wavelengths shorter than radio.  like the crab pulsar the vela pulsar also pulses at optical and gamma ray wavelengths.  however unlike the crab pulsar it is not an xray pulsar.  aside from the mystery generated by these differences scientists also debate the reasons for the pulses at gamma xray and optical frequencies.  as noted earlier they agree on the origin of the radio pulses.     black holes        when a star has three or more solar masses left after it exhausts its nuclear fuels it can become a black hole.        like the white dwarf and neutron star this stars density and gravity increase with contraction.  consequently the stars gravitational escape velocity speed needed to escape from the star increases.  when the star has shrunk to the schwarzschild radius named for the man who first calculated it its gravitational escape velocity would be nearly 300000 kilometers per second which is equal to the speed of light.  consequently light could never leave the star.        reduction of a giant star to the schwarzschild radius represents an incredible compression of mass and decrease in size.  as an example mathematicians calculate that for a star of 10 solar masses ten times the mass of our sun after exhaustion of its nuclear fuels the schwarzschild radius is about 30 kilometers.        according to the law of general relativity space and time are warped or curved by gravity.  time is theorized to point into the \n"
     ]
    }
   ],
   "source": [
    "print(text)"
   ]
  },
  {
   "cell_type": "code",
   "execution_count": 17,
   "id": "4cb4b0af",
   "metadata": {},
   "outputs": [
    {
     "name": "stdout",
     "output_type": "stream",
     "text": [
      "CPU times: user 825 µs, sys: 49 µs, total: 874 µs\n",
      "Wall time: 994 µs\n"
     ]
    }
   ],
   "source": [
    "%%time\n",
    "text = remove_chars_from_text(text, string.digits)"
   ]
  },
  {
   "cell_type": "code",
   "execution_count": 18,
   "id": "cdda0243",
   "metadata": {},
   "outputs": [],
   "source": [
    "# print(text)"
   ]
  },
  {
   "cell_type": "markdown",
   "id": "61b8abfc",
   "metadata": {},
   "source": [
    "# Токенизация текста\n",
    "Токенизация — самый первый шаг при обработке текста.\n",
    "[Примеры токенизации](https://www.nltk.org/api/nltk.tokenize)"
   ]
  },
  {
   "cell_type": "code",
   "execution_count": 19,
   "id": "f9ce4ce6",
   "metadata": {},
   "outputs": [],
   "source": [
    "# токенайзер по пробелам (банально, да)\n",
    "from nltk.tokenize import WhitespaceTokenizer\n",
    "text = text.replace(\".\", \" .\")"
   ]
  },
  {
   "cell_type": "code",
   "execution_count": 20,
   "id": "3c6c282a",
   "metadata": {},
   "outputs": [],
   "source": [
    "tokenizer = WhitespaceTokenizer()\n",
    "text = tokenizer.tokenize(text)\n",
    "# text = nltk.word_tokenize(text)"
   ]
  },
  {
   "cell_type": "code",
   "execution_count": 21,
   "id": "3d8a94e1",
   "metadata": {},
   "outputs": [],
   "source": [
    "text = list(filter(lambda x: x if (len(x)>1 or x == '.') else None, text))"
   ]
  },
  {
   "cell_type": "code",
   "execution_count": 22,
   "id": "eaef6e21",
   "metadata": {},
   "outputs": [
    {
     "name": "stdout",
     "output_type": "stream",
     "text": [
      "['combat', 'arms', 'grove', 'way', 'castro', 'valley', 'california', 'telephone', 'the', 'following', 'material', 'was', 'downloaded', 'from', 'the', 'nasa', 'spacelink', 'bbs', 'at', 'the', 'national', 'aeronautics', 'and', 'space', 'administration', 'george', '.', 'marshall', 'space', 'flight', 'center', 'marshall', 'space', 'flight', 'center', 'alabama', 'on', '.', 'there', 'is', 'much', 'more', 'to', 'black', 'holes', 'than', 'meets', 'the', 'eye', '.', 'in', 'fact', 'your', 'eyes', 'even', 'with', 'the', 'aid', 'of', 'the', 'most', 'advanced', 'telescope', 'will', 'never', 'see', 'black', 'hole', 'in', 'space', '.', 'the', 'reason', 'is', 'that', 'the', 'matter', 'within', 'black', 'hole', 'is', 'so', 'dense', 'and', 'has', 'so', 'great', 'gravitational', 'pull', 'that', 'it', 'prevents', 'even', 'light', 'from', 'escaping', '.', 'like', 'other', 'electromagnetic', 'radiation', 'radio', 'waves', 'infrared', 'rays', 'ultraviolet', 'radiation', 'xrays', 'and', 'gamma', 'radiation', 'light', 'is', 'the', 'fastest', 'traveler', 'in', 'the', 'universe', '.', 'it', 'moves', 'at', 'nearly', 'kilometers', 'about', 'miles', 'per', 'second', '.', 'at', 'such', 'speed', 'you', 'could', 'circle', 'the', 'earth', 'seven', 'times', 'between', 'heartbeats', '.', 'if', 'light', 'cant', 'escape', 'black', 'hole', 'it', 'follows', 'that', 'nothing', 'else', 'can', '.', 'consequently', 'there', 'is', 'no', 'direct', 'way', 'to', 'detect', 'black', 'hole', '.', 'in', 'fact', 'the', 'principal', 'evidence', 'of', 'the', 'existence', 'of', 'black', 'holes', 'comes', 'not', 'from', 'observation', 'but', 'from', 'solutions', 'to', 'complex', 'equations', 'based', 'on', 'einsteins', 'theory', 'of', 'general', 'relativity', '.', 'among', 'other', 'things', 'the', 'calculations', 'indicate', 'that', 'black', 'holes', 'may', 'occur', 'in', 'variety', 'of', 'sizes', 'and', 'be', 'more', 'abundant', 'than', 'most', 'of', 'us', 'realize', '.', 'mini', 'black', 'holes', 'some', 'black', 'holes', 'are', 'theorized', 'to', 'be', 'nearly', 'as', 'old', 'as', 'the', 'big', 'bang', 'which', 'is', 'hypothesized', 'to', 'have', 'started', 'our', 'universe', 'to', 'billion', 'years', 'ago', '.', 'the', 'rapid', 'early', 'expansion', 'of', 'some', 'parts', 'of', 'the', 'dense', 'hot', 'matter', 'in', 'this', 'nascent', 'universe', 'is', 'said', 'to', 'have', 'so', 'compressed', 'less', 'rapidly', 'moving', 'parts', 'that', 'the', 'latter', 'became', 'superdense', 'and', 'collapsed', 'further', 'forming', 'black', 'holes', '.', 'among', 'the', 'holes', 'so', 'created', 'may', 'be', 'the', 'submicroscopic', 'miniblack', 'holes', '.', 'miniblack', 'hole', 'may', 'be', 'as', 'small', 'as', 'an', 'atomic', 'particle', 'but', 'contain', 'as', 'much', 'mass', 'material', 'as', 'mount', 'everest', '.', 'never', 'underestimate', 'the', 'power', 'of', 'miniblack', 'hole', '.', 'if', 'some', 'event', 'caused', 'it', 'to', 'decompress', 'it', 'would', 'be', 'as', 'if', 'millions', 'of', 'hydrogen', 'bombs', 'were', 'simultaneously', 'detonated', '.', 'how', 'stars', 'die', 'the', 'most', 'widespread', 'support', 'is', 'given', 'to', 'the', 'theory', 'that', 'black', 'hole', 'is', 'the', 'natural', 'end', 'product', 'of', 'giant', 'stars', 'death', '.', 'according', 'to', 'this', 'theory', 'star', 'like', 'our', 'sun', 'and', 'others', 'we', 'see', 'in', 'the', 'sky', 'lives', 'as', 'long', 'as', 'thermal', 'energy', 'and', 'radiation', 'from', 'nuclear', 'reactions', 'in', 'its', 'core', 'provide', 'sufficient', 'outward', 'pressure', 'to', 'counteract', 'the', 'inward', 'pressure', 'of', 'gravity', 'caused', 'by', 'the', 'stars', 'own', 'great', 'mass', '.', 'when', 'the', 'star', 'exhausts', 'its', 'nuclear', 'fuels', 'it', 'succumbs', 'to', 'the', 'forces', 'of', 'its', 'own', 'gravity', 'and', 'literally', 'collapses', 'inward', '.', 'according', 'to', 'equations', 'derived', 'from', 'quantum', 'mechanics', 'and', 'einsteins', 'theory', 'of', 'general', 'relativity', 'the', 'stars', 'remaining', 'mass', 'determines', 'whether', 'it', 'becomes', 'white', 'dwarf', 'neutron', 'star', 'or', 'black', 'hole', '.', 'white', 'dwarfs', 'stars', 'are', 'usually', 'measured', 'in', 'comparison', 'with', 'our', 'suns', 'mass', '.', 'star', 'whose', 'remaining', 'mass', 'is', 'about', 'that', 'of', 'our', 'sun', 'condenses', 'to', 'approximately', 'the', 'size', 'of', 'earth', '.', 'the', 'stars', 'contraction', 'is', 'halted', 'by', 'the', 'collective', 'resistance', 'of', 'electrons', 'pressed', 'against', 'each', 'other', 'and', 'their', 'atomic', 'nuclei', '.', 'matter', 'in', 'this', 'collapsed', 'star', 'is', 'so', 'tightly', 'packed', 'that', 'piece', 'the', 'size', 'of', 'sugar', 'cube', 'would', 'weigh', 'thousands', 'of', 'kilograms', '.', 'gravitational', 'contraction', 'would', 'also', 'have', 'made', 'the', 'star', 'white', 'hot', '.', 'it', 'is', 'appropriately', 'called', 'white', 'dwarf', '.', 'astronomers', 'have', 'detected', 'white', 'dwarfs', 'in', 'space', '.', 'the', 'first', 'discovery', 'was', 'planetsized', 'object', 'that', 'seemed', 'to', 'exert', 'disproportionately', 'high', 'gravitational', 'effect', 'upon', 'celestial', 'companion', 'the', 'so', 'call', 'dog', 'star', 'sirius', 'which', 'is', 'about', '.', 'times', 'our', 'suns', 'mass', '.', 'it', 'appeared', 'that', 'this', 'planetsized', 'object', 'would', 'have', 'to', 'be', 'about', 'as', 'massive', 'as', 'our', 'sun', 'to', 'affect', 'sirius', 'as', 'it', 'did', '.', 'moreover', 'spectral', 'analysis', 'indicated', 'the', 'stars', 'color', 'was', 'white', '.', 'based', 'upon', 'these', 'and', 'other', 'studies', 'astronomers', 'concluded', 'that', 'they', 'had', 'found', 'white', 'dwarf', '.', 'however', 'it', 'took', 'many', 'years', 'after', 'the', 'discovery', 'in', 'before', 'most', 'scientists', 'accepted', 'the', 'fact', 'that', 'an', 'object', 'thousands', 'of', 'times', 'denser', 'than', 'anything', 'possible', 'on', 'earth', 'could', 'exist', '.', 'neutron', 'stars', 'and', 'supernovas', 'giant', 'stars', 'usually', 'lose', 'most', 'of', 'their', 'mass', 'during', 'their', 'normal', 'lifetimes', '.', 'if', 'such', 'star', 'still', 'retains', 'to', 'solar', 'masses', 'after', 'exhaustion', 'of', 'its', 'nuclear', 'fuels', 'it', 'would', 'collapse', 'to', 'even', 'greater', 'density', 'and', 'smaller', 'size', 'than', 'the', 'white', 'dwarf', '.', 'the', 'reason', 'is', 'that', 'there', 'is', 'limit', 'on', 'the', 'amount', 'of', 'compression', 'electrons', 'can', 'resist', 'in', 'the', 'presence', 'of', 'atomic', 'nuclei', '.', 'in', 'this', 'instance', 'the', 'limit', 'is', 'breached', '.', 'electrons', 'are', 'literally', 'driven', 'into', 'atomic', 'nuclei', 'mating', 'with', 'protons', 'to', 'form', 'neutrons', 'and', 'thus', 'transmuting', 'nuclei', 'into', 'neutrons', '.', 'the', 'resulting', 'object', 'is', 'aptly', 'called', 'neutron', 'star', '.', 'it', 'may', 'be', 'only', 'few', 'kilometers', 'in', 'diameter', '.', 'sugarcube', 'size', 'piece', 'of', 'this', 'star', 'would', 'weigh', 'about', 'onehalf', 'trillion', 'kilograms', '.', 'sometimes', 'as', 'electrons', 'are', 'driven', 'into', 'protons', 'in', 'atomic', 'nuclei', 'neutrinos', 'are', 'blown', 'outward', 'so', 'forcefully', 'that', 'they', 'blast', 'off', 'the', 'stars', 'outer', 'layer', '.', 'this', 'creates', 'supernova', 'that', 'may', 'temporarily', 'outshine', 'all', 'of', 'the', 'other', 'stars', 'in', 'galaxy', '.', 'the', 'most', 'prominent', 'object', 'believed', 'to', 'be', 'neutron', 'star', 'is', 'the', 'crab', 'nebula', 'the', 'remnant', 'of', 'supernova', 'observed', 'and', 'reported', 'by', 'chinese', 'astronomers', 'in', '.', 'starlike', 'object', 'in', 'the', 'nebula', 'blinks', 'or', 'pulses', 'about', 'times', 'per', 'second', 'in', 'visible', 'light', 'radio', 'waves', 'and', 'and', 'gamma', 'rays', '.', 'the', 'radio', 'pulses', 'are', 'believed', 'to', 'result', 'from', 'interaction', 'between', 'point', 'on', 'the', 'spinning', 'star', 'and', 'the', 'stars', 'magnetic', 'field', '.', 'as', 'the', 'star', 'rotates', 'this', 'point', 'is', 'theorized', 'alternately', 'to', 'face', 'and', 'be', 'turned', 'away', 'from', 'earth', '.', 'the', 'fast', 'rotation', 'rate', 'implied', 'by', 'the', 'interval', 'between', 'pulses', 'indicates', 'the', 'star', 'is', 'no', 'more', 'than', 'few', 'kilometers', 'in', 'diameter', 'because', 'if', 'it', 'were', 'larger', 'it', 'would', 'be', 'torn', 'apart', 'by', 'centrifugal', 'force', '.', 'pulsars', 'radio', 'telescopes', 'have', 'detected', 'large', 'number', 'of', 'other', 'objects', 'which', 'send', 'out', 'naturally', 'pulsed', 'radio', 'signals', '.', 'they', 'were', 'named', 'pulsars', '.', 'like', 'the', 'object', 'in', 'the', 'crab', 'nebula', 'they', 'are', 'presumed', 'to', 'be', 'rotating', 'neutron', 'stars', '.', 'of', 'these', 'pulsars', 'only', 'the', 'vela', 'pulsarwhich', 'gets', 'its', 'name', 'because', 'of', 'its', 'location', 'in', 'the', 'vela', 'sails', 'constellationpulses', 'at', 'wavelengths', 'shorter', 'than', 'radio', '.', 'like', 'the', 'crab', 'pulsar', 'the', 'vela', 'pulsar', 'also', 'pulses', 'at', 'optical', 'and', 'gamma', 'ray', 'wavelengths', '.', 'however', 'unlike', 'the', 'crab', 'pulsar', 'it', 'is', 'not', 'an', 'xray', 'pulsar', '.', 'aside', 'from', 'the', 'mystery', 'generated', 'by', 'these', 'differences', 'scientists', 'also', 'debate', 'the', 'reasons', 'for', 'the', 'pulses', 'at', 'gamma', 'xray', 'and', 'optical', 'frequencies', '.', 'as', 'noted', 'earlier', 'they', 'agree', 'on', 'the', 'origin', 'of', 'the', 'radio', 'pulses', '.', 'black', 'holes', 'when', 'star', 'has', 'three', 'or', 'more', 'solar', 'masses', 'left', 'after', 'it', 'exhausts', 'its', 'nuclear', 'fuels', 'it', 'can', 'become', 'black', 'hole', '.', 'like', 'the', 'white', 'dwarf', 'and', 'neutron', 'star', 'this', 'stars', 'density', 'and', 'gravity', 'increase', 'with', 'contraction', '.', 'consequently', 'the', 'stars', 'gravitational', 'escape', 'velocity', 'speed', 'needed', 'to', 'escape', 'from', 'the', 'star', 'increases', '.', 'when', 'the', 'star', 'has', 'shrunk', 'to', 'the', 'schwarzschild', 'radius', 'named', 'for', 'the', 'man', 'who', 'first', 'calculated', 'it', 'its', 'gravitational', 'escape', 'velocity', 'would', 'be', 'nearly', 'kilometers', 'per', 'second', 'which', 'is', 'equal', 'to', 'the', 'speed', 'of', 'light', '.', 'consequently', 'light', 'could', 'never', 'leave', 'the', 'star', '.', 'reduction', 'of', 'giant', 'star', 'to', 'the', 'schwarzschild', 'radius', 'represents', 'an', 'incredible', 'compression', 'of', 'mass', 'and', 'decrease', 'in', 'size', '.', 'as', 'an', 'example', 'mathematicians', 'calculate', 'that', 'for', 'star', 'of', 'solar', 'masses', 'ten', 'times', 'the', 'mass', 'of', 'our', 'sun', 'after', 'exhaustion', 'of', 'its', 'nuclear', 'fuels', 'the', 'schwarzschild', 'radius', 'is', 'about', 'kilometers', '.', 'according', 'to', 'the', 'law', 'of', 'general', 'relativity', 'space', 'and', 'time', 'are', 'warped', 'or', 'curved', 'by', 'gravity', '.', 'time', 'is', 'theorized', 'to', 'point', 'into', 'the']\n"
     ]
    }
   ],
   "source": [
    "print(text)"
   ]
  },
  {
   "cell_type": "markdown",
   "id": "62cff978",
   "metadata": {},
   "source": [
    "# Стоп-слова\n",
    "Стоп-слова — высокочастотные слова, которые не дают нам никакой информации о конкретном тексте. Они составляют верхушку частотного списка в любом языке. Набор стоп-слов не универсален, он будет зависеть от вашей задачи!"
   ]
  },
  {
   "cell_type": "code",
   "execution_count": 23,
   "id": "ad7ce4db",
   "metadata": {},
   "outputs": [],
   "source": [
    "import nltk\n",
    "# nltk.download()\n",
    "from nltk.corpus import stopwords"
   ]
  },
  {
   "cell_type": "code",
   "execution_count": 24,
   "id": "6786beec",
   "metadata": {},
   "outputs": [
    {
     "data": {
      "text/plain": [
       "['arabic',\n",
       " 'azerbaijani',\n",
       " 'danish',\n",
       " 'dutch',\n",
       " 'english',\n",
       " 'finnish',\n",
       " 'french',\n",
       " 'german',\n",
       " 'greek',\n",
       " 'hungarian',\n",
       " 'indonesian',\n",
       " 'italian',\n",
       " 'kazakh',\n",
       " 'nepali',\n",
       " 'norwegian',\n",
       " 'portuguese',\n",
       " 'romanian',\n",
       " 'russian',\n",
       " 'slovene',\n",
       " 'spanish',\n",
       " 'swedish',\n",
       " 'tajik',\n",
       " 'turkish']"
      ]
     },
     "execution_count": 24,
     "metadata": {},
     "output_type": "execute_result"
    }
   ],
   "source": [
    "# смотрим, какие языки есть\n",
    "stopwords.fileids()"
   ]
  },
  {
   "cell_type": "code",
   "execution_count": 25,
   "id": "294fb7a4",
   "metadata": {},
   "outputs": [
    {
     "data": {
      "text/plain": [
       "['i',\n",
       " 'me',\n",
       " 'my',\n",
       " 'myself',\n",
       " 'we',\n",
       " 'our',\n",
       " 'ours',\n",
       " 'ourselves',\n",
       " 'you',\n",
       " \"you're\",\n",
       " \"you've\",\n",
       " \"you'll\",\n",
       " \"you'd\",\n",
       " 'your',\n",
       " 'yours',\n",
       " 'yourself',\n",
       " 'yourselves',\n",
       " 'he',\n",
       " 'him',\n",
       " 'his']"
      ]
     },
     "execution_count": 25,
     "metadata": {},
     "output_type": "execute_result"
    }
   ],
   "source": [
    "stopwords_ru = stopwords.words('english') \n",
    "stopwords_ru[:20]"
   ]
  },
  {
   "cell_type": "code",
   "execution_count": 26,
   "id": "890be869",
   "metadata": {},
   "outputs": [],
   "source": [
    "text = [word for word in text if not word in stopwords.words()]"
   ]
  },
  {
   "cell_type": "code",
   "execution_count": 27,
   "id": "9c46dc91",
   "metadata": {},
   "outputs": [
    {
     "name": "stdout",
     "output_type": "stream",
     "text": [
      "['combat', 'arms', 'grove', 'way', 'castro', 'valley', 'california', 'telephone', 'following', 'material', 'downloaded', 'nasa', 'spacelink', 'bbs', 'national', 'aeronautics', 'space', 'administration', 'george', '.', 'marshall', 'space', 'flight', 'center', 'marshall', 'space', 'flight', 'center', 'alabama', '.', 'much', 'black', 'holes', 'meets', 'eye', '.', 'fact', 'eyes', 'even', 'aid', 'advanced', 'telescope', 'never', 'see', 'black', 'hole', 'space', '.', 'reason', 'matter', 'within', 'black', 'hole', 'dense', 'great', 'gravitational', 'pull', 'prevents', 'even', 'light', 'escaping', '.', 'like', 'electromagnetic', 'radiation', 'radio', 'waves', 'infrared', 'rays', 'ultraviolet', 'radiation', 'xrays', 'gamma', 'radiation', 'light', 'fastest', 'traveler', 'universe', '.', 'moves', 'nearly', 'kilometers', 'miles', 'second', '.', 'speed', 'could', 'circle', 'earth', 'seven', 'times', 'heartbeats', '.', 'light', 'cant', 'escape', 'black', 'hole', 'follows', 'nothing', 'else', '.', 'consequently', 'direct', 'way', 'detect', 'black', 'hole', '.', 'fact', 'principal', 'evidence', 'existence', 'black', 'holes', 'comes', 'observation', 'solutions', 'complex', 'equations', 'based', 'einsteins', 'theory', 'general', 'relativity', '.', 'among', 'things', 'calculations', 'indicate', 'black', 'holes', 'may', 'occur', 'variety', 'sizes', 'abundant', 'us', 'realize', '.', 'mini', 'black', 'holes', 'black', 'holes', 'theorized', 'nearly', 'old', 'big', 'bang', 'hypothesized', 'started', 'universe', 'billion', 'years', 'ago', '.', 'rapid', 'early', 'expansion', 'parts', 'dense', 'hot', 'matter', 'nascent', 'universe', 'said', 'compressed', 'less', 'rapidly', 'moving', 'parts', 'latter', 'became', 'superdense', 'collapsed', 'forming', 'black', 'holes', '.', 'among', 'holes', 'created', 'may', 'submicroscopic', 'miniblack', 'holes', '.', 'miniblack', 'hole', 'may', 'small', 'atomic', 'particle', 'contain', 'much', 'mass', 'material', 'mount', 'everest', '.', 'never', 'underestimate', 'power', 'miniblack', 'hole', '.', 'event', 'caused', 'decompress', 'would', 'millions', 'hydrogen', 'bombs', 'simultaneously', 'detonated', '.', 'stars', 'widespread', 'support', 'given', 'theory', 'black', 'hole', 'natural', 'product', 'giant', 'stars', 'death', '.', 'according', 'theory', 'star', 'like', 'sun', 'others', 'see', 'sky', 'lives', 'long', 'thermal', 'energy', 'radiation', 'nuclear', 'reactions', 'core', 'provide', 'sufficient', 'outward', 'pressure', 'counteract', 'inward', 'pressure', 'gravity', 'caused', 'stars', 'great', 'mass', '.', 'star', 'exhausts', 'nuclear', 'fuels', 'succumbs', 'forces', 'gravity', 'literally', 'collapses', 'inward', '.', 'according', 'equations', 'derived', 'quantum', 'mechanics', 'einsteins', 'theory', 'general', 'relativity', 'stars', 'remaining', 'mass', 'determines', 'whether', 'becomes', 'white', 'dwarf', 'neutron', 'star', 'black', 'hole', '.', 'white', 'dwarfs', 'stars', 'usually', 'measured', 'comparison', 'suns', 'mass', '.', 'star', 'whose', 'remaining', 'mass', 'sun', 'condenses', 'approximately', 'size', 'earth', '.', 'stars', 'contraction', 'halted', 'collective', 'resistance', 'electrons', 'pressed', 'atomic', 'nuclei', '.', 'matter', 'collapsed', 'star', 'tightly', 'packed', 'piece', 'size', 'sugar', 'cube', 'would', 'weigh', 'thousands', 'kilograms', '.', 'gravitational', 'contraction', 'would', 'made', 'star', 'white', 'hot', '.', 'appropriately', 'called', 'white', 'dwarf', '.', 'astronomers', 'detected', 'white', 'dwarfs', 'space', '.', 'first', 'discovery', 'planetsized', 'object', 'seemed', 'exert', 'disproportionately', 'high', 'gravitational', 'effect', 'upon', 'celestial', 'companion', 'call', 'star', 'sirius', '.', 'times', 'suns', 'mass', '.', 'appeared', 'planetsized', 'object', 'would', 'massive', 'sun', 'affect', 'sirius', '.', 'moreover', 'spectral', 'analysis', 'indicated', 'stars', 'color', 'white', '.', 'based', 'upon', 'studies', 'astronomers', 'concluded', 'found', 'white', 'dwarf', '.', 'however', 'took', 'many', 'years', 'discovery', 'scientists', 'accepted', 'fact', 'object', 'thousands', 'times', 'denser', 'anything', 'possible', 'earth', 'could', 'exist', '.', 'neutron', 'stars', 'supernovas', 'giant', 'stars', 'usually', 'lose', 'mass', 'normal', 'lifetimes', '.', 'star', 'still', 'retains', 'solar', 'masses', 'exhaustion', 'nuclear', 'fuels', 'would', 'collapse', 'even', 'greater', 'density', 'smaller', 'size', 'white', 'dwarf', '.', 'reason', 'limit', 'amount', 'compression', 'electrons', 'resist', 'presence', 'atomic', 'nuclei', '.', 'instance', 'limit', 'breached', '.', 'electrons', 'literally', 'driven', 'atomic', 'nuclei', 'mating', 'protons', 'form', 'neutrons', 'thus', 'transmuting', 'nuclei', 'neutrons', '.', 'resulting', 'object', 'aptly', 'called', 'neutron', 'star', '.', 'may', 'kilometers', 'diameter', '.', 'sugarcube', 'size', 'piece', 'star', 'would', 'weigh', 'onehalf', 'trillion', 'kilograms', '.', 'sometimes', 'electrons', 'driven', 'protons', 'atomic', 'nuclei', 'neutrinos', 'blown', 'outward', 'forcefully', 'blast', 'stars', 'outer', 'layer', '.', 'creates', 'supernova', 'may', 'temporarily', 'outshine', 'stars', 'galaxy', '.', 'prominent', 'object', 'believed', 'neutron', 'star', 'crab', 'nebula', 'remnant', 'supernova', 'observed', 'reported', 'chinese', 'astronomers', '.', 'starlike', 'object', 'nebula', 'blinks', 'pulses', 'times', 'second', 'visible', 'light', 'radio', 'waves', 'gamma', 'rays', '.', 'radio', 'pulses', 'believed', 'result', 'interaction', 'point', 'spinning', 'star', 'stars', 'magnetic', 'field', '.', 'star', 'rotates', 'point', 'theorized', 'alternately', 'turned', 'away', 'earth', '.', 'fast', 'rotation', 'rate', 'implied', 'interval', 'pulses', 'indicates', 'star', 'kilometers', 'diameter', 'larger', 'would', 'torn', 'apart', 'centrifugal', 'force', '.', 'pulsars', 'radio', 'telescopes', 'detected', 'large', 'number', 'objects', 'send', 'naturally', 'pulsed', 'radio', 'signals', '.', 'named', 'pulsars', '.', 'like', 'object', 'crab', 'nebula', 'presumed', 'rotating', 'neutron', 'stars', '.', 'pulsars', 'vela', 'pulsarwhich', 'gets', 'location', 'vela', 'sails', 'constellationpulses', 'wavelengths', 'shorter', 'radio', '.', 'like', 'crab', 'pulsar', 'vela', 'pulsar', 'pulses', 'optical', 'gamma', 'ray', 'wavelengths', '.', 'however', 'unlike', 'crab', 'pulsar', 'xray', 'pulsar', '.', 'aside', 'mystery', 'generated', 'differences', 'scientists', 'debate', 'reasons', 'pulses', 'gamma', 'xray', 'optical', 'frequencies', '.', 'noted', 'earlier', 'agree', 'origin', 'radio', 'pulses', '.', 'black', 'holes', 'star', 'three', 'solar', 'masses', 'left', 'exhausts', 'nuclear', 'fuels', 'become', 'black', 'hole', '.', 'like', 'white', 'dwarf', 'neutron', 'star', 'stars', 'density', 'gravity', 'increase', 'contraction', '.', 'consequently', 'stars', 'gravitational', 'escape', 'velocity', 'speed', 'needed', 'escape', 'star', 'increases', '.', 'star', 'shrunk', 'schwarzschild', 'radius', 'named', 'first', 'calculated', 'gravitational', 'escape', 'velocity', 'would', 'nearly', 'kilometers', 'second', 'equal', 'speed', 'light', '.', 'consequently', 'light', 'could', 'never', 'leave', 'star', '.', 'reduction', 'giant', 'star', 'schwarzschild', 'radius', 'represents', 'incredible', 'compression', 'mass', 'decrease', 'size', '.', 'example', 'mathematicians', 'calculate', 'star', 'solar', 'masses', 'ten', 'times', 'mass', 'sun', 'exhaustion', 'nuclear', 'fuels', 'schwarzschild', 'radius', 'kilometers', '.', 'according', 'law', 'general', 'relativity', 'space', 'time', 'warped', 'curved', 'gravity', '.', 'time', 'theorized', 'point']\n"
     ]
    }
   ],
   "source": [
    "print(text)"
   ]
  },
  {
   "cell_type": "markdown",
   "id": "b3c7b140",
   "metadata": {},
   "source": [
    "# Нормализация"
   ]
  },
  {
   "cell_type": "markdown",
   "id": "5d99873c",
   "metadata": {},
   "source": [
    "Стемминг — отсечение от слова окончаний и суффиксов, чтобы оставшаяся часть, называемая stem, была одинаковой для всех грамматических форм слова. Стем необязательно совпадает с морфлогической основой слова. Одинаковый стем может получиться и не у однокоренных слов и наоборот — в этом проблема стемминга.\n",
    "\n",
    "1-ый вид ошибки: белый, белка, белье $\\implies$ бел\n",
    "\n",
    "2-ой вид ошибки: трудность, трудный $\\implies$ трудност, труд\n",
    "\n",
    "3-ий вид ошибки: быстрый, быстрее $\\implies$ быст, побыстрее $\\implies$ побыст\n",
    "\n",
    "Самый простой алгоритм, алгоритм Портера, состоит из 5 циклов команд, на каждом цикле – операция удаления / замены суффикса. Возможны вероятностные расширения алгоритма.\n",
    "\n",
    "\n",
    "## Лемматизация и стемминг – это частные случаи нормализации и они отличаются.\n",
    "\n",
    "Стемминг – это грубый эвристический процесс, который отрезает «лишнее» от корня слов, часто это приводит к потере словообразовательных суффиксов.\n",
    "\n",
    "Лемматизация – это более тонкий процесс, который использует словарь и морфологический анализ, чтобы в итоге привести слово к его канонической форме – лемме.\n",
    "\n",
    "Отличие в том, что стеммер (конкретная реализация алгоритма стемминга – прим.переводчика) действует без знания контекста и, соответственно, не понимает разницу между словами, которые имеют разный смысл в зависимости от части речи. Однако у стеммеров есть и свои преимущества: их проще внедрить и они работают быстрее. Плюс, более низкая «аккуратность» может не иметь значения в некоторых случаях.\n",
    "\n",
    "Примеры:\n",
    "\n",
    "Слово good – это лемма для слова better. Стеммер не увидит эту связь, так как здесь нужно сверяться со словарем.\n",
    "Слово play – это базовая форма слова playing. Тут справятся и стемминг, и лемматизация.\n",
    "Слово meeting может быть как нормальной формой существительного, так и формой глагола to meet, в зависимости от контекста. В отличие от стемминга, лемматизация попробует выбрать правильную лемму, опираясь на контекст.\n",
    "\n",
    "Теперь, когда мы знаем, в чем разница, давайте рассмотрим пример:\n"
   ]
  },
  {
   "cell_type": "code",
   "execution_count": 28,
   "id": "072a0ba9",
   "metadata": {},
   "outputs": [
    {
     "name": "stdout",
     "output_type": "stream",
     "text": [
      "['combat', 'arms', 'grove', 'way', 'castro', 'valley', 'california', 'telephone', 'following', 'material', 'downloaded', 'nasa', 'spacelink', 'bbs', 'national', 'aeronautics', 'space', 'administration', 'george', '.', 'marshall', 'space', 'flight', 'center', 'marshall', 'space', 'flight', 'center', 'alabama', '.', 'much', 'black', 'holes', 'meets', 'eye', '.', 'fact', 'eyes', 'even', 'aid', 'advanced', 'telescope', 'never', 'see', 'black', 'hole', 'space', '.', 'reason', 'matter', 'within', 'black', 'hole', 'dense', 'great', 'gravitational', 'pull', 'prevents', 'even', 'light', 'escaping', '.', 'like', 'electromagnetic', 'radiation', 'radio', 'waves', 'infrared', 'rays', 'ultraviolet', 'radiation', 'xrays', 'gamma', 'radiation', 'light', 'fastest', 'traveler', 'universe', '.', 'moves', 'nearly', 'kilometers', 'miles', 'second', '.', 'speed', 'could', 'circle', 'earth', 'seven', 'times', 'heartbeats', '.', 'light', 'cant', 'escape', 'black', 'hole', 'follows', 'nothing', 'else', '.', 'consequently', 'direct', 'way', 'detect', 'black', 'hole', '.', 'fact', 'principal', 'evidence', 'existence', 'black', 'holes', 'comes', 'observation', 'solutions', 'complex', 'equations', 'based', 'einsteins', 'theory', 'general', 'relativity', '.', 'among', 'things', 'calculations', 'indicate', 'black', 'holes', 'may', 'occur', 'variety', 'sizes', 'abundant', 'us', 'realize', '.', 'mini', 'black', 'holes', 'black', 'holes', 'theorized', 'nearly', 'old', 'big', 'bang', 'hypothesized', 'started', 'universe', 'billion', 'years', 'ago', '.', 'rapid', 'early', 'expansion', 'parts', 'dense', 'hot', 'matter', 'nascent', 'universe', 'said', 'compressed', 'less', 'rapidly', 'moving', 'parts', 'latter', 'became', 'superdense', 'collapsed', 'forming', 'black', 'holes', '.', 'among', 'holes', 'created', 'may', 'submicroscopic', 'miniblack', 'holes', '.', 'miniblack', 'hole', 'may', 'small', 'atomic', 'particle', 'contain', 'much', 'mass', 'material', 'mount', 'everest', '.', 'never', 'underestimate', 'power', 'miniblack', 'hole', '.', 'event', 'caused', 'decompress', 'would', 'millions', 'hydrogen', 'bombs', 'simultaneously', 'detonated', '.', 'stars', 'widespread', 'support', 'given', 'theory', 'black', 'hole', 'natural', 'product', 'giant', 'stars', 'death', '.', 'according', 'theory', 'star', 'like', 'sun', 'others', 'see', 'sky', 'lives', 'long', 'thermal', 'energy', 'radiation', 'nuclear', 'reactions', 'core', 'provide', 'sufficient', 'outward', 'pressure', 'counteract', 'inward', 'pressure', 'gravity', 'caused', 'stars', 'great', 'mass', '.', 'star', 'exhausts', 'nuclear', 'fuels', 'succumbs', 'forces', 'gravity', 'literally', 'collapses', 'inward', '.', 'according', 'equations', 'derived', 'quantum', 'mechanics', 'einsteins', 'theory', 'general', 'relativity', 'stars', 'remaining', 'mass', 'determines', 'whether', 'becomes', 'white', 'dwarf', 'neutron', 'star', 'black', 'hole', '.', 'white', 'dwarfs', 'stars', 'usually', 'measured', 'comparison', 'suns', 'mass', '.', 'star', 'whose', 'remaining', 'mass', 'sun', 'condenses', 'approximately', 'size', 'earth', '.', 'stars', 'contraction', 'halted', 'collective', 'resistance', 'electrons', 'pressed', 'atomic', 'nuclei', '.', 'matter', 'collapsed', 'star', 'tightly', 'packed', 'piece', 'size', 'sugar', 'cube', 'would', 'weigh', 'thousands', 'kilograms', '.', 'gravitational', 'contraction', 'would', 'made', 'star', 'white', 'hot', '.', 'appropriately', 'called', 'white', 'dwarf', '.', 'astronomers', 'detected', 'white', 'dwarfs', 'space', '.', 'first', 'discovery', 'planetsized', 'object', 'seemed', 'exert', 'disproportionately', 'high', 'gravitational', 'effect', 'upon', 'celestial', 'companion', 'call', 'star', 'sirius', '.', 'times', 'suns', 'mass', '.', 'appeared', 'planetsized', 'object', 'would', 'massive', 'sun', 'affect', 'sirius', '.', 'moreover', 'spectral', 'analysis', 'indicated', 'stars', 'color', 'white', '.', 'based', 'upon', 'studies', 'astronomers', 'concluded', 'found', 'white', 'dwarf', '.', 'however', 'took', 'many', 'years', 'discovery', 'scientists', 'accepted', 'fact', 'object', 'thousands', 'times', 'denser', 'anything', 'possible', 'earth', 'could', 'exist', '.', 'neutron', 'stars', 'supernovas', 'giant', 'stars', 'usually', 'lose', 'mass', 'normal', 'lifetimes', '.', 'star', 'still', 'retains', 'solar', 'masses', 'exhaustion', 'nuclear', 'fuels', 'would', 'collapse', 'even', 'greater', 'density', 'smaller', 'size', 'white', 'dwarf', '.', 'reason', 'limit', 'amount', 'compression', 'electrons', 'resist', 'presence', 'atomic', 'nuclei', '.', 'instance', 'limit', 'breached', '.', 'electrons', 'literally', 'driven', 'atomic', 'nuclei', 'mating', 'protons', 'form', 'neutrons', 'thus', 'transmuting', 'nuclei', 'neutrons', '.', 'resulting', 'object', 'aptly', 'called', 'neutron', 'star', '.', 'may', 'kilometers', 'diameter', '.', 'sugarcube', 'size', 'piece', 'star', 'would', 'weigh', 'onehalf', 'trillion', 'kilograms', '.', 'sometimes', 'electrons', 'driven', 'protons', 'atomic', 'nuclei', 'neutrinos', 'blown', 'outward', 'forcefully', 'blast', 'stars', 'outer', 'layer', '.', 'creates', 'supernova', 'may', 'temporarily', 'outshine', 'stars', 'galaxy', '.', 'prominent', 'object', 'believed', 'neutron', 'star', 'crab', 'nebula', 'remnant', 'supernova', 'observed', 'reported', 'chinese', 'astronomers', '.', 'starlike', 'object', 'nebula', 'blinks', 'pulses', 'times', 'second', 'visible', 'light', 'radio', 'waves', 'gamma', 'rays', '.', 'radio', 'pulses', 'believed', 'result', 'interaction', 'point', 'spinning', 'star', 'stars', 'magnetic', 'field', '.', 'star', 'rotates', 'point', 'theorized', 'alternately', 'turned', 'away', 'earth', '.', 'fast', 'rotation', 'rate', 'implied', 'interval', 'pulses', 'indicates', 'star', 'kilometers', 'diameter', 'larger', 'would', 'torn', 'apart', 'centrifugal', 'force', '.', 'pulsars', 'radio', 'telescopes', 'detected', 'large', 'number', 'objects', 'send', 'naturally', 'pulsed', 'radio', 'signals', '.', 'named', 'pulsars', '.', 'like', 'object', 'crab', 'nebula', 'presumed', 'rotating', 'neutron', 'stars', '.', 'pulsars', 'vela', 'pulsarwhich', 'gets', 'location', 'vela', 'sails', 'constellationpulses', 'wavelengths', 'shorter', 'radio', '.', 'like', 'crab', 'pulsar', 'vela', 'pulsar', 'pulses', 'optical', 'gamma', 'ray', 'wavelengths', '.', 'however', 'unlike', 'crab', 'pulsar', 'xray', 'pulsar', '.', 'aside', 'mystery', 'generated', 'differences', 'scientists', 'debate', 'reasons', 'pulses', 'gamma', 'xray', 'optical', 'frequencies', '.', 'noted', 'earlier', 'agree', 'origin', 'radio', 'pulses', '.', 'black', 'holes', 'star', 'three', 'solar', 'masses', 'left', 'exhausts', 'nuclear', 'fuels', 'become', 'black', 'hole', '.', 'like', 'white', 'dwarf', 'neutron', 'star', 'stars', 'density', 'gravity', 'increase', 'contraction', '.', 'consequently', 'stars', 'gravitational', 'escape', 'velocity', 'speed', 'needed', 'escape', 'star', 'increases', '.', 'star', 'shrunk', 'schwarzschild', 'radius', 'named', 'first', 'calculated', 'gravitational', 'escape', 'velocity', 'would', 'nearly', 'kilometers', 'second', 'equal', 'speed', 'light', '.', 'consequently', 'light', 'could', 'never', 'leave', 'star', '.', 'reduction', 'giant', 'star', 'schwarzschild', 'radius', 'represents', 'incredible', 'compression', 'mass', 'decrease', 'size', '.', 'example', 'mathematicians', 'calculate', 'star', 'solar', 'masses', 'ten', 'times', 'mass', 'sun', 'exhaustion', 'nuclear', 'fuels', 'schwarzschild', 'radius', 'kilometers', '.', 'according', 'law', 'general', 'relativity', 'space', 'time', 'warped', 'curved', 'gravity', '.', 'time', 'theorized', 'point']\n"
     ]
    }
   ],
   "source": [
    "text_normalization = \" \".join([str(item) for item in text])\n",
    "print(text)"
   ]
  },
  {
   "cell_type": "code",
   "execution_count": 29,
   "id": "2751d966",
   "metadata": {},
   "outputs": [],
   "source": [
    "tokenizer = nltk.tokenize.TreebankWordTokenizer()\n",
    "tokens = tokenizer.tokenize(text_normalization)"
   ]
  },
  {
   "cell_type": "code",
   "execution_count": 30,
   "id": "85020bf4",
   "metadata": {},
   "outputs": [],
   "source": [
    "stemmer = nltk.stem.PorterStemmer()\n",
    "\n",
    "text_stemming = \" \".join(stemmer.stem(token) for token in tokens)"
   ]
  },
  {
   "cell_type": "code",
   "execution_count": 31,
   "id": "27dfc0f7",
   "metadata": {},
   "outputs": [
    {
     "name": "stdout",
     "output_type": "stream",
     "text": [
      "combat arm grove way castro valley california telephon follow materi download nasa spacelink bb nation aeronaut space administr georg . marshal space flight center marshal space flight center alabama . much black hole meet eye . fact eye even aid advanc telescop never see black hole space . reason matter within black hole dens great gravit pull prevent even light escap . like electromagnet radiat radio wave infrar ray ultraviolet radiat xray gamma radiat light fastest travel univers . move nearli kilomet mile second . speed could circl earth seven time heartbeat . light cant escap black hole follow noth els . consequ direct way detect black hole . fact princip evid exist black hole come observ solut complex equat base einstein theori gener rel . among thing calcul indic black hole may occur varieti size abund us realiz . mini black hole black hole theoriz nearli old big bang hypothes start univers billion year ago . rapid earli expans part dens hot matter nascent univers said compress less rapidli move part latter becam superdens collaps form black hole . among hole creat may submicroscop miniblack hole . miniblack hole may small atom particl contain much mass materi mount everest . never underestim power miniblack hole . event caus decompress would million hydrogen bomb simultan deton . star widespread support given theori black hole natur product giant star death . accord theori star like sun other see sky live long thermal energi radiat nuclear reaction core provid suffici outward pressur counteract inward pressur graviti caus star great mass . star exhaust nuclear fuel succumb forc graviti liter collaps inward . accord equat deriv quantum mechan einstein theori gener rel star remain mass determin whether becom white dwarf neutron star black hole . white dwarf star usual measur comparison sun mass . star whose remain mass sun condens approxim size earth . star contract halt collect resist electron press atom nuclei . matter collaps star tightli pack piec size sugar cube would weigh thousand kilogram . gravit contract would made star white hot . appropri call white dwarf . astronom detect white dwarf space . first discoveri planets object seem exert disproportion high gravit effect upon celesti companion call star siriu . time sun mass . appear planets object would massiv sun affect siriu . moreov spectral analysi indic star color white . base upon studi astronom conclud found white dwarf . howev took mani year discoveri scientist accept fact object thousand time denser anyth possibl earth could exist . neutron star supernova giant star usual lose mass normal lifetim . star still retain solar mass exhaust nuclear fuel would collaps even greater densiti smaller size white dwarf . reason limit amount compress electron resist presenc atom nuclei . instanc limit breach . electron liter driven atom nuclei mate proton form neutron thu transmut nuclei neutron . result object aptli call neutron star . may kilomet diamet . sugarcub size piec star would weigh onehalf trillion kilogram . sometim electron driven proton atom nuclei neutrino blown outward forc blast star outer layer . creat supernova may temporarili outshin star galaxi . promin object believ neutron star crab nebula remnant supernova observ report chines astronom . starlik object nebula blink puls time second visibl light radio wave gamma ray . radio puls believ result interact point spin star star magnet field . star rotat point theoriz altern turn away earth . fast rotat rate impli interv puls indic star kilomet diamet larger would torn apart centrifug forc . pulsar radio telescop detect larg number object send natur puls radio signal . name pulsar . like object crab nebula presum rotat neutron star . pulsar vela pulsarwhich get locat vela sail constellationpuls wavelength shorter radio . like crab pulsar vela pulsar puls optic gamma ray wavelength . howev unlik crab pulsar xray pulsar . asid mysteri gener differ scientist debat reason puls gamma xray optic frequenc . note earlier agre origin radio puls . black hole star three solar mass left exhaust nuclear fuel becom black hole . like white dwarf neutron star star densiti graviti increas contract . consequ star gravit escap veloc speed need escap star increas . star shrunk schwarzschild radiu name first calcul gravit escap veloc would nearli kilomet second equal speed light . consequ light could never leav star . reduct giant star schwarzschild radiu repres incred compress mass decreas size . exampl mathematician calcul star solar mass ten time mass sun exhaust nuclear fuel schwarzschild radiu kilomet . accord law gener rel space time warp curv graviti . time theoriz point\n"
     ]
    }
   ],
   "source": [
    "print(text_stemming)"
   ]
  },
  {
   "cell_type": "markdown",
   "id": "a0211d7e",
   "metadata": {},
   "source": [
    "# Лемматизация\n",
    "Лемматизация — процесс приведения словоформы к лемме, т.е. нормальной (словарной) форме. Это более сложная задача, чем стемминг, но и результаты дает гораздо более осмысленные, особенно для языков с богатой морфологией.\n",
    "\n",
    "кошке, кошку, кошкам, кошкой $\\implies$ кошка\n",
    "бежал, бежит, бегу $\\implies$ бежать\n",
    "белому, белым, белыми $\\implies$ белый"
   ]
  },
  {
   "cell_type": "code",
   "execution_count": 32,
   "id": "f1711f85",
   "metadata": {},
   "outputs": [],
   "source": [
    "tokenizer = nltk.tokenize.TreebankWordTokenizer()\n",
    "tokens = tokenizer.tokenize(text_stemming)"
   ]
  },
  {
   "cell_type": "code",
   "execution_count": 33,
   "id": "b448bfae",
   "metadata": {},
   "outputs": [],
   "source": [
    "lemmatizator = nltk.stem.WordNetLemmatizer()\n",
    "text_lemmatization = \" \".join(lemmatizator.lemmatize(token) for token in tokens)"
   ]
  },
  {
   "cell_type": "code",
   "execution_count": 34,
   "id": "fe18d5f6",
   "metadata": {},
   "outputs": [],
   "source": [
    "tokenizer = WhitespaceTokenizer()\n",
    "text = tokenizer.tokenize(text_lemmatization)"
   ]
  },
  {
   "cell_type": "code",
   "execution_count": 35,
   "id": "7752283d",
   "metadata": {},
   "outputs": [
    {
     "name": "stdout",
     "output_type": "stream",
     "text": [
      "['combat', 'arm', 'grove', 'way', 'castro', 'valley', 'california', 'telephon', 'follow', 'materi', 'download', 'nasa', 'spacelink', 'bb', 'nation', 'aeronaut', 'space', 'administr', 'georg', '.', 'marshal', 'space', 'flight', 'center', 'marshal', 'space', 'flight', 'center', 'alabama', '.', 'much', 'black', 'hole', 'meet', 'eye', '.', 'fact', 'eye', 'even', 'aid', 'advanc', 'telescop', 'never', 'see', 'black', 'hole', 'space', '.', 'reason', 'matter', 'within', 'black', 'hole', 'den', 'great', 'gravit', 'pull', 'prevent', 'even', 'light', 'escap', '.', 'like', 'electromagnet', 'radiat', 'radio', 'wave', 'infrar', 'ray', 'ultraviolet', 'radiat', 'xray', 'gamma', 'radiat', 'light', 'fastest', 'travel', 'univers', '.', 'move', 'nearli', 'kilomet', 'mile', 'second', '.', 'speed', 'could', 'circl', 'earth', 'seven', 'time', 'heartbeat', '.', 'light', 'cant', 'escap', 'black', 'hole', 'follow', 'noth', 'el', '.', 'consequ', 'direct', 'way', 'detect', 'black', 'hole', '.', 'fact', 'princip', 'evid', 'exist', 'black', 'hole', 'come', 'observ', 'solut', 'complex', 'equat', 'base', 'einstein', 'theori', 'gener', 'rel', '.', 'among', 'thing', 'calcul', 'indic', 'black', 'hole', 'may', 'occur', 'varieti', 'size', 'abund', 'u', 'realiz', '.', 'mini', 'black', 'hole', 'black', 'hole', 'theoriz', 'nearli', 'old', 'big', 'bang', 'hypothes', 'start', 'univers', 'billion', 'year', 'ago', '.', 'rapid', 'earli', 'expans', 'part', 'den', 'hot', 'matter', 'nascent', 'univers', 'said', 'compress', 'le', 'rapidli', 'move', 'part', 'latter', 'becam', 'superdens', 'collaps', 'form', 'black', 'hole', '.', 'among', 'hole', 'creat', 'may', 'submicroscop', 'miniblack', 'hole', '.', 'miniblack', 'hole', 'may', 'small', 'atom', 'particl', 'contain', 'much', 'mass', 'materi', 'mount', 'everest', '.', 'never', 'underestim', 'power', 'miniblack', 'hole', '.', 'event', 'caus', 'decompress', 'would', 'million', 'hydrogen', 'bomb', 'simultan', 'deton', '.', 'star', 'widespread', 'support', 'given', 'theori', 'black', 'hole', 'natur', 'product', 'giant', 'star', 'death', '.', 'accord', 'theori', 'star', 'like', 'sun', 'other', 'see', 'sky', 'live', 'long', 'thermal', 'energi', 'radiat', 'nuclear', 'reaction', 'core', 'provid', 'suffici', 'outward', 'pressur', 'counteract', 'inward', 'pressur', 'graviti', 'caus', 'star', 'great', 'mass', '.', 'star', 'exhaust', 'nuclear', 'fuel', 'succumb', 'forc', 'graviti', 'liter', 'collaps', 'inward', '.', 'accord', 'equat', 'deriv', 'quantum', 'mechan', 'einstein', 'theori', 'gener', 'rel', 'star', 'remain', 'mass', 'determin', 'whether', 'becom', 'white', 'dwarf', 'neutron', 'star', 'black', 'hole', '.', 'white', 'dwarf', 'star', 'usual', 'measur', 'comparison', 'sun', 'mass', '.', 'star', 'whose', 'remain', 'mass', 'sun', 'condens', 'approxim', 'size', 'earth', '.', 'star', 'contract', 'halt', 'collect', 'resist', 'electron', 'press', 'atom', 'nucleus', '.', 'matter', 'collaps', 'star', 'tightli', 'pack', 'piec', 'size', 'sugar', 'cube', 'would', 'weigh', 'thousand', 'kilogram', '.', 'gravit', 'contract', 'would', 'made', 'star', 'white', 'hot', '.', 'appropri', 'call', 'white', 'dwarf', '.', 'astronom', 'detect', 'white', 'dwarf', 'space', '.', 'first', 'discoveri', 'planet', 'object', 'seem', 'exert', 'disproportion', 'high', 'gravit', 'effect', 'upon', 'celesti', 'companion', 'call', 'star', 'siriu', '.', 'time', 'sun', 'mass', '.', 'appear', 'planet', 'object', 'would', 'massiv', 'sun', 'affect', 'siriu', '.', 'moreov', 'spectral', 'analysi', 'indic', 'star', 'color', 'white', '.', 'base', 'upon', 'studi', 'astronom', 'conclud', 'found', 'white', 'dwarf', '.', 'howev', 'took', 'mani', 'year', 'discoveri', 'scientist', 'accept', 'fact', 'object', 'thousand', 'time', 'denser', 'anyth', 'possibl', 'earth', 'could', 'exist', '.', 'neutron', 'star', 'supernova', 'giant', 'star', 'usual', 'lose', 'mass', 'normal', 'lifetim', '.', 'star', 'still', 'retain', 'solar', 'mass', 'exhaust', 'nuclear', 'fuel', 'would', 'collaps', 'even', 'greater', 'densiti', 'smaller', 'size', 'white', 'dwarf', '.', 'reason', 'limit', 'amount', 'compress', 'electron', 'resist', 'presenc', 'atom', 'nucleus', '.', 'instanc', 'limit', 'breach', '.', 'electron', 'liter', 'driven', 'atom', 'nucleus', 'mate', 'proton', 'form', 'neutron', 'thu', 'transmut', 'nucleus', 'neutron', '.', 'result', 'object', 'aptli', 'call', 'neutron', 'star', '.', 'may', 'kilomet', 'diamet', '.', 'sugarcub', 'size', 'piec', 'star', 'would', 'weigh', 'onehalf', 'trillion', 'kilogram', '.', 'sometim', 'electron', 'driven', 'proton', 'atom', 'nucleus', 'neutrino', 'blown', 'outward', 'forc', 'blast', 'star', 'outer', 'layer', '.', 'creat', 'supernova', 'may', 'temporarili', 'outshin', 'star', 'galaxi', '.', 'promin', 'object', 'believ', 'neutron', 'star', 'crab', 'nebula', 'remnant', 'supernova', 'observ', 'report', 'chine', 'astronom', '.', 'starlik', 'object', 'nebula', 'blink', 'pul', 'time', 'second', 'visibl', 'light', 'radio', 'wave', 'gamma', 'ray', '.', 'radio', 'pul', 'believ', 'result', 'interact', 'point', 'spin', 'star', 'star', 'magnet', 'field', '.', 'star', 'rotat', 'point', 'theoriz', 'altern', 'turn', 'away', 'earth', '.', 'fast', 'rotat', 'rate', 'impli', 'interv', 'pul', 'indic', 'star', 'kilomet', 'diamet', 'larger', 'would', 'torn', 'apart', 'centrifug', 'forc', '.', 'pulsar', 'radio', 'telescop', 'detect', 'larg', 'number', 'object', 'send', 'natur', 'pul', 'radio', 'signal', '.', 'name', 'pulsar', '.', 'like', 'object', 'crab', 'nebula', 'presum', 'rotat', 'neutron', 'star', '.', 'pulsar', 'vela', 'pulsarwhich', 'get', 'locat', 'vela', 'sail', 'constellationpuls', 'wavelength', 'shorter', 'radio', '.', 'like', 'crab', 'pulsar', 'vela', 'pulsar', 'pul', 'optic', 'gamma', 'ray', 'wavelength', '.', 'howev', 'unlik', 'crab', 'pulsar', 'xray', 'pulsar', '.', 'asid', 'mysteri', 'gener', 'differ', 'scientist', 'debat', 'reason', 'pul', 'gamma', 'xray', 'optic', 'frequenc', '.', 'note', 'earlier', 'agre', 'origin', 'radio', 'pul', '.', 'black', 'hole', 'star', 'three', 'solar', 'mass', 'left', 'exhaust', 'nuclear', 'fuel', 'becom', 'black', 'hole', '.', 'like', 'white', 'dwarf', 'neutron', 'star', 'star', 'densiti', 'graviti', 'increas', 'contract', '.', 'consequ', 'star', 'gravit', 'escap', 'veloc', 'speed', 'need', 'escap', 'star', 'increas', '.', 'star', 'shrunk', 'schwarzschild', 'radiu', 'name', 'first', 'calcul', 'gravit', 'escap', 'veloc', 'would', 'nearli', 'kilomet', 'second', 'equal', 'speed', 'light', '.', 'consequ', 'light', 'could', 'never', 'leav', 'star', '.', 'reduct', 'giant', 'star', 'schwarzschild', 'radiu', 'repres', 'incred', 'compress', 'mass', 'decreas', 'size', '.', 'exampl', 'mathematician', 'calcul', 'star', 'solar', 'mass', 'ten', 'time', 'mass', 'sun', 'exhaust', 'nuclear', 'fuel', 'schwarzschild', 'radiu', 'kilomet', '.', 'accord', 'law', 'gener', 'rel', 'space', 'time', 'warp', 'curv', 'graviti', '.', 'time', 'theoriz', 'point']\n"
     ]
    }
   ],
   "source": [
    "print(text)"
   ]
  },
  {
   "cell_type": "markdown",
   "id": "0e702196",
   "metadata": {},
   "source": [
    "# Исправление опечаток\n",
    "[Простейший спеллчекер Норвига](https://norvig.com/spell-correct.html)"
   ]
  },
  {
   "cell_type": "markdown",
   "id": "9cecb34d",
   "metadata": {},
   "source": [
    "# Подсчёт статистики встречаемости слов в тексте"
   ]
  },
  {
   "cell_type": "code",
   "execution_count": 36,
   "id": "e86c4fa9",
   "metadata": {},
   "outputs": [
    {
     "name": "stdout",
     "output_type": "stream",
     "text": [
      "CPU times: user 1.17 ms, sys: 8 µs, total: 1.18 ms\n",
      "Wall time: 1.21 ms\n"
     ]
    },
    {
     "data": {
      "text/plain": [
       "FreqDist({'.': 66, 'star': 36, 'hole': 18, 'black': 14, 'mass': 12, 'white': 9, 'would': 8, 'neutron': 8, 'object': 8, 'radio': 7, ...})"
      ]
     },
     "execution_count": 36,
     "metadata": {},
     "output_type": "execute_result"
    }
   ],
   "source": [
    "%%time\n",
    "from nltk.probability import FreqDist\n",
    "fdist = FreqDist(text)\n",
    "fdist"
   ]
  },
  {
   "cell_type": "code",
   "execution_count": 37,
   "id": "9f13286e",
   "metadata": {},
   "outputs": [
    {
     "data": {
      "text/plain": [
       "[('.', 66), ('star', 36), ('hole', 18), ('black', 14), ('mass', 12)]"
      ]
     },
     "execution_count": 37,
     "metadata": {},
     "output_type": "execute_result"
    }
   ],
   "source": [
    "fdist.most_common(5)"
   ]
  },
  {
   "cell_type": "code",
   "execution_count": 38,
   "id": "4c5f0af2",
   "metadata": {},
   "outputs": [
    {
     "data": {
      "image/png": "[encoded data removed]",
      "text/plain": [
       "<Figure size 432x288 with 1 Axes>"
      ]
     },
     "metadata": {
      "needs_background": "light"
     },
     "output_type": "display_data"
    },
    {
     "data": {
      "text/plain": [
       "<AxesSubplot:xlabel='Samples', ylabel='Counts'>"
      ]
     },
     "execution_count": 38,
     "metadata": {},
     "output_type": "execute_result"
    }
   ],
   "source": [
    "fdist.plot(35,cumulative=False)"
   ]
  },
  {
   "cell_type": "markdown",
   "id": "70a503ca",
   "metadata": {},
   "source": [
    "# С параметром cumulative=False график иллюстрирует закон Ципфа\n",
    "**Закон Ципфа** («ранг—частота»). Например, Если все слова достаточно длинного текста упорядочить по убыванию частоты их использования, то частота n-го слова в таком списке окажется приблизительно обратно пропорциональной его порядковому номеру n.\n",
    "Второе по используемости слово встречается примерно в два раза реже, чем первое, третье — в три раза реже, чем первое, и т.д."
   ]
  },
  {
   "cell_type": "code",
   "execution_count": 39,
   "id": "d017b599",
   "metadata": {},
   "outputs": [
    {
     "data": {
      "text/html": [
       "<img src=\"https://ic.pics.livejournal.com/eponim2008/17443609/234916/234916_original.jpg\"/>"
      ],
      "text/plain": [
       "<IPython.core.display.Image object>"
      ]
     },
     "execution_count": 39,
     "metadata": {},
     "output_type": "execute_result"
    }
   ],
   "source": [
    "from IPython.display import Image\n",
    "from IPython.core.display import HTML \n",
    "Image(url= \"https://ic.pics.livejournal.com/eponim2008/17443609/234916/234916_original.jpg\")"
   ]
  },
  {
   "cell_type": "markdown",
   "id": "301a3540",
   "metadata": {},
   "source": [
    "# Визуализация"
   ]
  },
  {
   "cell_type": "code",
   "execution_count": 40,
   "id": "f214c5cc",
   "metadata": {},
   "outputs": [],
   "source": [
    "from wordcloud import WordCloud"
   ]
  },
  {
   "cell_type": "code",
   "execution_count": 41,
   "id": "c9a7e64b",
   "metadata": {},
   "outputs": [
    {
     "name": "stdout",
     "output_type": "stream",
     "text": [
      "/Users/eldaroid/anaconda3/bin/python\n"
     ]
    }
   ],
   "source": [
    "import sys\n",
    "print(sys.executable)"
   ]
  },
  {
   "cell_type": "code",
   "execution_count": 42,
   "id": "7fae60a2",
   "metadata": {},
   "outputs": [],
   "source": [
    "import matplotlib.pyplot as plt\n",
    "%matplotlib inline"
   ]
  },
  {
   "cell_type": "code",
   "execution_count": 43,
   "id": "9b6e034a",
   "metadata": {},
   "outputs": [],
   "source": [
    "text_raw = \" \".join(text)"
   ]
  },
  {
   "cell_type": "code",
   "execution_count": 44,
   "id": "1ae24e69",
   "metadata": {},
   "outputs": [],
   "source": [
    "wordcloud = WordCloud().generate(text_raw)"
   ]
  },
  {
   "cell_type": "code",
   "execution_count": 45,
   "id": "076f5476",
   "metadata": {},
   "outputs": [
    {
     "data": {
      "image/png": "[encoded data removed]",
      "text/plain": [
       "<Figure size 432x288 with 1 Axes>"
      ]
     },
     "metadata": {
      "needs_background": "light"
     },
     "output_type": "display_data"
    }
   ],
   "source": [
    "plt.imshow(wordcloud, interpolation='bilinear')\n",
    "plt.axis(\"off\")\n",
    "plt.show()"
   ]
  },
  {
   "cell_type": "markdown",
   "id": "71d17b71",
   "metadata": {},
   "source": [
    "# Векторизация\n",
    "Создаем векторы документа и строим итоговую матрицутермы-на-документы."
   ]
  },
  {
   "cell_type": "code",
   "execution_count": 46,
   "id": "3baf3765",
   "metadata": {},
   "outputs": [],
   "source": [
    "text = \" \".join(word for word in text)\n",
    "# print(text)"
   ]
  },
  {
   "cell_type": "code",
   "execution_count": 47,
   "id": "3dfb0ae5",
   "metadata": {},
   "outputs": [
    {
     "name": "stdout",
     "output_type": "stream",
     "text": [
      "['combat', 'arm', 'grove', 'way', 'castro', 'valley', 'california', 'telephon', 'follow', 'materi', 'download', 'nasa', 'spacelink', 'bb', 'nation', 'aeronaut', 'space', 'administr', 'georg', '.', 'marshal', 'space', 'flight', 'center', 'marshal', 'space', 'flight', 'center', 'alabama', '.', 'much', 'black', 'hole', 'meet', 'eye', '.', 'fact', 'eye', 'even', 'aid', 'advanc', 'telescop', 'never', 'see', 'black', 'hole', 'space', '.', 'reason', 'matter', 'within', 'black', 'hole', 'den', 'great', 'gravit', 'pull', 'prevent', 'even', 'light', 'escap', '.', 'like', 'electromagnet', 'radiat', 'radio', 'wave', 'infrar', 'ray', 'ultraviolet', 'radiat', 'xray', 'gamma', 'radiat', 'light', 'fastest', 'travel', 'univers', '.', 'move', 'nearli', 'kilomet', 'mile', 'second', '.', 'speed', 'could', 'circl', 'earth', 'seven', 'time', 'heartbeat', '.', 'light', 'cant', 'escap', 'black', 'hole', 'follow', 'noth', 'el', '.', 'consequ', 'direct', 'way', 'detect', 'black', 'hole', '.', 'fact', 'princip', 'evid', 'exist', 'black', 'hole', 'come', 'observ', 'solut', 'complex', 'equat', 'base', 'einstein', 'theori', 'gener', 'rel', '.', 'among', 'thing', 'calcul', 'indic', 'black', 'hole', 'may', 'occur', 'varieti', 'size', 'abund', 'u', 'realiz', '.', 'mini', 'black', 'hole', 'black', 'hole', 'theoriz', 'nearli', 'old', 'big', 'bang', 'hypothes', 'start', 'univers', 'billion', 'year', 'ago', '.', 'rapid', 'earli', 'expans', 'part', 'den', 'hot', 'matter', 'nascent', 'univers', 'said', 'compress', 'le', 'rapidli', 'move', 'part', 'latter', 'becam', 'superdens', 'collaps', 'form', 'black', 'hole', '.', 'among', 'hole', 'creat', 'may', 'submicroscop', 'miniblack', 'hole', '.', 'miniblack', 'hole', 'may', 'small', 'atom', 'particl', 'contain', 'much', 'mass', 'materi', 'mount', 'everest', '.', 'never', 'underestim', 'power', 'miniblack', 'hole', '.', 'event', 'caus', 'decompress', 'would', 'million', 'hydrogen', 'bomb', 'simultan', 'deton', '.', 'star', 'widespread', 'support', 'given', 'theori', 'black', 'hole', 'natur', 'product', 'giant', 'star', 'death', '.', 'accord', 'theori', 'star', 'like', 'sun', 'other', 'see', 'sky', 'live', 'long', 'thermal', 'energi', 'radiat', 'nuclear', 'reaction', 'core', 'provid', 'suffici', 'outward', 'pressur', 'counteract', 'inward', 'pressur', 'graviti', 'caus', 'star', 'great', 'mass', '.', 'star', 'exhaust', 'nuclear', 'fuel', 'succumb', 'forc', 'graviti', 'liter', 'collaps', 'inward', '.', 'accord', 'equat', 'deriv', 'quantum', 'mechan', 'einstein', 'theori', 'gener', 'rel', 'star', 'remain', 'mass', 'determin', 'whether', 'becom', 'white', 'dwarf', 'neutron', 'star', 'black', 'hole', '.', 'white', 'dwarf', 'star', 'usual', 'measur', 'comparison', 'sun', 'mass', '.', 'star', 'whose', 'remain', 'mass', 'sun', 'condens', 'approxim', 'size', 'earth', '.', 'star', 'contract', 'halt', 'collect', 'resist', 'electron', 'press', 'atom', 'nucleus', '.', 'matter', 'collaps', 'star', 'tightli', 'pack', 'piec', 'size', 'sugar', 'cube', 'would', 'weigh', 'thousand', 'kilogram', '.', 'gravit', 'contract', 'would', 'made', 'star', 'white', 'hot', '.', 'appropri', 'call', 'white', 'dwarf', '.', 'astronom', 'detect', 'white', 'dwarf', 'space', '.', 'first', 'discoveri', 'planet', 'object', 'seem', 'exert', 'disproportion', 'high', 'gravit', 'effect', 'upon', 'celesti', 'companion', 'call', 'star', 'siriu', '.', 'time', 'sun', 'mass', '.', 'appear', 'planet', 'object', 'would', 'massiv', 'sun', 'affect', 'siriu', '.', 'moreov', 'spectral', 'analysi', 'indic', 'star', 'color', 'white', '.', 'base', 'upon', 'studi', 'astronom', 'conclud', 'found', 'white', 'dwarf', '.', 'howev', 'took', 'mani', 'year', 'discoveri', 'scientist', 'accept', 'fact', 'object', 'thousand', 'time', 'denser', 'anyth', 'possibl', 'earth', 'could', 'exist', '.', 'neutron', 'star', 'supernova', 'giant', 'star', 'usual', 'lose', 'mass', 'normal', 'lifetim', '.', 'star', 'still', 'retain', 'solar', 'mass', 'exhaust', 'nuclear', 'fuel', 'would', 'collaps', 'even', 'greater', 'densiti', 'smaller', 'size', 'white', 'dwarf', '.', 'reason', 'limit', 'amount', 'compress', 'electron', 'resist', 'presenc', 'atom', 'nucleus', '.', 'instanc', 'limit', 'breach', '.', 'electron', 'liter', 'driven', 'atom', 'nucleus', 'mate', 'proton', 'form', 'neutron', 'thu', 'transmut', 'nucleus', 'neutron', '.', 'result', 'object', 'aptli', 'call', 'neutron', 'star', '.', 'may', 'kilomet', 'diamet', '.', 'sugarcub', 'size', 'piec', 'star', 'would', 'weigh', 'onehalf', 'trillion', 'kilogram', '.', 'sometim', 'electron', 'driven', 'proton', 'atom', 'nucleus', 'neutrino', 'blown', 'outward', 'forc', 'blast', 'star', 'outer', 'layer', '.', 'creat', 'supernova', 'may', 'temporarili', 'outshin', 'star', 'galaxi', '.', 'promin', 'object', 'believ', 'neutron', 'star', 'crab', 'nebula', 'remnant', 'supernova', 'observ', 'report', 'chine', 'astronom', '.', 'starlik', 'object', 'nebula', 'blink', 'pul', 'time', 'second', 'visibl', 'light', 'radio', 'wave', 'gamma', 'ray', '.', 'radio', 'pul', 'believ', 'result', 'interact', 'point', 'spin', 'star', 'star', 'magnet', 'field', '.', 'star', 'rotat', 'point', 'theoriz', 'altern', 'turn', 'away', 'earth', '.', 'fast', 'rotat', 'rate', 'impli', 'interv', 'pul', 'indic', 'star', 'kilomet', 'diamet', 'larger', 'would', 'torn', 'apart', 'centrifug', 'forc', '.', 'pulsar', 'radio', 'telescop', 'detect', 'larg', 'number', 'object', 'send', 'natur', 'pul', 'radio', 'signal', '.', 'name', 'pulsar', '.', 'like', 'object', 'crab', 'nebula', 'presum', 'rotat', 'neutron', 'star', '.', 'pulsar', 'vela', 'pulsarwhich', 'get', 'locat', 'vela', 'sail', 'constellationpuls', 'wavelength', 'shorter', 'radio', '.', 'like', 'crab', 'pulsar', 'vela', 'pulsar', 'pul', 'optic', 'gamma', 'ray', 'wavelength', '.', 'howev', 'unlik', 'crab', 'pulsar', 'xray', 'pulsar', '.', 'asid', 'mysteri', 'gener', 'differ', 'scientist', 'debat', 'reason', 'pul', 'gamma', 'xray', 'optic', 'frequenc', '.', 'note', 'earlier', 'agre', 'origin', 'radio', 'pul', '.', 'black', 'hole', 'star', 'three', 'solar', 'mass', 'left', 'exhaust', 'nuclear', 'fuel', 'becom', 'black', 'hole', '.', 'like', 'white', 'dwarf', 'neutron', 'star', 'star', 'densiti', 'graviti', 'increas', 'contract', '.', 'consequ', 'star', 'gravit', 'escap', 'veloc', 'speed', 'need', 'escap', 'star', 'increas', '.', 'star', 'shrunk', 'schwarzschild', 'radiu', 'name', 'first', 'calcul', 'gravit', 'escap', 'veloc', 'would', 'nearli', 'kilomet', 'second', 'equal', 'speed', 'light', '.', 'consequ', 'light', 'could', 'never', 'leav', 'star', '.', 'reduct', 'giant', 'star', 'schwarzschild', 'radiu', 'repres', 'incred', 'compress', 'mass', 'decreas', 'size', '.', 'exampl', 'mathematician', 'calcul', 'star', 'solar', 'mass', 'ten', 'time', 'mass', 'sun', 'exhaust', 'nuclear', 'fuel', 'schwarzschild', 'radiu', 'kilomet', '.', 'accord', 'law', 'gener', 'rel', 'space', 'time', 'warp', 'curv', 'graviti', '.', 'time', 'theoriz', 'point']\n"
     ]
    }
   ],
   "source": [
    "text = nltk.word_tokenize(text)\n",
    "print(text)"
   ]
  },
  {
   "cell_type": "code",
   "execution_count": 50,
   "id": "452bbb4a",
   "metadata": {},
   "outputs": [
    {
     "ename": "TypeError",
     "evalue": "expected string or bytes-like object",
     "output_type": "error",
     "traceback": [
      "\u001b[0;31m---------------------------------------------------------------------------\u001b[0m",
      "\u001b[0;31mTypeError\u001b[0m                                 Traceback (most recent call last)",
      "\u001b[0;32m<ipython-input-50-0d1aa9956e6e>\u001b[0m in \u001b[0;36m<module>\u001b[0;34m\u001b[0m\n\u001b[0;32m----> 1\u001b[0;31m \u001b[0msentences\u001b[0m \u001b[0;34m=\u001b[0m \u001b[0mre\u001b[0m\u001b[0;34m.\u001b[0m\u001b[0msplit\u001b[0m\u001b[0;34m(\u001b[0m\u001b[0;34mr'.'\u001b[0m\u001b[0;34m,\u001b[0m \u001b[0mtext\u001b[0m\u001b[0;34m)\u001b[0m\u001b[0;34m\u001b[0m\u001b[0;34m\u001b[0m\u001b[0m\n\u001b[0m\u001b[1;32m      2\u001b[0m \u001b[0;34m\u001b[0m\u001b[0m\n\u001b[1;32m      3\u001b[0m \u001b[0;32mfor\u001b[0m \u001b[0mstuff\u001b[0m \u001b[0;32min\u001b[0m \u001b[0msentences\u001b[0m\u001b[0;34m:\u001b[0m\u001b[0;34m\u001b[0m\u001b[0;34m\u001b[0m\u001b[0m\n\u001b[1;32m      4\u001b[0m         \u001b[0mprint\u001b[0m\u001b[0;34m(\u001b[0m\u001b[0mstuff\u001b[0m\u001b[0;34m)\u001b[0m\u001b[0;34m\u001b[0m\u001b[0;34m\u001b[0m\u001b[0m\n",
      "\u001b[0;32m~/anaconda3/lib/python3.8/re.py\u001b[0m in \u001b[0;36msplit\u001b[0;34m(pattern, string, maxsplit, flags)\u001b[0m\n\u001b[1;32m    229\u001b[0m     \u001b[0;32mand\u001b[0m \u001b[0mthe\u001b[0m \u001b[0mremainder\u001b[0m \u001b[0mof\u001b[0m \u001b[0mthe\u001b[0m \u001b[0mstring\u001b[0m \u001b[0;32mis\u001b[0m \u001b[0mreturned\u001b[0m \u001b[0;32mas\u001b[0m \u001b[0mthe\u001b[0m \u001b[0mfinal\u001b[0m \u001b[0melement\u001b[0m\u001b[0;34m\u001b[0m\u001b[0;34m\u001b[0m\u001b[0m\n\u001b[1;32m    230\u001b[0m     of the list.\"\"\"\n\u001b[0;32m--> 231\u001b[0;31m     \u001b[0;32mreturn\u001b[0m \u001b[0m_compile\u001b[0m\u001b[0;34m(\u001b[0m\u001b[0mpattern\u001b[0m\u001b[0;34m,\u001b[0m \u001b[0mflags\u001b[0m\u001b[0;34m)\u001b[0m\u001b[0;34m.\u001b[0m\u001b[0msplit\u001b[0m\u001b[0;34m(\u001b[0m\u001b[0mstring\u001b[0m\u001b[0;34m,\u001b[0m \u001b[0mmaxsplit\u001b[0m\u001b[0;34m)\u001b[0m\u001b[0;34m\u001b[0m\u001b[0;34m\u001b[0m\u001b[0m\n\u001b[0m\u001b[1;32m    232\u001b[0m \u001b[0;34m\u001b[0m\u001b[0m\n\u001b[1;32m    233\u001b[0m \u001b[0;32mdef\u001b[0m \u001b[0mfindall\u001b[0m\u001b[0;34m(\u001b[0m\u001b[0mpattern\u001b[0m\u001b[0;34m,\u001b[0m \u001b[0mstring\u001b[0m\u001b[0;34m,\u001b[0m \u001b[0mflags\u001b[0m\u001b[0;34m=\u001b[0m\u001b[0;36m0\u001b[0m\u001b[0;34m)\u001b[0m\u001b[0;34m:\u001b[0m\u001b[0;34m\u001b[0m\u001b[0;34m\u001b[0m\u001b[0m\n",
      "\u001b[0;31mTypeError\u001b[0m: expected string or bytes-like object"
     ]
    }
   ],
   "source": [
    "sentences = re.split(r'.', text)\n",
    "\n",
    "for stuff in sentences:\n",
    "        print(stuff)  "
   ]
  },
  {
   "cell_type": "code",
   "execution_count": null,
   "id": "1d066451",
   "metadata": {},
   "outputs": [],
   "source": [
    "import pandas as pd\n",
    "from sklearn.feature_extraction.text import CountVectorizer\n",
    "\n",
    "count_vectorizer = CountVectorizer(min_df=2, max_df=0.5, ngram_range = (1,2))\n",
    "features = count_vectorizer.fit_transform(text)\n",
    "\n",
    "pd.DataFrame(\n",
    "    features.todense(),\n",
    "    columns = count_vectorizer.get_feature_names()\n",
    ")"
   ]
  },
  {
   "cell_type": "code",
   "execution_count": null,
   "id": "61afbea9",
   "metadata": {},
   "outputs": [],
   "source": []
  },
  {
   "cell_type": "code",
   "execution_count": null,
   "id": "e026ed97",
   "metadata": {},
   "outputs": [],
   "source": []
  },
  {
   "cell_type": "code",
   "execution_count": null,
   "id": "af62ab2c",
   "metadata": {},
   "outputs": [],
   "source": []
  },
  {
   "cell_type": "code",
   "execution_count": null,
   "id": "27e19972",
   "metadata": {},
   "outputs": [],
   "source": []
  },
  {
   "cell_type": "code",
   "execution_count": null,
   "id": "82d85f50",
   "metadata": {},
   "outputs": [],
   "source": []
  },
  {
   "cell_type": "code",
   "execution_count": null,
   "id": "58ff268e",
   "metadata": {},
   "outputs": [],
   "source": []
  },
  {
   "cell_type": "code",
   "execution_count": null,
   "id": "10b17609",
   "metadata": {},
   "outputs": [],
   "source": []
  },
  {
   "cell_type": "code",
   "execution_count": null,
   "id": "09d5d0df",
   "metadata": {},
   "outputs": [],
   "source": []
  },
  {
   "cell_type": "code",
   "execution_count": null,
   "id": "2a95aaa2",
   "metadata": {},
   "outputs": [],
   "source": []
  },
  {
   "cell_type": "code",
   "execution_count": null,
   "id": "970811bd",
   "metadata": {},
   "outputs": [],
   "source": []
  },
  {
   "cell_type": "code",
   "execution_count": null,
   "id": "255f3b79",
   "metadata": {},
   "outputs": [],
   "source": []
  },
  {
   "cell_type": "code",
   "execution_count": null,
   "id": "10e398c7",
   "metadata": {},
   "outputs": [],
   "source": []
  },
  {
   "cell_type": "code",
   "execution_count": null,
   "id": "7b2450f7",
   "metadata": {},
   "outputs": [],
   "source": []
  },
  {
   "cell_type": "code",
   "execution_count": null,
   "id": "5342522b",
   "metadata": {},
   "outputs": [],
   "source": []
  },
  {
   "cell_type": "code",
   "execution_count": null,
   "id": "c0680281",
   "metadata": {},
   "outputs": [],
   "source": []
  },
  {
   "cell_type": "code",
   "execution_count": null,
   "id": "30b61242",
   "metadata": {},
   "outputs": [],
   "source": []
  },
  {
   "cell_type": "code",
   "execution_count": null,
   "id": "6b1ce443",
   "metadata": {},
   "outputs": [],
   "source": []
  },
  {
   "cell_type": "code",
   "execution_count": null,
   "id": "e58319a5",
   "metadata": {},
   "outputs": [],
   "source": []
  },
  {
   "cell_type": "code",
   "execution_count": null,
   "id": "23c01070",
   "metadata": {},
   "outputs": [],
   "source": []
  },
  {
   "cell_type": "code",
   "execution_count": null,
   "id": "69c96a80",
   "metadata": {},
   "outputs": [],
   "source": []
  },
  {
   "cell_type": "code",
   "execution_count": null,
   "id": "486b17f5",
   "metadata": {},
   "outputs": [],
   "source": []
  },
  {
   "cell_type": "code",
   "execution_count": null,
   "id": "af7c60ea",
   "metadata": {},
   "outputs": [],
   "source": []
  },
  {
   "cell_type": "code",
   "execution_count": null,
   "id": "9a630ffa",
   "metadata": {},
   "outputs": [],
   "source": []
  },
  {
   "cell_type": "code",
   "execution_count": null,
   "id": "43782608",
   "metadata": {},
   "outputs": [],
   "source": []
  },
  {
   "cell_type": "code",
   "execution_count": null,
   "id": "9c17d77b",
   "metadata": {},
   "outputs": [],
   "source": []
  },
  {
   "cell_type": "code",
   "execution_count": null,
   "id": "dc44c0c8",
   "metadata": {},
   "outputs": [],
   "source": []
  }
 ],
 "metadata": {
  "kernelspec": {
   "display_name": "Python 3",
   "language": "python",
   "name": "python3"
  },
  "language_info": {
   "codemirror_mode": {
    "name": "ipython",
    "version": 3
   },
   "file_extension": ".py",
   "mimetype": "text/x-python",
   "name": "python",
   "nbconvert_exporter": "python",
   "pygments_lexer": "ipython3",
   "version": "3.8.8"
  }
 },
 "nbformat": 4,
 "nbformat_minor": 5
}
