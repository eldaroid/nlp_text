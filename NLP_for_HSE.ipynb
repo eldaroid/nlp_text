{
 "cells": [
  {
   "cell_type": "markdown",
   "id": "9b4c6e55",
   "metadata": {},
   "source": [
    "# Что такое Natural Language Processing?"
   ]
  },
  {
   "cell_type": "markdown",
   "id": "3ddd5ca9",
   "metadata": {},
   "source": [
    "Natural Language Processing (далее – NLP) – обработка естественного языка"
   ]
  },
  {
   "cell_type": "markdown",
   "id": "caa26f95",
   "metadata": {},
   "source": [
    "NLP позволяет применять алгоритмы машинного обучения для текста и речи."
   ]
  },
  {
   "cell_type": "markdown",
   "id": "0c704407",
   "metadata": {},
   "source": [
    "###\n",
    "Например, мы можем использовать NLP, чтобы создавать системы вроде распознавания речи, обобщения документов, машинного перевода, выявления спама, распознавания именованных сущностей, ответов на вопросы, автокомплита, предиктивного ввода текста и т.д."
   ]
  },
  {
   "cell_type": "markdown",
   "id": "65cea469",
   "metadata": {},
   "source": [
    "Сегодня у многих из нас есть смартфоны с распознаванием речи – в них используется NLP для того, чтобы понимать нашу речь. Также многие люди используют ноутбуки со встроенным в ОС распознаванием речи."
   ]
  },
  {
   "cell_type": "markdown",
   "id": "b09bf208",
   "metadata": {},
   "source": [
    "Примеры:"
   ]
  },
  {
   "cell_type": "markdown",
   "id": "46f617c7",
   "metadata": {},
   "source": [
    "**Siri:**"
   ]
  },
  {
   "cell_type": "markdown",
   "id": "5bade97c",
   "metadata": {},
   "source": [
    "<img src=\"https://tehnot.com/wp-content/uploads/2015/09/IMG_06731.jpg\" alt=\"alt text\" width=\"550\" height=\"20\">"
   ]
  },
  {
   "cell_type": "markdown",
   "id": "488d824c",
   "metadata": {},
   "source": [
    "**Cortana:**"
   ]
  },
  {
   "cell_type": "markdown",
   "id": "c1fb4d80",
   "metadata": {},
   "source": [
    "<img src=\"https://www.techadvisor.com/cmsdata/slideshow/3633483/disable_cortana_thumb800.png\" alt=\"alt text\" width=\"550\" height=\"20\">"
   ]
  },
  {
   "cell_type": "markdown",
   "id": "d7dd75fc",
   "metadata": {},
   "source": [
    "**Gmail:**"
   ]
  },
  {
   "cell_type": "markdown",
   "id": "9ef5aef0",
   "metadata": {},
   "source": [
    "<img src=\"https://habrastorage.org/webt/ec/rw/ii/ecrwii6nml6c6uvxn8vensihku0.gif\" alt=\"alt text\" width=\"550\" height=\"20\">"
   ]
  },
  {
   "cell_type": "markdown",
   "id": "bf40f747",
   "metadata": {},
   "source": [
    "# Python-библиотека NLTK"
   ]
  },
  {
   "cell_type": "markdown",
   "id": "4fe872be",
   "metadata": {},
   "source": [
    "NLP-библиотеки для питона:\n",
    "* Natural Language Toolkit (NLTK)\n",
    "* Apache OpenNLP\n",
    "* Stanford NLP suite\n",
    "* Gate NLP library\n",
    "* Spacy\n",
    "* Yargy\n",
    "* DeepPavlov\n",
    "* CLTK (для древних языков)\n",
    "* и т.д.\n",
    "\n",
    "Cамый популярный инструмент для создания NLP-программ на Python — NLTK(Natural Language Toolkit). \n",
    "\n",
    "В NLTK есть не только различные инструменты для обработки текста, но и данные — текстовые корпуса, предобученные модели для анализа тональности и морфологической разметки, списки стоп-слов для разных языков и т.п."
   ]
  },
  {
   "cell_type": "code",
   "execution_count": 1,
   "id": "fd1719af",
   "metadata": {},
   "outputs": [],
   "source": [
    "import nltk\n",
    "# nltk.download()"
   ]
  },
  {
   "cell_type": "markdown",
   "id": "0273d209",
   "metadata": {},
   "source": [
    "# Загрузка и отображение данных\n"
   ]
  },
  {
   "cell_type": "code",
   "execution_count": 2,
   "id": "a5da0a49",
   "metadata": {},
   "outputs": [],
   "source": [
    "import urllib"
   ]
  },
  {
   "cell_type": "code",
   "execution_count": 3,
   "id": "22ba2e69",
   "metadata": {},
   "outputs": [],
   "source": [
    "url = \"http://textfiles.com/science/blackhol.txt\"\n",
    "file = urllib.request.urlopen(url)\n",
    "text = open(\"text.txt\",\"w\")"
   ]
  },
  {
   "cell_type": "code",
   "execution_count": 4,
   "id": "7ca50ae5",
   "metadata": {},
   "outputs": [],
   "source": [
    "for line in file:\n",
    "    decoded_line = line.decode(\"utf-8\")\n",
    "    text.write(str(decoded_line))"
   ]
  },
  {
   "cell_type": "code",
   "execution_count": 5,
   "id": "d6e753aa",
   "metadata": {},
   "outputs": [],
   "source": [
    "# массив предложений"
   ]
  },
  {
   "cell_type": "code",
   "execution_count": 6,
   "id": "46a044a5",
   "metadata": {},
   "outputs": [
    {
     "name": "stdout",
     "output_type": "stream",
     "text": [
      "                           Combat Arms\n",
      "                         2869 Grove Way\n",
      "              Castro Valley, California 94546-6709\n",
      "                    Telephone (415) 538-6544\n",
      "\n",
      "\n",
      "     The following material was downloaded from the NASA SpaceLink\n",
      "BBS at the National Aeronautics and Space Administration, George C.\n",
      "Marshall Space Flight Center, Marshall Space Flight Center, Alabama\n",
      "35812 on 11/16/88.\n",
      "\n",
      "\n",
      "\n",
      "B L A C K    H O L E S    I N    S P A C E\n",
      "-------------------------------------------------------------\n",
      " \n",
      "     There is much more to black holes than meets the eye.  In fact,\n",
      "your eyes, even with the aid of the most advanced telescope, will\n",
      "never see a black hole in space.  The reason is that the matter\n",
      "within a black hole is so dense and has so great a gravitational pull\n",
      "that it prevents even light from escaping.\n",
      " \n",
      "     Like other electromagnetic radiation (radio waves, infrared\n",
      "rays, ultraviolet radiation, X-rays, and gamma radiation), light is\n",
      "the fastest traveler in the Universe.  It moves at nearly 300,000\n",
      "kilometers (about 186,000 miles) per second.  At such a speed, you\n",
      "could circle the Earth seven times between heartbeats.\n",
      " \n",
      "     If light can't escape a black hole, it follows that nothing else\n",
      "can.  Consequently, there is no direct way to detect a black hole.\n",
      " \n",
      "     In fact, the principal evidence of the existence of black holes\n",
      "comes not from observation but from solutions to complex equations\n",
      "based on Einstein's Theory of General Relativity.  Among other\n",
      "things, the calculations indicate that black holes may occur in a\n",
      "variety of sizes and be more abundant than most of us realize.\n",
      " \n",
      " \n",
      "MINI BLACK HOLES\n",
      " \n",
      "     Some black holes are theorized to be nearly as old as the Big\n",
      "Bang, which is hypothesized to have started our Universe 10 to 20\n",
      "billion years ago.  The rapid early expansion of some parts of the\n",
      "dense hot matter in this nascent Universe is said to have so\n",
      "compressed less rapidly moving parts that the latter became\n",
      "superdense and collapsed further, forming black holes.  Among the\n",
      "holes so created may be the submicroscopic mini-black holes.\n",
      " \n",
      "     A mini-black hole may be as small as an atomic particle but\n",
      "contain as much mass (material) as Mount Everest.  Never\n",
      "underestimate the power of a mini-black hole.  If some event caused\n",
      "it to decompress, it would be as if millions of hydrogen bombs were\n",
      "simultaneously detonated.\n",
      " \n",
      " \n",
      "HOW STARS DIE\n",
      " \n",
      "     The most widespread support is given to the theory that a black\n",
      "hole is the natural end product of a giant star's death.  According\n",
      "to this theory, a star like our Sun and others we see in the sky\n",
      "lives as long as thermal energy and radiation from nuclear reactions\n",
      "in its core provide sufficient outward pressure to counteract the\n",
      "inward pressure of gravity caused by the star's own great mass.\n",
      " \n",
      "     When the star exhausts its nuclear fuels, it succumbs to the\n",
      "forces of its own gravity and literally collapses inward.  According\n",
      "to equations derived from quantum mechanics and Einstein's Theory of\n",
      "General Relativity, the star's remaining mass determines whether it\n",
      "becomes a white dwarf, a neutron star, or black hole.\n",
      " \n",
      " \n",
      "WHITE DWARFS\n",
      " \n",
      "     Stars are usually measured in comparison with our Sun's mass.  A\n",
      "star whose remaining mass is about that of our Sun condenses to\n",
      "approximately the size of Earth.  The star's contraction is halted by\n",
      "the collective resistance of electrons pressed against each other and\n",
      "their atomic nuclei.  Matter in this collapsed star is so tightly\n",
      "packed that a piece the size of a sugar cube would weigh thousands of\n",
      "kilograms.  Gravitational contraction would also have made the star\n",
      "white hot.  It is appropriately called a white dwarf.\n",
      " \n",
      "     Astronomers have detected white dwarfs in space.  The first\n",
      "discovery was a planet-sized object that seemed to exert a\n",
      "disproportionately high gravitational effect upon a celestial\n",
      "companion, the so call dog star Sirius, which is about 2.28 times our\n",
      "Sun's mass.  It appeared that this planet-sized object would have to\n",
      "be about as massive as our Sun to affect Sirius as it did.  Moreover,\n",
      "spectral analysis indicated the star's color was white.\n",
      " \n",
      "     Based upon these and other studies, astronomers concluded that\n",
      "they had found a white dwarf.  However, it took many years after the\n",
      "discovery in 1914 before most scientists accepted the fact that an\n",
      "object thousands of times denser than anything possible on Earth\n",
      "could exist.\n",
      " \n",
      " \n",
      "NEUTRON STARS AND SUPERNOVAS\n",
      " \n",
      "     Giant stars usually lose most of their mass during their normal\n",
      "lifetimes.  If such a star still retains 1 1/2 to 3 solar masses\n",
      "after exhaustion of its nuclear fuels, it would collapse to even\n",
      "greater density and smaller size than the white dwarf.  The reason is\n",
      "that there is a limit on the amount of compression electrons can\n",
      "resist in the presence of atomic nuclei.\n",
      " \n",
      "     In this instance, the limit is breached.  Electrons are\n",
      "literally driven into atomic nuclei, mating with protons to form\n",
      "neutrons and thus transmuting nuclei into neutrons.  The resulting\n",
      "object is aptly called a neutron star.  It may be only a few\n",
      "kilometers in diameter.  A sugar-cube size piece of this star would\n",
      "weigh about one-half a trillion kilograms.\n",
      " \n",
      "     Sometimes, as electrons are driven into protons in atomic\n",
      "nuclei, neutrinos are blown outward so forcefully that they blast off\n",
      "the star's outer layer.  This creates a supernova that may\n",
      "temporarily outshine all of the other stars in a galaxy.\n",
      " \n",
      "     The most prominent object believed to be a neutron star is the\n",
      "Crab Nebula, the remnant of a supernova observed and reported by\n",
      "Chinese astronomers in 1504.  A star-like object in the nebula\n",
      "blinks, or pulses, about 30 times per second in visible light, radio\n",
      "waves, and X and gamma rays.  The radio pulses are believed to result\n",
      "from interaction between a point on the spinning star and the star's\n",
      "magnetic field.  As the star rotates, this point is theorized\n",
      "alternately to face and be turned away from Earth.  The fast rotation\n",
      "rate implied by the interval between pulses indicates the star is no\n",
      "more than a few kilometers in diameter because if it were larger, it\n",
      "would be torn apart by centrifugal force.\n",
      " \n",
      " \n",
      "PULSARS\n",
      " \n",
      "     Radio telescopes have detected a large number of other objects\n",
      "which send out naturally pulsed radio signals.  They were named\n",
      "pulsars.  Like the object in the Crab Nebula, they are presumed to be\n",
      "rotating neutron stars.\n",
      " \n",
      "     Of these pulsars, only the Vela pulsar--which gets its name\n",
      "because of its location in the Vela (Sails) constellation--pulses at\n",
      "wavelengths shorter than radio.  Like the Crab pulsar, the Vela\n",
      "pulsar also pulses at optical and gamma ray wavelengths.  However,\n",
      "unlike the Crab pulsar, it is not an X-ray pulsar.  Aside from the\n",
      "mystery generated by these differences, scientists also debate the\n",
      "reasons for the pulses at gamma, X-ray and optical frequencies.  As\n",
      "noted earlier, they agree on the origin of the radio pulses.\n",
      " \n",
      " \n",
      "BLACK HOLES\n",
      " \n",
      "     When a star has three or more solar masses left after it\n",
      "exhausts its nuclear fuels, it can become a black hole.\n",
      " \n",
      "     Like the white dwarf and neutron star, this star's density and\n",
      "gravity increase with contraction.  Consequently, the star's\n",
      "gravitational escape velocity (speed needed to escape from the star)\n",
      "increases.  When the star has shrunk to the Schwarzschild radius,\n",
      "named for the man who first calculated it, its gravitational escape\n",
      "velocity would be nearly 300,000 kilometers per second, which is\n",
      "equal to the speed of light.  Consequently, light could never leave\n",
      "the star.\n",
      " \n",
      "     Reduction of a giant star to the Schwarzschild radius represents\n",
      "an incredible compression of mass and decrease in size.  As an\n",
      "example, mathematicians calculate that for a star of 10 solar masses\n",
      "(ten times the mass of our Sun) after exhaustion of its nuclear\n",
      "fuels, the Schwarzschild radius is about 30 kilometers.\n",
      "\n",
      "---------------------------------------------------------------------\n",
      "     According to the Law of General Relativity, space and time are\n",
      "warped, or curved, by gravity.  Time is theorized TO POINT INTO THE\n",
      "\n"
     ]
    }
   ],
   "source": [
    "f = open('text.txt', \"r\")\n",
    "default_text = f.read()\n",
    "print(default_text)"
   ]
  },
  {
   "cell_type": "code",
   "execution_count": 7,
   "id": "7bf1922d",
   "metadata": {},
   "outputs": [
    {
     "data": {
      "text/plain": [
       "8067"
      ]
     },
     "execution_count": 7,
     "metadata": {},
     "output_type": "execute_result"
    }
   ],
   "source": [
    "len(default_text)"
   ]
  },
  {
   "cell_type": "code",
   "execution_count": 8,
   "id": "8f0183a0",
   "metadata": {},
   "outputs": [
    {
     "data": {
      "text/plain": [
       "'                           Combat Arms\\n                         2869 Grove Way\\n              Castro Valley, California 94546-6709\\n                    Telephone (415) 538-6544\\n\\n\\n     The following material was downloaded from the NASA SpaceLink\\nBBS at the National Aeronautics and Space Administration'"
      ]
     },
     "execution_count": 8,
     "metadata": {},
     "output_type": "execute_result"
    }
   ],
   "source": [
    "default_text[:300]"
   ]
  },
  {
   "cell_type": "markdown",
   "id": "4e289ef1",
   "metadata": {},
   "source": [
    "###\n",
    "здесь мы видим экранированные управляющие символы, от них нужно будет избавиться"
   ]
  },
  {
   "cell_type": "markdown",
   "id": "67125b82",
   "metadata": {},
   "source": [
    "## Специальные символы \n",
    "\n",
    "\n",
    "|символ|описание|\n",
    "|------|--------|\n",
    "|. | один любой символ, кроме новой строки \\n |\n",
    "|? | 0 или 1 вхождение шаблона слева |\n",
    "|+ | 1 и более вхождений шаблона слева|\n",
    "|* | 0 и более вхождений шаблона слева|\n",
    "|\\w| любая цифра или буква |\n",
    "|\\W| всё, кроме цифры или буквы|\n",
    "|\\d| любая цифра|\n",
    "|\\D| всё, кроме цифры|\n",
    "|\\s| любой пробельный символ|\n",
    "|\\S| любой непроблеьный символ|\n",
    "|\\b| граница слова|\n",
    "|[..]| Один из символов в скобках|\n",
    "|[^..] | Любой символ, кроме тех что в скобках|\n",
    "|\\ | Экранирование специальных символов (точки плюсы и тп)|\n",
    "|^и$| Начало и конец строки соответственно |\n",
    "|{n,m}| От n до m вхождений |\n",
    "|{,m} | От 0 до m вхождений |\n",
    "| a \\| b | Соответствует a или b |\n",
    "| (  ) | Группирует выражение и возвращает найденный текст| \n",
    "| \\t \\n \\r | табуляция, новая строка, возврат каретки | \n",
    "\n"
   ]
  },
  {
   "cell_type": "markdown",
   "id": "0b34b366",
   "metadata": {},
   "source": [
    "Выдержка из [документации Python](https://docs.python.org/3/library/re.html?highlight=regex):\n",
    "\n",
    "> Регулярные выражение используют обратный слеш (\\) для обозначения специальных форм или чтобы разрешить использование спецсимволов. Это противоречит использованию обратного слеша в Python: например, чтобы буквально обозначить обратный слеш, необходимо написать '\\\\\\\\' в качестве шаблона для поиска, потому что регулярное выражение должно выглядеть как \\\\, где каждый обратный слеш должен быть экранирован.\n",
    "\n",
    "> Решение – использовать нотацию raw string для шаблонов поиска; обратные слеши не будут особым образом обрабатываться, если использованы с префиксом ‘r’. Таким образом, r”\\n” – это строка с двумя символами (‘\\’ и ‘n’), а “\\n” – строка с одним символом (перевод строки)."
   ]
  },
  {
   "cell_type": "markdown",
   "id": "f1372872",
   "metadata": {},
   "source": [
    "# Предварительная обработка (препроцессинг) текста\n",
    "Для проведения частотного анализа и определения тематики текста рекомендуется выполнить очистку текста от знаков пунктуации, лишних пробельных символов и цифр. Сделать это можно различными способами – с помощью встроенных функций работы со строками, с помощью регулярных выражений, с помощью операций обработки списков или другими способами."
   ]
  },
  {
   "cell_type": "code",
   "execution_count": 9,
   "id": "c8017722",
   "metadata": {},
   "outputs": [],
   "source": [
    "# перевод в единый регистр (например, нижний)\n",
    "text = default_text.lower()"
   ]
  },
  {
   "cell_type": "code",
   "execution_count": 10,
   "id": "96392d97",
   "metadata": {},
   "outputs": [],
   "source": [
    "import string"
   ]
  },
  {
   "cell_type": "code",
   "execution_count": 11,
   "id": "6b5671d8",
   "metadata": {},
   "outputs": [
    {
     "name": "stdout",
     "output_type": "stream",
     "text": [
      "!\"#$%&'()*+,-./:;<=>?@[\\]^_`{|}~\n"
     ]
    }
   ],
   "source": [
    "string.punctuation = string.punctuation\n",
    "print(string.punctuation)"
   ]
  },
  {
   "cell_type": "code",
   "execution_count": 12,
   "id": "72665881",
   "metadata": {},
   "outputs": [
    {
     "data": {
      "text/plain": [
       "str"
      ]
     },
     "execution_count": 12,
     "metadata": {},
     "output_type": "execute_result"
    }
   ],
   "source": [
    "type(string.punctuation)"
   ]
  },
  {
   "cell_type": "code",
   "execution_count": 13,
   "id": "314d419a",
   "metadata": {},
   "outputs": [],
   "source": [
    "# spec_chars = string.punctuation + '\\xa0«»\\t—…'\n",
    "spec_chars = '\\xa0«»\\t—…!\"#$%&\\'()*+,-/:;<=>?@[\\\\]^_`{|}~'"
   ]
  },
  {
   "cell_type": "code",
   "execution_count": 14,
   "id": "30697930",
   "metadata": {},
   "outputs": [
    {
     "name": "stdout",
     "output_type": "stream",
     "text": [
      "CPU times: user 776 µs, sys: 24 µs, total: 800 µs\n",
      "Wall time: 805 µs\n"
     ]
    }
   ],
   "source": [
    "%%time\n",
    "text = \"\".join([ch for ch in text if ch not in spec_chars])"
   ]
  },
  {
   "cell_type": "code",
   "execution_count": 15,
   "id": "16e1e6cf",
   "metadata": {},
   "outputs": [],
   "source": [
    "import re\n",
    "text = re.sub('\\n', ' ', text)"
   ]
  },
  {
   "cell_type": "code",
   "execution_count": 16,
   "id": "233b5104",
   "metadata": {},
   "outputs": [],
   "source": [
    "# print(text)"
   ]
  },
  {
   "cell_type": "markdown",
   "id": "04df44b9",
   "metadata": {},
   "source": [
    "####\n",
    "2й способ"
   ]
  },
  {
   "cell_type": "code",
   "execution_count": 17,
   "id": "ff08c82c",
   "metadata": {},
   "outputs": [],
   "source": [
    "def remove_chars_from_text(text, chars):\n",
    "    return \"\".join([ch for ch in text if ch not in chars])"
   ]
  },
  {
   "cell_type": "code",
   "execution_count": 18,
   "id": "d7bb128b",
   "metadata": {},
   "outputs": [
    {
     "name": "stdout",
     "output_type": "stream",
     "text": [
      "CPU times: user 1.21 ms, sys: 49 µs, total: 1.26 ms\n",
      "Wall time: 1.28 ms\n"
     ]
    }
   ],
   "source": [
    "%%time\n",
    "text = remove_chars_from_text(text, spec_chars)"
   ]
  },
  {
   "cell_type": "code",
   "execution_count": 19,
   "id": "97dcdcd9",
   "metadata": {},
   "outputs": [
    {
     "name": "stdout",
     "output_type": "stream",
     "text": [
      "                           combat arms                          2869 grove way               castro valley california 945466709                     telephone 415 5386544        the following material was downloaded from the nasa spacelink bbs at the national aeronautics and space administration george c. marshall space flight center marshall space flight center alabama 35812 on 111688.    b l a c k    h o l e s    i n    s p a c e         there is much more to black holes than meets the eye.  in fact your eyes even with the aid of the most advanced telescope will never see a black hole in space.  the reason is that the matter within a black hole is so dense and has so great a gravitational pull that it prevents even light from escaping.        like other electromagnetic radiation radio waves infrared rays ultraviolet radiation xrays and gamma radiation light is the fastest traveler in the universe.  it moves at nearly 300000 kilometers about 186000 miles per second.  at such a speed you could circle the earth seven times between heartbeats.        if light cant escape a black hole it follows that nothing else can.  consequently there is no direct way to detect a black hole.        in fact the principal evidence of the existence of black holes comes not from observation but from solutions to complex equations based on einsteins theory of general relativity.  among other things the calculations indicate that black holes may occur in a variety of sizes and be more abundant than most of us realize.     mini black holes        some black holes are theorized to be nearly as old as the big bang which is hypothesized to have started our universe 10 to 20 billion years ago.  the rapid early expansion of some parts of the dense hot matter in this nascent universe is said to have so compressed less rapidly moving parts that the latter became superdense and collapsed further forming black holes.  among the holes so created may be the submicroscopic miniblack holes.        a miniblack hole may be as small as an atomic particle but contain as much mass material as mount everest.  never underestimate the power of a miniblack hole.  if some event caused it to decompress it would be as if millions of hydrogen bombs were simultaneously detonated.     how stars die        the most widespread support is given to the theory that a black hole is the natural end product of a giant stars death.  according to this theory a star like our sun and others we see in the sky lives as long as thermal energy and radiation from nuclear reactions in its core provide sufficient outward pressure to counteract the inward pressure of gravity caused by the stars own great mass.        when the star exhausts its nuclear fuels it succumbs to the forces of its own gravity and literally collapses inward.  according to equations derived from quantum mechanics and einsteins theory of general relativity the stars remaining mass determines whether it becomes a white dwarf a neutron star or black hole.     white dwarfs        stars are usually measured in comparison with our suns mass.  a star whose remaining mass is about that of our sun condenses to approximately the size of earth.  the stars contraction is halted by the collective resistance of electrons pressed against each other and their atomic nuclei.  matter in this collapsed star is so tightly packed that a piece the size of a sugar cube would weigh thousands of kilograms.  gravitational contraction would also have made the star white hot.  it is appropriately called a white dwarf.        astronomers have detected white dwarfs in space.  the first discovery was a planetsized object that seemed to exert a disproportionately high gravitational effect upon a celestial companion the so call dog star sirius which is about 2.28 times our suns mass.  it appeared that this planetsized object would have to be about as massive as our sun to affect sirius as it did.  moreover spectral analysis indicated the stars color was white.        based upon these and other studies astronomers concluded that they had found a white dwarf.  however it took many years after the discovery in 1914 before most scientists accepted the fact that an object thousands of times denser than anything possible on earth could exist.     neutron stars and supernovas        giant stars usually lose most of their mass during their normal lifetimes.  if such a star still retains 1 12 to 3 solar masses after exhaustion of its nuclear fuels it would collapse to even greater density and smaller size than the white dwarf.  the reason is that there is a limit on the amount of compression electrons can resist in the presence of atomic nuclei.        in this instance the limit is breached.  electrons are literally driven into atomic nuclei mating with protons to form neutrons and thus transmuting nuclei into neutrons.  the resulting object is aptly called a neutron star.  it may be only a few kilometers in diameter.  a sugarcube size piece of this star would weigh about onehalf a trillion kilograms.        sometimes as electrons are driven into protons in atomic nuclei neutrinos are blown outward so forcefully that they blast off the stars outer layer.  this creates a supernova that may temporarily outshine all of the other stars in a galaxy.        the most prominent object believed to be a neutron star is the crab nebula the remnant of a supernova observed and reported by chinese astronomers in 1504.  a starlike object in the nebula blinks or pulses about 30 times per second in visible light radio waves and x and gamma rays.  the radio pulses are believed to result from interaction between a point on the spinning star and the stars magnetic field.  as the star rotates this point is theorized alternately to face and be turned away from earth.  the fast rotation rate implied by the interval between pulses indicates the star is no more than a few kilometers in diameter because if it were larger it would be torn apart by centrifugal force.     pulsars        radio telescopes have detected a large number of other objects which send out naturally pulsed radio signals.  they were named pulsars.  like the object in the crab nebula they are presumed to be rotating neutron stars.        of these pulsars only the vela pulsarwhich gets its name because of its location in the vela sails constellationpulses at wavelengths shorter than radio.  like the crab pulsar the vela pulsar also pulses at optical and gamma ray wavelengths.  however unlike the crab pulsar it is not an xray pulsar.  aside from the mystery generated by these differences scientists also debate the reasons for the pulses at gamma xray and optical frequencies.  as noted earlier they agree on the origin of the radio pulses.     black holes        when a star has three or more solar masses left after it exhausts its nuclear fuels it can become a black hole.        like the white dwarf and neutron star this stars density and gravity increase with contraction.  consequently the stars gravitational escape velocity speed needed to escape from the star increases.  when the star has shrunk to the schwarzschild radius named for the man who first calculated it its gravitational escape velocity would be nearly 300000 kilometers per second which is equal to the speed of light.  consequently light could never leave the star.        reduction of a giant star to the schwarzschild radius represents an incredible compression of mass and decrease in size.  as an example mathematicians calculate that for a star of 10 solar masses ten times the mass of our sun after exhaustion of its nuclear fuels the schwarzschild radius is about 30 kilometers.        according to the law of general relativity space and time are warped or curved by gravity.  time is theorized to point into the \n"
     ]
    }
   ],
   "source": [
    "print(text)"
   ]
  },
  {
   "cell_type": "code",
   "execution_count": 20,
   "id": "4cb4b0af",
   "metadata": {},
   "outputs": [
    {
     "name": "stdout",
     "output_type": "stream",
     "text": [
      "CPU times: user 568 µs, sys: 40 µs, total: 608 µs\n",
      "Wall time: 619 µs\n"
     ]
    }
   ],
   "source": [
    "%%time\n",
    "text = remove_chars_from_text(text, string.digits)"
   ]
  },
  {
   "cell_type": "code",
   "execution_count": 21,
   "id": "cdda0243",
   "metadata": {},
   "outputs": [],
   "source": [
    "# print(text)"
   ]
  },
  {
   "cell_type": "markdown",
   "id": "61b8abfc",
   "metadata": {},
   "source": [
    "# Токенизация текста\n",
    "\n",
    "Токенизация — один из первых шагов при обработке текста.\n",
    "\n",
    "Токенизация или сегментация – это процесс разделения текста на компоненты.\n",
    "\n",
    "[Примеры токенизации](https://www.nltk.org/api/nltk.tokenize)"
   ]
  },
  {
   "cell_type": "markdown",
   "id": "2f992ec1",
   "metadata": {},
   "source": [
    "###\n",
    "в английском составные существительные пишутся по-разному и иногда через пробел. Тут нам поможет библиотека: `nltk.word_tokenize`\n",
    "Но, в нашем случае разделение должно происходить по пробелам, поскольку в дальнейшем нам понадобятся точки для выделения предложений на этапе векторизации"
   ]
  },
  {
   "cell_type": "code",
   "execution_count": 22,
   "id": "f9ce4ce6",
   "metadata": {},
   "outputs": [],
   "source": [
    "# токенайзер по пробелам (банально, да)\n",
    "from nltk.tokenize import WhitespaceTokenizer\n",
    "text = text.replace(\".\", \" .\")"
   ]
  },
  {
   "cell_type": "code",
   "execution_count": 23,
   "id": "fb0ed4ea",
   "metadata": {},
   "outputs": [],
   "source": [
    "tokenizer = WhitespaceTokenizer()\n",
    "text = tokenizer.tokenize(text)\n",
    "# text = nltk.word_tokenize(text)"
   ]
  },
  {
   "cell_type": "code",
   "execution_count": 24,
   "id": "3d8a94e1",
   "metadata": {},
   "outputs": [],
   "source": [
    "text = list(filter(lambda x: x if (len(x)>1 or x == '.') else None, text))"
   ]
  },
  {
   "cell_type": "code",
   "execution_count": 25,
   "id": "97447698",
   "metadata": {},
   "outputs": [
    {
     "name": "stdout",
     "output_type": "stream",
     "text": [
      "['combat', 'arms', 'grove', 'way', 'castro', 'valley', 'california', 'telephone', 'the', 'following', 'material', 'was', 'downloaded', 'from', 'the', 'nasa', 'spacelink', 'bbs', 'at', 'the', 'national', 'aeronautics', 'and', 'space', 'administration', 'george', '.', 'marshall', 'space', 'flight', 'center', 'marshall', 'space', 'flight', 'center', 'alabama', 'on', '.', 'there', 'is', 'much', 'more', 'to', 'black', 'holes', 'than', 'meets', 'the', 'eye', '.', 'in', 'fact', 'your', 'eyes', 'even', 'with', 'the', 'aid', 'of', 'the', 'most', 'advanced', 'telescope', 'will', 'never', 'see', 'black', 'hole', 'in', 'space', '.', 'the', 'reason', 'is', 'that', 'the', 'matter', 'within', 'black', 'hole', 'is', 'so', 'dense', 'and', 'has', 'so', 'great', 'gravitational', 'pull', 'that', 'it', 'prevents', 'even', 'light', 'from', 'escaping', '.', 'like', 'other', 'electromagnetic', 'radiation', 'radio', 'waves', 'infrared', 'rays', 'ultraviolet', 'radiation', 'xrays', 'and', 'gamma', 'radiation', 'light', 'is', 'the', 'fastest', 'traveler', 'in', 'the', 'universe', '.', 'it', 'moves', 'at', 'nearly', 'kilometers', 'about', 'miles', 'per', 'second', '.', 'at', 'such', 'speed', 'you', 'could', 'circle', 'the', 'earth', 'seven', 'times', 'between', 'heartbeats', '.', 'if', 'light', 'cant', 'escape', 'black', 'hole', 'it', 'follows', 'that', 'nothing', 'else', 'can', '.', 'consequently', 'there', 'is', 'no', 'direct', 'way', 'to', 'detect', 'black', 'hole', '.', 'in', 'fact', 'the', 'principal', 'evidence', 'of', 'the', 'existence', 'of', 'black', 'holes', 'comes', 'not', 'from', 'observation', 'but', 'from', 'solutions', 'to', 'complex', 'equations', 'based', 'on', 'einsteins', 'theory', 'of', 'general', 'relativity', '.', 'among', 'other', 'things', 'the', 'calculations', 'indicate', 'that', 'black', 'holes', 'may', 'occur', 'in', 'variety', 'of', 'sizes', 'and', 'be', 'more', 'abundant', 'than', 'most', 'of', 'us', 'realize', '.', 'mini', 'black', 'holes', 'some', 'black', 'holes', 'are', 'theorized', 'to', 'be', 'nearly', 'as', 'old', 'as', 'the', 'big', 'bang', 'which', 'is', 'hypothesized', 'to', 'have', 'started', 'our', 'universe', 'to', 'billion', 'years', 'ago', '.', 'the', 'rapid', 'early', 'expansion', 'of', 'some', 'parts', 'of', 'the', 'dense', 'hot', 'matter', 'in', 'this', 'nascent', 'universe', 'is', 'said', 'to', 'have', 'so', 'compressed', 'less', 'rapidly', 'moving', 'parts', 'that', 'the', 'latter', 'became', 'superdense', 'and', 'collapsed', 'further', 'forming', 'black', 'holes', '.', 'among', 'the', 'holes', 'so', 'created', 'may', 'be', 'the', 'submicroscopic', 'miniblack', 'holes', '.', 'miniblack', 'hole', 'may', 'be', 'as', 'small', 'as', 'an', 'atomic', 'particle', 'but', 'contain', 'as', 'much', 'mass', 'material', 'as', 'mount', 'everest', '.', 'never', 'underestimate', 'the', 'power', 'of', 'miniblack', 'hole', '.', 'if', 'some', 'event', 'caused', 'it', 'to', 'decompress', 'it', 'would', 'be', 'as', 'if', 'millions', 'of', 'hydrogen', 'bombs', 'were', 'simultaneously', 'detonated', '.', 'how', 'stars', 'die', 'the', 'most', 'widespread', 'support', 'is', 'given', 'to', 'the', 'theory', 'that', 'black', 'hole', 'is', 'the', 'natural', 'end', 'product', 'of', 'giant', 'stars', 'death', '.', 'according', 'to', 'this', 'theory', 'star', 'like', 'our', 'sun', 'and', 'others', 'we', 'see', 'in', 'the', 'sky', 'lives', 'as', 'long', 'as', 'thermal', 'energy', 'and', 'radiation', 'from', 'nuclear', 'reactions', 'in', 'its', 'core', 'provide', 'sufficient', 'outward', 'pressure', 'to', 'counteract', 'the', 'inward', 'pressure', 'of', 'gravity', 'caused', 'by', 'the', 'stars', 'own', 'great', 'mass', '.', 'when', 'the', 'star', 'exhausts', 'its', 'nuclear', 'fuels', 'it', 'succumbs', 'to', 'the', 'forces', 'of', 'its', 'own', 'gravity', 'and', 'literally', 'collapses', 'inward', '.', 'according', 'to', 'equations', 'derived', 'from', 'quantum', 'mechanics', 'and', 'einsteins', 'theory', 'of', 'general', 'relativity', 'the', 'stars', 'remaining', 'mass', 'determines', 'whether', 'it', 'becomes', 'white', 'dwarf', 'neutron', 'star', 'or', 'black', 'hole', '.', 'white', 'dwarfs', 'stars', 'are', 'usually', 'measured', 'in', 'comparison', 'with', 'our', 'suns', 'mass', '.', 'star', 'whose', 'remaining', 'mass', 'is', 'about', 'that', 'of', 'our', 'sun', 'condenses', 'to', 'approximately', 'the', 'size', 'of', 'earth', '.', 'the', 'stars', 'contraction', 'is', 'halted', 'by', 'the', 'collective', 'resistance', 'of', 'electrons', 'pressed', 'against', 'each', 'other', 'and', 'their', 'atomic', 'nuclei', '.', 'matter', 'in', 'this', 'collapsed', 'star', 'is', 'so', 'tightly', 'packed', 'that', 'piece', 'the', 'size', 'of', 'sugar', 'cube', 'would', 'weigh', 'thousands', 'of', 'kilograms', '.', 'gravitational', 'contraction', 'would', 'also', 'have', 'made', 'the', 'star', 'white', 'hot', '.', 'it', 'is', 'appropriately', 'called', 'white', 'dwarf', '.', 'astronomers', 'have', 'detected', 'white', 'dwarfs', 'in', 'space', '.', 'the', 'first', 'discovery', 'was', 'planetsized', 'object', 'that', 'seemed', 'to', 'exert', 'disproportionately', 'high', 'gravitational', 'effect', 'upon', 'celestial', 'companion', 'the', 'so', 'call', 'dog', 'star', 'sirius', 'which', 'is', 'about', '.', 'times', 'our', 'suns', 'mass', '.', 'it', 'appeared', 'that', 'this', 'planetsized', 'object', 'would', 'have', 'to', 'be', 'about', 'as', 'massive', 'as', 'our', 'sun', 'to', 'affect', 'sirius', 'as', 'it', 'did', '.', 'moreover', 'spectral', 'analysis', 'indicated', 'the', 'stars', 'color', 'was', 'white', '.', 'based', 'upon', 'these', 'and', 'other', 'studies', 'astronomers', 'concluded', 'that', 'they', 'had', 'found', 'white', 'dwarf', '.', 'however', 'it', 'took', 'many', 'years', 'after', 'the', 'discovery', 'in', 'before', 'most', 'scientists', 'accepted', 'the', 'fact', 'that', 'an', 'object', 'thousands', 'of', 'times', 'denser', 'than', 'anything', 'possible', 'on', 'earth', 'could', 'exist', '.', 'neutron', 'stars', 'and', 'supernovas', 'giant', 'stars', 'usually', 'lose', 'most', 'of', 'their', 'mass', 'during', 'their', 'normal', 'lifetimes', '.', 'if', 'such', 'star', 'still', 'retains', 'to', 'solar', 'masses', 'after', 'exhaustion', 'of', 'its', 'nuclear', 'fuels', 'it', 'would', 'collapse', 'to', 'even', 'greater', 'density', 'and', 'smaller', 'size', 'than', 'the', 'white', 'dwarf', '.', 'the', 'reason', 'is', 'that', 'there', 'is', 'limit', 'on', 'the', 'amount', 'of', 'compression', 'electrons', 'can', 'resist', 'in', 'the', 'presence', 'of', 'atomic', 'nuclei', '.', 'in', 'this', 'instance', 'the', 'limit', 'is', 'breached', '.', 'electrons', 'are', 'literally', 'driven', 'into', 'atomic', 'nuclei', 'mating', 'with', 'protons', 'to', 'form', 'neutrons', 'and', 'thus', 'transmuting', 'nuclei', 'into', 'neutrons', '.', 'the', 'resulting', 'object', 'is', 'aptly', 'called', 'neutron', 'star', '.', 'it', 'may', 'be', 'only', 'few', 'kilometers', 'in', 'diameter', '.', 'sugarcube', 'size', 'piece', 'of', 'this', 'star', 'would', 'weigh', 'about', 'onehalf', 'trillion', 'kilograms', '.', 'sometimes', 'as', 'electrons', 'are', 'driven', 'into', 'protons', 'in', 'atomic', 'nuclei', 'neutrinos', 'are', 'blown', 'outward', 'so', 'forcefully', 'that', 'they', 'blast', 'off', 'the', 'stars', 'outer', 'layer', '.', 'this', 'creates', 'supernova', 'that', 'may', 'temporarily', 'outshine', 'all', 'of', 'the', 'other', 'stars', 'in', 'galaxy', '.', 'the', 'most', 'prominent', 'object', 'believed', 'to', 'be', 'neutron', 'star', 'is', 'the', 'crab', 'nebula', 'the', 'remnant', 'of', 'supernova', 'observed', 'and', 'reported', 'by', 'chinese', 'astronomers', 'in', '.', 'starlike', 'object', 'in', 'the', 'nebula', 'blinks', 'or', 'pulses', 'about', 'times', 'per', 'second', 'in', 'visible', 'light', 'radio', 'waves', 'and', 'and', 'gamma', 'rays', '.', 'the', 'radio', 'pulses', 'are', 'believed', 'to', 'result', 'from', 'interaction', 'between', 'point', 'on', 'the', 'spinning', 'star', 'and', 'the', 'stars', 'magnetic', 'field', '.', 'as', 'the', 'star', 'rotates', 'this', 'point', 'is', 'theorized', 'alternately', 'to', 'face', 'and', 'be', 'turned', 'away', 'from', 'earth', '.', 'the', 'fast', 'rotation', 'rate', 'implied', 'by', 'the', 'interval', 'between', 'pulses', 'indicates', 'the', 'star', 'is', 'no', 'more', 'than', 'few', 'kilometers', 'in', 'diameter', 'because', 'if', 'it', 'were', 'larger', 'it', 'would', 'be', 'torn', 'apart', 'by', 'centrifugal', 'force', '.', 'pulsars', 'radio', 'telescopes', 'have', 'detected', 'large', 'number', 'of', 'other', 'objects', 'which', 'send', 'out', 'naturally', 'pulsed', 'radio', 'signals', '.', 'they', 'were', 'named', 'pulsars', '.', 'like', 'the', 'object', 'in', 'the', 'crab', 'nebula', 'they', 'are', 'presumed', 'to', 'be', 'rotating', 'neutron', 'stars', '.', 'of', 'these', 'pulsars', 'only', 'the', 'vela', 'pulsarwhich', 'gets', 'its', 'name', 'because', 'of', 'its', 'location', 'in', 'the', 'vela', 'sails', 'constellationpulses', 'at', 'wavelengths', 'shorter', 'than', 'radio', '.', 'like', 'the', 'crab', 'pulsar', 'the', 'vela', 'pulsar', 'also', 'pulses', 'at', 'optical', 'and', 'gamma', 'ray', 'wavelengths', '.', 'however', 'unlike', 'the', 'crab', 'pulsar', 'it', 'is', 'not', 'an', 'xray', 'pulsar', '.', 'aside', 'from', 'the', 'mystery', 'generated', 'by', 'these', 'differences', 'scientists', 'also', 'debate', 'the', 'reasons', 'for', 'the', 'pulses', 'at', 'gamma', 'xray', 'and', 'optical', 'frequencies', '.', 'as', 'noted', 'earlier', 'they', 'agree', 'on', 'the', 'origin', 'of', 'the', 'radio', 'pulses', '.', 'black', 'holes', 'when', 'star', 'has', 'three', 'or', 'more', 'solar', 'masses', 'left', 'after', 'it', 'exhausts', 'its', 'nuclear', 'fuels', 'it', 'can', 'become', 'black', 'hole', '.', 'like', 'the', 'white', 'dwarf', 'and', 'neutron', 'star', 'this', 'stars', 'density', 'and', 'gravity', 'increase', 'with', 'contraction', '.', 'consequently', 'the', 'stars', 'gravitational', 'escape', 'velocity', 'speed', 'needed', 'to', 'escape', 'from', 'the', 'star', 'increases', '.', 'when', 'the', 'star', 'has', 'shrunk', 'to', 'the', 'schwarzschild', 'radius', 'named', 'for', 'the', 'man', 'who', 'first', 'calculated', 'it', 'its', 'gravitational', 'escape', 'velocity', 'would', 'be', 'nearly', 'kilometers', 'per', 'second', 'which', 'is', 'equal', 'to', 'the', 'speed', 'of', 'light', '.', 'consequently', 'light', 'could', 'never', 'leave', 'the', 'star', '.', 'reduction', 'of', 'giant', 'star', 'to', 'the', 'schwarzschild', 'radius', 'represents', 'an', 'incredible', 'compression', 'of', 'mass', 'and', 'decrease', 'in', 'size', '.', 'as', 'an', 'example', 'mathematicians', 'calculate', 'that', 'for', 'star', 'of', 'solar', 'masses', 'ten', 'times', 'the', 'mass', 'of', 'our', 'sun', 'after', 'exhaustion', 'of', 'its', 'nuclear', 'fuels', 'the', 'schwarzschild', 'radius', 'is', 'about', 'kilometers', '.', 'according', 'to', 'the', 'law', 'of', 'general', 'relativity', 'space', 'and', 'time', 'are', 'warped', 'or', 'curved', 'by', 'gravity', '.', 'time', 'is', 'theorized', 'to', 'point', 'into', 'the']\n"
     ]
    }
   ],
   "source": [
    "print(text)"
   ]
  },
  {
   "cell_type": "markdown",
   "id": "62cff978",
   "metadata": {},
   "source": [
    "# Стоп-слова\n",
    "Стоп-слова — высокочастотные слова, которые не дают нам никакой информации о конкретном тексте. \n",
    "\n",
    "Стоп-слова это обычно понимают артикли, междометия, союзы и т.д., которые не несут смысловой нагрузки. При этом надо понимать, что не существует универсального списка стоп-слов, все зависит от конкретного случая"
   ]
  },
  {
   "cell_type": "code",
   "execution_count": 26,
   "id": "ad7ce4db",
   "metadata": {},
   "outputs": [],
   "source": [
    "from nltk.corpus import stopwords"
   ]
  },
  {
   "cell_type": "code",
   "execution_count": 27,
   "id": "6786beec",
   "metadata": {},
   "outputs": [
    {
     "data": {
      "text/plain": [
       "['arabic',\n",
       " 'azerbaijani',\n",
       " 'danish',\n",
       " 'dutch',\n",
       " 'english',\n",
       " 'finnish',\n",
       " 'french',\n",
       " 'german',\n",
       " 'greek',\n",
       " 'hungarian',\n",
       " 'indonesian',\n",
       " 'italian',\n",
       " 'kazakh',\n",
       " 'nepali',\n",
       " 'norwegian',\n",
       " 'portuguese',\n",
       " 'romanian',\n",
       " 'russian',\n",
       " 'slovene',\n",
       " 'spanish',\n",
       " 'swedish',\n",
       " 'tajik',\n",
       " 'turkish']"
      ]
     },
     "execution_count": 27,
     "metadata": {},
     "output_type": "execute_result"
    }
   ],
   "source": [
    "# смотрим, какие языки есть\n",
    "stopwords.fileids()"
   ]
  },
  {
   "cell_type": "code",
   "execution_count": 28,
   "id": "294fb7a4",
   "metadata": {},
   "outputs": [
    {
     "data": {
      "text/plain": [
       "['i',\n",
       " 'me',\n",
       " 'my',\n",
       " 'myself',\n",
       " 'we',\n",
       " 'our',\n",
       " 'ours',\n",
       " 'ourselves',\n",
       " 'you',\n",
       " \"you're\",\n",
       " \"you've\",\n",
       " \"you'll\",\n",
       " \"you'd\",\n",
       " 'your',\n",
       " 'yours',\n",
       " 'yourself',\n",
       " 'yourselves',\n",
       " 'he',\n",
       " 'him',\n",
       " 'his']"
      ]
     },
     "execution_count": 28,
     "metadata": {},
     "output_type": "execute_result"
    }
   ],
   "source": [
    "stopwords_ru = stopwords.words('english') \n",
    "stopwords_ru[:20]"
   ]
  },
  {
   "cell_type": "code",
   "execution_count": 29,
   "id": "890be869",
   "metadata": {},
   "outputs": [],
   "source": [
    "text = [word for word in text if not word in stopwords.words()]"
   ]
  },
  {
   "cell_type": "code",
   "execution_count": 30,
   "id": "9c46dc91",
   "metadata": {},
   "outputs": [
    {
     "name": "stdout",
     "output_type": "stream",
     "text": [
      "5356\n"
     ]
    }
   ],
   "source": [
    "print(len(\" \".join(text)))"
   ]
  },
  {
   "cell_type": "markdown",
   "id": "1c5b50a6",
   "metadata": {},
   "source": [
    "####\n",
    "ниже мы увидим сколько было до, сколько после"
   ]
  },
  {
   "cell_type": "markdown",
   "id": "b3c7b140",
   "metadata": {},
   "source": [
    "# Нормализация"
   ]
  },
  {
   "cell_type": "markdown",
   "id": "5d99873c",
   "metadata": {},
   "source": [
    "## Лемматизация и стемминг – это частные случаи нормализации и они отличаются.\n"
   ]
  },
  {
   "cell_type": "markdown",
   "id": "238186ed",
   "metadata": {},
   "source": [
    "**Стемминг** – это грубый эвристический процесс, который отрезает «лишнее» от корня слов, часто это приводит к потере словообразовательных суффиксов.\n"
   ]
  },
  {
   "cell_type": "markdown",
   "id": "925627a5",
   "metadata": {},
   "source": [
    "Пример:\n",
    "`\n",
    "dog, dogs, dog’s, dogs’ => dog\n",
    "`"
   ]
  },
  {
   "cell_type": "markdown",
   "id": "08f0ac76",
   "metadata": {},
   "source": [
    "####\n",
    "стем отсечение от слова \"лишнего\" - окончаний и суффиксов, оставшаяся часть - называется stem, она должна быть одинаковой для всех грамматических форм слова. \n",
    "####\n",
    "Одинаковый стем может получиться и не у однокоренных слов (потому что стеммер работает без знания контекста и не понимает разницу между словами, которые имеют разный смысл в зависимости от части речи) — в этом проблема стемминга. Нужно иметь это ввиду"
   ]
  },
  {
   "cell_type": "markdown",
   "id": "fd795e6a",
   "metadata": {},
   "source": [
    "**Лемматизация** – это более тонкий процесс, который использует словарь и морфологический анализ, чтобы в итоге привести слово к его канонической форме – лемме. Это более сложная задача, чем стемминг, но и результаты дает гораздо более осмысленные, особенно для языков с богатой морфологией."
   ]
  },
  {
   "cell_type": "markdown",
   "id": "63deda21",
   "metadata": {},
   "source": [
    "Примеры:\n",
    "* `кошке, кошку, кошкам, кошкой => кошка бежал, бежит, бегу => бежать белому, белым, белыми => белый`\n",
    "\n",
    "* Слово good – это лемма для слова better. Стеммер не увидит эту связь, так как здесь нужно сверяться со словарем. \n",
    "\n",
    "* Слово play – это базовая форма слова playing. Тут справятся и стемминг, и лемматизация. \n",
    "\n",
    "* Слово meeting может быть как нормальной формой существительного, так и формой глагола to meet, в зависимости от контекста. В отличие от стемминга, лемматизация попробует выбрать правильную лемму, опираясь на контекст."
   ]
  },
  {
   "cell_type": "markdown",
   "id": "78aa33e9",
   "metadata": {},
   "source": [
    "# Cтемминг"
   ]
  },
  {
   "cell_type": "code",
   "execution_count": 31,
   "id": "6f1a5ccb",
   "metadata": {},
   "outputs": [
    {
     "name": "stdout",
     "output_type": "stream",
     "text": [
      "combat arms grove way castro valley california telephone following material downloaded nasa spacelink bbs national aeronautics space administration george . marshall space flight center marshall space flight center alabama . much black holes meets eye . fact eyes even aid advanced telescope never see black hole space . reason matter within black hole dense great gravitational pull prevents even light escaping . like electromagnetic radiation radio waves infrared rays ultraviolet radiation xrays gamma radiation light fastest traveler universe . moves nearly kilometers miles second . speed could circle earth seven times heartbeats . light cant escape black hole follows nothing else . consequently direct way detect black hole . fact principal evidence existence black holes comes observation solutions complex equations based einsteins theory general relativity . among things calculations indicate black holes may occur variety sizes abundant us realize . mini black holes black holes theorized nearly old big bang hypothesized started universe billion years ago . rapid early expansion parts dense hot matter nascent universe said compressed less rapidly moving parts latter became superdense collapsed forming black holes . among holes created may submicroscopic miniblack holes . miniblack hole may small atomic particle contain much mass material mount everest . never underestimate power miniblack hole . event caused decompress would millions hydrogen bombs simultaneously detonated . stars widespread support given theory black hole natural product giant stars death . according theory star like sun others see sky lives long thermal energy radiation nuclear reactions core provide sufficient outward pressure counteract inward pressure gravity caused stars great mass . star exhausts nuclear fuels succumbs forces gravity literally collapses inward . according equations derived quantum mechanics einsteins theory general relativity stars remaining mass determines whether becomes white dwarf neutron star black hole . white dwarfs stars usually measured comparison suns mass . star whose remaining mass sun condenses approximately size earth . stars contraction halted collective resistance electrons pressed atomic nuclei . matter collapsed star tightly packed piece size sugar cube would weigh thousands kilograms . gravitational contraction would made star white hot . appropriately called white dwarf . astronomers detected white dwarfs space . first discovery planetsized object seemed exert disproportionately high gravitational effect upon celestial companion call star sirius . times suns mass . appeared planetsized object would massive sun affect sirius . moreover spectral analysis indicated stars color white . based upon studies astronomers concluded found white dwarf . however took many years discovery scientists accepted fact object thousands times denser anything possible earth could exist . neutron stars supernovas giant stars usually lose mass normal lifetimes . star still retains solar masses exhaustion nuclear fuels would collapse even greater density smaller size white dwarf . reason limit amount compression electrons resist presence atomic nuclei . instance limit breached . electrons literally driven atomic nuclei mating protons form neutrons thus transmuting nuclei neutrons . resulting object aptly called neutron star . may kilometers diameter . sugarcube size piece star would weigh onehalf trillion kilograms . sometimes electrons driven protons atomic nuclei neutrinos blown outward forcefully blast stars outer layer . creates supernova may temporarily outshine stars galaxy . prominent object believed neutron star crab nebula remnant supernova observed reported chinese astronomers . starlike object nebula blinks pulses times second visible light radio waves gamma rays . radio pulses believed result interaction point spinning star stars magnetic field . star rotates point theorized alternately turned away earth . fast rotation rate implied interval pulses indicates star kilometers diameter larger would torn apart centrifugal force . pulsars radio telescopes detected large number objects send naturally pulsed radio signals . named pulsars . like object crab nebula presumed rotating neutron stars . pulsars vela pulsarwhich gets location vela sails constellationpulses wavelengths shorter radio . like crab pulsar vela pulsar pulses optical gamma ray wavelengths . however unlike crab pulsar xray pulsar . aside mystery generated differences scientists debate reasons pulses gamma xray optical frequencies . noted earlier agree origin radio pulses . black holes star three solar masses left exhausts nuclear fuels become black hole . like white dwarf neutron star stars density gravity increase contraction . consequently stars gravitational escape velocity speed needed escape star increases . star shrunk schwarzschild radius named first calculated gravitational escape velocity would nearly kilometers second equal speed light . consequently light could never leave star . reduction giant star schwarzschild radius represents incredible compression mass decrease size . example mathematicians calculate star solar masses ten times mass sun exhaustion nuclear fuels schwarzschild radius kilometers . according law general relativity space time warped curved gravity . time theorized point\n"
     ]
    }
   ],
   "source": [
    "text_normalization = \" \".join([str(item) for item in text])\n",
    "print(text_normalization)"
   ]
  },
  {
   "cell_type": "code",
   "execution_count": 32,
   "id": "2751d966",
   "metadata": {},
   "outputs": [],
   "source": [
    "tokenizer = nltk.tokenize.TreebankWordTokenizer()\n",
    "tokens = tokenizer.tokenize(text_normalization)"
   ]
  },
  {
   "cell_type": "code",
   "execution_count": 33,
   "id": "85020bf4",
   "metadata": {},
   "outputs": [],
   "source": [
    "stemmer = nltk.stem.PorterStemmer()\n",
    "\n",
    "text_stemming = \" \".join(stemmer.stem(token) for token in tokens)"
   ]
  },
  {
   "cell_type": "markdown",
   "id": "40ba1593",
   "metadata": {},
   "source": [
    "####\n",
    "стемингуем текст по токенам"
   ]
  },
  {
   "cell_type": "code",
   "execution_count": 34,
   "id": "7b2b3564",
   "metadata": {},
   "outputs": [
    {
     "name": "stdout",
     "output_type": "stream",
     "text": [
      "combat arm grove way castro valley california telephon follow materi download nasa spacelink bb nation aeronaut space administr georg . marshal space flight center marshal space flight center alabama . much black hole meet eye . fact eye even aid advanc telescop never see black hole space . reason matter within black hole dens great gravit pull prevent even light escap . like electromagnet radiat radio wave infrar ray ultraviolet radiat xray gamma radiat light fastest travel univers . move nearli kilomet mile second . speed could circl earth seven time heartbeat . light cant escap black hole follow noth els . consequ direct way detect black hole . fact princip evid exist black hole come observ solut complex equat base einstein theori gener rel . among thing calcul indic black hole may occur varieti size abund us realiz . mini black hole black hole theoriz nearli old big bang hypothes start univers billion year ago . rapid earli expans part dens hot matter nascent univers said compress less rapidli move part latter becam superdens collaps form black hole . among hole creat may submicroscop miniblack hole . miniblack hole may small atom particl contain much mass materi mount everest . never underestim power miniblack hole . event caus decompress would million hydrogen bomb simultan deton . star widespread support given theori black hole natur product giant star death . accord theori star like sun other see sky live long thermal energi radiat nuclear reaction core provid suffici outward pressur counteract inward pressur graviti caus star great mass . star exhaust nuclear fuel succumb forc graviti liter collaps inward . accord equat deriv quantum mechan einstein theori gener rel star remain mass determin whether becom white dwarf neutron star black hole . white dwarf star usual measur comparison sun mass . star whose remain mass sun condens approxim size earth . star contract halt collect resist electron press atom nuclei . matter collaps star tightli pack piec size sugar cube would weigh thousand kilogram . gravit contract would made star white hot . appropri call white dwarf . astronom detect white dwarf space . first discoveri planets object seem exert disproportion high gravit effect upon celesti companion call star siriu . time sun mass . appear planets object would massiv sun affect siriu . moreov spectral analysi indic star color white . base upon studi astronom conclud found white dwarf . howev took mani year discoveri scientist accept fact object thousand time denser anyth possibl earth could exist . neutron star supernova giant star usual lose mass normal lifetim . star still retain solar mass exhaust nuclear fuel would collaps even greater densiti smaller size white dwarf . reason limit amount compress electron resist presenc atom nuclei . instanc limit breach . electron liter driven atom nuclei mate proton form neutron thu transmut nuclei neutron . result object aptli call neutron star . may kilomet diamet . sugarcub size piec star would weigh onehalf trillion kilogram . sometim electron driven proton atom nuclei neutrino blown outward forc blast star outer layer . creat supernova may temporarili outshin star galaxi . promin object believ neutron star crab nebula remnant supernova observ report chines astronom . starlik object nebula blink puls time second visibl light radio wave gamma ray . radio puls believ result interact point spin star star magnet field . star rotat point theoriz altern turn away earth . fast rotat rate impli interv puls indic star kilomet diamet larger would torn apart centrifug forc . pulsar radio telescop detect larg number object send natur puls radio signal . name pulsar . like object crab nebula presum rotat neutron star . pulsar vela pulsarwhich get locat vela sail constellationpuls wavelength shorter radio . like crab pulsar vela pulsar puls optic gamma ray wavelength . howev unlik crab pulsar xray pulsar . asid mysteri gener differ scientist debat reason puls gamma xray optic frequenc . note earlier agre origin radio puls . black hole star three solar mass left exhaust nuclear fuel becom black hole . like white dwarf neutron star star densiti graviti increas contract . consequ star gravit escap veloc speed need escap star increas . star shrunk schwarzschild radiu name first calcul gravit escap veloc would nearli kilomet second equal speed light . consequ light could never leav star . reduct giant star schwarzschild radiu repres incred compress mass decreas size . exampl mathematician calcul star solar mass ten time mass sun exhaust nuclear fuel schwarzschild radiu kilomet . accord law gener rel space time warp curv graviti . time theoriz point\n"
     ]
    }
   ],
   "source": [
    "print(text_stemming)"
   ]
  },
  {
   "cell_type": "markdown",
   "id": "a0211d7e",
   "metadata": {},
   "source": [
    "# Лемматизация"
   ]
  },
  {
   "cell_type": "code",
   "execution_count": 35,
   "id": "f1711f85",
   "metadata": {},
   "outputs": [],
   "source": [
    "# tokenizer = nltk.tokenize.TreebankWordTokenizer()\n",
    "tokens = tokenizer.tokenize(text_stemming)"
   ]
  },
  {
   "cell_type": "code",
   "execution_count": 36,
   "id": "b448bfae",
   "metadata": {},
   "outputs": [],
   "source": [
    "lemmatizator = nltk.stem.WordNetLemmatizer()\n",
    "text_lemmatization = \" \".join(lemmatizator.lemmatize(token) for token in tokens)"
   ]
  },
  {
   "cell_type": "code",
   "execution_count": 37,
   "id": "7c43ac64",
   "metadata": {},
   "outputs": [],
   "source": [
    "# print(text_lemmatization)"
   ]
  },
  {
   "cell_type": "code",
   "execution_count": 38,
   "id": "fe18d5f6",
   "metadata": {},
   "outputs": [],
   "source": [
    "tokenizer = WhitespaceTokenizer()\n",
    "text_lemmatization = tokenizer.tokenize(text_lemmatization)"
   ]
  },
  {
   "cell_type": "code",
   "execution_count": 39,
   "id": "5dc22a82",
   "metadata": {},
   "outputs": [
    {
     "name": "stdout",
     "output_type": "stream",
     "text": [
      "['combat', 'arm', 'grove', 'way', 'castro', 'valley', 'california', 'telephon', 'follow', 'materi', 'download', 'nasa', 'spacelink', 'bb', 'nation', 'aeronaut', 'space', 'administr', 'georg', '.', 'marshal', 'space', 'flight', 'center', 'marshal', 'space', 'flight', 'center', 'alabama', '.', 'much', 'black', 'hole', 'meet', 'eye', '.', 'fact', 'eye', 'even', 'aid', 'advanc', 'telescop', 'never', 'see', 'black', 'hole', 'space', '.', 'reason', 'matter', 'within', 'black', 'hole', 'den', 'great', 'gravit', 'pull', 'prevent', 'even', 'light', 'escap', '.', 'like', 'electromagnet', 'radiat', 'radio', 'wave', 'infrar', 'ray', 'ultraviolet', 'radiat', 'xray', 'gamma', 'radiat', 'light', 'fastest', 'travel', 'univers', '.', 'move', 'nearli', 'kilomet', 'mile', 'second', '.', 'speed', 'could', 'circl', 'earth', 'seven', 'time', 'heartbeat', '.', 'light', 'cant', 'escap', 'black', 'hole', 'follow', 'noth', 'el', '.', 'consequ', 'direct', 'way', 'detect', 'black', 'hole', '.', 'fact', 'princip', 'evid', 'exist', 'black', 'hole', 'come', 'observ', 'solut', 'complex', 'equat', 'base', 'einstein', 'theori', 'gener', 'rel', '.', 'among', 'thing', 'calcul', 'indic', 'black', 'hole', 'may', 'occur', 'varieti', 'size', 'abund', 'u', 'realiz', '.', 'mini', 'black', 'hole', 'black', 'hole', 'theoriz', 'nearli', 'old', 'big', 'bang', 'hypothes', 'start', 'univers', 'billion', 'year', 'ago', '.', 'rapid', 'earli', 'expans', 'part', 'den', 'hot', 'matter', 'nascent', 'univers', 'said', 'compress', 'le', 'rapidli', 'move', 'part', 'latter', 'becam', 'superdens', 'collaps', 'form', 'black', 'hole', '.', 'among', 'hole', 'creat', 'may', 'submicroscop', 'miniblack', 'hole', '.', 'miniblack', 'hole', 'may', 'small', 'atom', 'particl', 'contain', 'much', 'mass', 'materi', 'mount', 'everest', '.', 'never', 'underestim', 'power', 'miniblack', 'hole', '.', 'event', 'caus', 'decompress', 'would', 'million', 'hydrogen', 'bomb', 'simultan', 'deton', '.', 'star', 'widespread', 'support', 'given', 'theori', 'black', 'hole', 'natur', 'product', 'giant', 'star', 'death', '.', 'accord', 'theori', 'star', 'like', 'sun', 'other', 'see', 'sky', 'live', 'long', 'thermal', 'energi', 'radiat', 'nuclear', 'reaction', 'core', 'provid', 'suffici', 'outward', 'pressur', 'counteract', 'inward', 'pressur', 'graviti', 'caus', 'star', 'great', 'mass', '.', 'star', 'exhaust', 'nuclear', 'fuel', 'succumb', 'forc', 'graviti', 'liter', 'collaps', 'inward', '.', 'accord', 'equat', 'deriv', 'quantum', 'mechan', 'einstein', 'theori', 'gener', 'rel', 'star', 'remain', 'mass', 'determin', 'whether', 'becom', 'white', 'dwarf', 'neutron', 'star', 'black', 'hole', '.', 'white', 'dwarf', 'star', 'usual', 'measur', 'comparison', 'sun', 'mass', '.', 'star', 'whose', 'remain', 'mass', 'sun', 'condens', 'approxim', 'size', 'earth', '.', 'star', 'contract', 'halt', 'collect', 'resist', 'electron', 'press', 'atom', 'nucleus', '.', 'matter', 'collaps', 'star', 'tightli', 'pack', 'piec', 'size', 'sugar', 'cube', 'would', 'weigh', 'thousand', 'kilogram', '.', 'gravit', 'contract', 'would', 'made', 'star', 'white', 'hot', '.', 'appropri', 'call', 'white', 'dwarf', '.', 'astronom', 'detect', 'white', 'dwarf', 'space', '.', 'first', 'discoveri', 'planet', 'object', 'seem', 'exert', 'disproportion', 'high', 'gravit', 'effect', 'upon', 'celesti', 'companion', 'call', 'star', 'siriu', '.', 'time', 'sun', 'mass', '.', 'appear', 'planet', 'object', 'would', 'massiv', 'sun', 'affect', 'siriu', '.', 'moreov', 'spectral', 'analysi', 'indic', 'star', 'color', 'white', '.', 'base', 'upon', 'studi', 'astronom', 'conclud', 'found', 'white', 'dwarf', '.', 'howev', 'took', 'mani', 'year', 'discoveri', 'scientist', 'accept', 'fact', 'object', 'thousand', 'time', 'denser', 'anyth', 'possibl', 'earth', 'could', 'exist', '.', 'neutron', 'star', 'supernova', 'giant', 'star', 'usual', 'lose', 'mass', 'normal', 'lifetim', '.', 'star', 'still', 'retain', 'solar', 'mass', 'exhaust', 'nuclear', 'fuel', 'would', 'collaps', 'even', 'greater', 'densiti', 'smaller', 'size', 'white', 'dwarf', '.', 'reason', 'limit', 'amount', 'compress', 'electron', 'resist', 'presenc', 'atom', 'nucleus', '.', 'instanc', 'limit', 'breach', '.', 'electron', 'liter', 'driven', 'atom', 'nucleus', 'mate', 'proton', 'form', 'neutron', 'thu', 'transmut', 'nucleus', 'neutron', '.', 'result', 'object', 'aptli', 'call', 'neutron', 'star', '.', 'may', 'kilomet', 'diamet', '.', 'sugarcub', 'size', 'piec', 'star', 'would', 'weigh', 'onehalf', 'trillion', 'kilogram', '.', 'sometim', 'electron', 'driven', 'proton', 'atom', 'nucleus', 'neutrino', 'blown', 'outward', 'forc', 'blast', 'star', 'outer', 'layer', '.', 'creat', 'supernova', 'may', 'temporarili', 'outshin', 'star', 'galaxi', '.', 'promin', 'object', 'believ', 'neutron', 'star', 'crab', 'nebula', 'remnant', 'supernova', 'observ', 'report', 'chine', 'astronom', '.', 'starlik', 'object', 'nebula', 'blink', 'pul', 'time', 'second', 'visibl', 'light', 'radio', 'wave', 'gamma', 'ray', '.', 'radio', 'pul', 'believ', 'result', 'interact', 'point', 'spin', 'star', 'star', 'magnet', 'field', '.', 'star', 'rotat', 'point', 'theoriz', 'altern', 'turn', 'away', 'earth', '.', 'fast', 'rotat', 'rate', 'impli', 'interv', 'pul', 'indic', 'star', 'kilomet', 'diamet', 'larger', 'would', 'torn', 'apart', 'centrifug', 'forc', '.', 'pulsar', 'radio', 'telescop', 'detect', 'larg', 'number', 'object', 'send', 'natur', 'pul', 'radio', 'signal', '.', 'name', 'pulsar', '.', 'like', 'object', 'crab', 'nebula', 'presum', 'rotat', 'neutron', 'star', '.', 'pulsar', 'vela', 'pulsarwhich', 'get', 'locat', 'vela', 'sail', 'constellationpuls', 'wavelength', 'shorter', 'radio', '.', 'like', 'crab', 'pulsar', 'vela', 'pulsar', 'pul', 'optic', 'gamma', 'ray', 'wavelength', '.', 'howev', 'unlik', 'crab', 'pulsar', 'xray', 'pulsar', '.', 'asid', 'mysteri', 'gener', 'differ', 'scientist', 'debat', 'reason', 'pul', 'gamma', 'xray', 'optic', 'frequenc', '.', 'note', 'earlier', 'agre', 'origin', 'radio', 'pul', '.', 'black', 'hole', 'star', 'three', 'solar', 'mass', 'left', 'exhaust', 'nuclear', 'fuel', 'becom', 'black', 'hole', '.', 'like', 'white', 'dwarf', 'neutron', 'star', 'star', 'densiti', 'graviti', 'increas', 'contract', '.', 'consequ', 'star', 'gravit', 'escap', 'veloc', 'speed', 'need', 'escap', 'star', 'increas', '.', 'star', 'shrunk', 'schwarzschild', 'radiu', 'name', 'first', 'calcul', 'gravit', 'escap', 'veloc', 'would', 'nearli', 'kilomet', 'second', 'equal', 'speed', 'light', '.', 'consequ', 'light', 'could', 'never', 'leav', 'star', '.', 'reduct', 'giant', 'star', 'schwarzschild', 'radiu', 'repres', 'incred', 'compress', 'mass', 'decreas', 'size', '.', 'exampl', 'mathematician', 'calcul', 'star', 'solar', 'mass', 'ten', 'time', 'mass', 'sun', 'exhaust', 'nuclear', 'fuel', 'schwarzschild', 'radiu', 'kilomet', '.', 'accord', 'law', 'gener', 'rel', 'space', 'time', 'warp', 'curv', 'graviti', '.', 'time', 'theoriz', 'point']\n"
     ]
    }
   ],
   "source": [
    "print(text_lemmatization)"
   ]
  },
  {
   "cell_type": "code",
   "execution_count": 40,
   "id": "0e3a597e",
   "metadata": {},
   "outputs": [
    {
     "name": "stdout",
     "output_type": "stream",
     "text": [
      "Символов изначально: \t\t\t8067\n",
      "Символов после стоп-слов: \t\t\t5356\n",
      "Символов после стемминга: \t\t\t4668\n",
      "Символов после лемматизации: \t\t4657\n"
     ]
    }
   ],
   "source": [
    "print(\"Символов изначально: \\t\\t\\t%d\"%(len(default_text)))\n",
    "print(\"Символов после стоп-слов: \\t\\t\\t%d\"%(len(\" \".join(text))))\n",
    "print(\"Символов после стемминга: \\t\\t\\t%d\"%(len(text_stemming)))\n",
    "print(\"Символов после лемматизации: \\t\\t%d\"%len(\" \".join(text_lemmatization)))"
   ]
  },
  {
   "cell_type": "markdown",
   "id": "0e702196",
   "metadata": {},
   "source": [
    "# Исправление опечаток\n",
    "[Простейший спеллчекер Норвига](https://norvig.com/spell-correct.html)"
   ]
  },
  {
   "cell_type": "markdown",
   "id": "9cecb34d",
   "metadata": {},
   "source": [
    "# Подсчёт статистики встречаемости слов в тексте"
   ]
  },
  {
   "cell_type": "code",
   "execution_count": 41,
   "id": "e86c4fa9",
   "metadata": {},
   "outputs": [
    {
     "name": "stdout",
     "output_type": "stream",
     "text": [
      "CPU times: user 1.04 ms, sys: 11 µs, total: 1.06 ms\n",
      "Wall time: 1.1 ms\n"
     ]
    },
    {
     "data": {
      "text/plain": [
       "FreqDist({'.': 66, 'star': 21, 'stars': 15, 'black': 14, 'holes': 9, 'hole': 9, 'mass': 9, 'white': 9, 'would': 8, 'radio': 7, ...})"
      ]
     },
     "execution_count": 41,
     "metadata": {},
     "output_type": "execute_result"
    }
   ],
   "source": [
    "%%time\n",
    "from nltk.probability import FreqDist\n",
    "fdist = FreqDist(text)\n",
    "fdist"
   ]
  },
  {
   "cell_type": "code",
   "execution_count": 42,
   "id": "9f13286e",
   "metadata": {},
   "outputs": [
    {
     "data": {
      "text/plain": [
       "[('.', 66), ('star', 21), ('stars', 15), ('black', 14), ('holes', 9)]"
      ]
     },
     "execution_count": 42,
     "metadata": {},
     "output_type": "execute_result"
    }
   ],
   "source": [
    "fdist.most_common(5)"
   ]
  },
  {
   "cell_type": "code",
   "execution_count": 43,
   "id": "4c5f0af2",
   "metadata": {},
   "outputs": [
    {
     "data": {
      "image/png": "[encoded data removed]",
      "text/plain": [
       "<Figure size 432x288 with 1 Axes>"
      ]
     },
     "metadata": {
      "needs_background": "light"
     },
     "output_type": "display_data"
    },
    {
     "data": {
      "text/plain": [
       "<AxesSubplot:xlabel='Samples', ylabel='Counts'>"
      ]
     },
     "execution_count": 43,
     "metadata": {},
     "output_type": "execute_result"
    }
   ],
   "source": [
    "fdist.plot(35,cumulative=False)"
   ]
  },
  {
   "cell_type": "markdown",
   "id": "70a503ca",
   "metadata": {},
   "source": [
    "# С параметром cumulative=False график иллюстрирует закон Ципфа\n",
    "**Закон Ципфа** («ранг—частота»). Например, Если все слова достаточно длинного текста упорядочить по убыванию частоты их использования, то частота n-го слова в таком списке окажется приблизительно обратно пропорциональной его порядковому номеру n.\n",
    "Второе по используемости слово встречается примерно в два раза реже, чем первое, третье — в три раза реже, чем первое, и т.д."
   ]
  },
  {
   "cell_type": "code",
   "execution_count": 44,
   "id": "d017b599",
   "metadata": {},
   "outputs": [
    {
     "data": {
      "text/html": [
       "<img src=\"https://ic.pics.livejournal.com/eponim2008/17443609/234916/234916_original.jpg\"/>"
      ],
      "text/plain": [
       "<IPython.core.display.Image object>"
      ]
     },
     "execution_count": 44,
     "metadata": {},
     "output_type": "execute_result"
    }
   ],
   "source": [
    "from IPython.display import Image\n",
    "from IPython.core.display import HTML \n",
    "Image(url= \"https://ic.pics.livejournal.com/eponim2008/17443609/234916/234916_original.jpg\")"
   ]
  },
  {
   "cell_type": "markdown",
   "id": "c10a14e9",
   "metadata": {},
   "source": [
    "https://github.com/ancatmara/data-science-nlp/blob/master/1.%20Intro.ipynb\n",
    "\n",
    "Закон назван именем американского лингвиста Джорджа Ципфа (правда, популяризировал он данную закономерность не для лингвистических данных, а для описания распределения экономических сил и социального статуса)."
   ]
  },
  {
   "cell_type": "markdown",
   "id": "0f4a1abd",
   "metadata": {},
   "source": [
    "Если закон Ципфа соблюдается — значит, перед вами нормальный текст на естественном языке. Если нет, то что-то с ним не так."
   ]
  },
  {
   "cell_type": "markdown",
   "id": "301a3540",
   "metadata": {},
   "source": [
    "# Визуализация"
   ]
  },
  {
   "cell_type": "code",
   "execution_count": 45,
   "id": "f214c5cc",
   "metadata": {},
   "outputs": [],
   "source": [
    "from wordcloud import WordCloud"
   ]
  },
  {
   "cell_type": "code",
   "execution_count": 46,
   "id": "c9a7e64b",
   "metadata": {},
   "outputs": [
    {
     "name": "stdout",
     "output_type": "stream",
     "text": [
      "/Users/eldaroid/anaconda3/bin/python\n"
     ]
    }
   ],
   "source": [
    "import sys\n",
    "print(sys.executable)"
   ]
  },
  {
   "cell_type": "code",
   "execution_count": 47,
   "id": "7fae60a2",
   "metadata": {},
   "outputs": [],
   "source": [
    "import matplotlib.pyplot as plt\n",
    "%matplotlib inline"
   ]
  },
  {
   "cell_type": "code",
   "execution_count": 48,
   "id": "9b6e034a",
   "metadata": {},
   "outputs": [],
   "source": [
    "text_raw = \" \".join(text)"
   ]
  },
  {
   "cell_type": "code",
   "execution_count": 49,
   "id": "1ae24e69",
   "metadata": {},
   "outputs": [],
   "source": [
    "wordcloud = WordCloud().generate(text_raw)"
   ]
  },
  {
   "cell_type": "code",
   "execution_count": 50,
   "id": "076f5476",
   "metadata": {},
   "outputs": [
    {
     "data": {
      "image/png": "[encoded data removed]",
      "text/plain": [
       "<Figure size 432x288 with 1 Axes>"
      ]
     },
     "metadata": {
      "needs_background": "light"
     },
     "output_type": "display_data"
    }
   ],
   "source": [
    "plt.imshow(wordcloud, interpolation='bilinear')\n",
    "plt.axis(\"off\")\n",
    "plt.show()"
   ]
  },
  {
   "cell_type": "markdown",
   "id": "f52c56a5",
   "metadata": {},
   "source": [
    "####\n",
    "Глядя на него, можно получить общее представление о тематике и главных персонажах произведения."
   ]
  },
  {
   "cell_type": "markdown",
   "id": "769c58ff",
   "metadata": {},
   "source": [
    "# Векторизация\n",
    "Создаем векторы документа и строим итоговую матрицутермы-на-документы."
   ]
  },
  {
   "cell_type": "code",
   "execution_count": 51,
   "id": "3baf3765",
   "metadata": {},
   "outputs": [],
   "source": [
    "text = \" \".join(word for word in text)\n",
    "text = text.replace(\" .\", \".\")\n",
    "# print(text)"
   ]
  },
  {
   "cell_type": "markdown",
   "id": "c76af9d0",
   "metadata": {},
   "source": [
    "[Регулярное выражение](https://habr.com/ru/company/Voximplant/blog/446738/) (регулярки, regexp, regex) – это последовательность символов, которая определяет шаблон поиска. Например:"
   ]
  },
  {
   "cell_type": "code",
   "execution_count": 52,
   "id": "bbeb81eb",
   "metadata": {},
   "outputs": [
    {
     "name": "stdout",
     "output_type": "stream",
     "text": [
      "['combat arms grove way castro valley california telephone following material downloaded nasa spacelink bbs national aeronautics space administration george.', 'marshall space flight center marshall space flight center alabama.', 'much black holes meets eye.', 'fact eyes even aid advanced telescope never see black hole space.', 'reason matter within black hole dense great gravitational pull prevents even light escaping.', 'like electromagnetic radiation radio waves infrared rays ultraviolet radiation xrays gamma radiation light fastest traveler universe.', 'moves nearly kilometers miles second.', 'speed could circle earth seven times heartbeats.', 'light cant escape black hole follows nothing else.', 'consequently direct way detect black hole.', 'fact principal evidence existence black holes comes observation solutions complex equations based einsteins theory general relativity.', 'among things calculations indicate black holes may occur variety sizes abundant us realize.', 'mini black holes black holes theorized nearly old big bang hypothesized started universe billion years ago.', 'rapid early expansion parts dense hot matter nascent universe said compressed less rapidly moving parts latter became superdense collapsed forming black holes.', 'among holes created may submicroscopic miniblack holes.', 'miniblack hole may small atomic particle contain much mass material mount everest.', 'never underestimate power miniblack hole.', 'event caused decompress would millions hydrogen bombs simultaneously detonated.', 'stars widespread support given theory black hole natural product giant stars death.', 'according theory star like sun others see sky lives long thermal energy radiation nuclear reactions core provide sufficient outward pressure counteract inward pressure gravity caused stars great mass.', 'star exhausts nuclear fuels succumbs forces gravity literally collapses inward.', 'according equations derived quantum mechanics einsteins theory general relativity stars remaining mass determines whether becomes white dwarf neutron star black hole.', 'white dwarfs stars usually measured comparison suns mass.', 'star whose remaining mass sun condenses approximately size earth.', 'stars contraction halted collective resistance electrons pressed atomic nuclei.', 'matter collapsed star tightly packed piece size sugar cube would weigh thousands kilograms.', 'gravitational contraction would made star white hot.', 'appropriately called white dwarf.', 'astronomers detected white dwarfs space.', 'first discovery planetsized object seemed exert disproportionately high gravitational effect upon celestial companion call star sirius.', 'times suns mass.', 'appeared planetsized object would massive sun affect sirius.', 'moreover spectral analysis indicated stars color white.', 'based upon studies astronomers concluded found white dwarf.', 'however took many years discovery scientists accepted fact object thousands times denser anything possible earth could exist.', 'neutron stars supernovas giant stars usually lose mass normal lifetimes.', 'star still retains solar masses exhaustion nuclear fuels would collapse even greater density smaller size white dwarf.', 'reason limit amount compression electrons resist presence atomic nuclei.', 'instance limit breached.', 'electrons literally driven atomic nuclei mating protons form neutrons thus transmuting nuclei neutrons.', 'resulting object aptly called neutron star.', 'may kilometers diameter.', 'sugarcube size piece star would weigh onehalf trillion kilograms.', 'sometimes electrons driven protons atomic nuclei neutrinos blown outward forcefully blast stars outer layer.', 'creates supernova may temporarily outshine stars galaxy.', 'prominent object believed neutron star crab nebula remnant supernova observed reported chinese astronomers.', 'starlike object nebula blinks pulses times second visible light radio waves gamma rays.', 'radio pulses believed result interaction point spinning star stars magnetic field.', 'star rotates point theorized alternately turned away earth.', 'fast rotation rate implied interval pulses indicates star kilometers diameter larger would torn apart centrifugal force.', 'pulsars radio telescopes detected large number objects send naturally pulsed radio signals.', 'named pulsars.', 'like object crab nebula presumed rotating neutron stars.', 'pulsars vela pulsarwhich gets location vela sails constellationpulses wavelengths shorter radio.', 'like crab pulsar vela pulsar pulses optical gamma ray wavelengths.', 'however unlike crab pulsar xray pulsar.', 'aside mystery generated differences scientists debate reasons pulses gamma xray optical frequencies.', 'noted earlier agree origin radio pulses.', 'black holes star three solar masses left exhausts nuclear fuels become black hole.', 'like white dwarf neutron star stars density gravity increase contraction.', 'consequently stars gravitational escape velocity speed needed escape star increases.', 'star shrunk schwarzschild radius named first calculated gravitational escape velocity would nearly kilometers second equal speed light.', 'consequently light could never leave star.', 'reduction giant star schwarzschild radius represents incredible compression mass decrease size.', 'example mathematicians calculate star solar masses ten times mass sun exhaustion nuclear fuels schwarzschild radius kilometers.', 'according law general relativity space time warped curved gravity.', 'time theorized point']\n"
     ]
    }
   ],
   "source": [
    "text = re.split('(?<!\\w\\.\\w.)(?<![A-Z][a-z]\\.)(?<=\\.|\\?)\\s', text)\n",
    "print(text)"
   ]
  },
  {
   "cell_type": "code",
   "execution_count": 53,
   "id": "f6c432fd",
   "metadata": {},
   "outputs": [
    {
     "data": {
      "text/html": [
       "<div>\n",
       "<style scoped>\n",
       "    .dataframe tbody tr th:only-of-type {\n",
       "        vertical-align: middle;\n",
       "    }\n",
       "\n",
       "    .dataframe tbody tr th {\n",
       "        vertical-align: top;\n",
       "    }\n",
       "\n",
       "    .dataframe thead th {\n",
       "        text-align: right;\n",
       "    }\n",
       "</style>\n",
       "<table border=\"1\" class=\"dataframe\">\n",
       "  <thead>\n",
       "    <tr style=\"text-align: right;\">\n",
       "      <th></th>\n",
       "      <th>according</th>\n",
       "      <th>among</th>\n",
       "      <th>astronomers</th>\n",
       "      <th>atomic</th>\n",
       "      <th>atomic nuclei</th>\n",
       "      <th>based</th>\n",
       "      <th>believed</th>\n",
       "      <th>black</th>\n",
       "      <th>black hole</th>\n",
       "      <th>black holes</th>\n",
       "      <th>...</th>\n",
       "      <th>waves</th>\n",
       "      <th>way</th>\n",
       "      <th>weigh</th>\n",
       "      <th>white</th>\n",
       "      <th>white dwarf</th>\n",
       "      <th>white dwarfs</th>\n",
       "      <th>would</th>\n",
       "      <th>would weigh</th>\n",
       "      <th>xray</th>\n",
       "      <th>years</th>\n",
       "    </tr>\n",
       "  </thead>\n",
       "  <tbody>\n",
       "    <tr>\n",
       "      <th>0</th>\n",
       "      <td>0</td>\n",
       "      <td>0</td>\n",
       "      <td>0</td>\n",
       "      <td>0</td>\n",
       "      <td>0</td>\n",
       "      <td>0</td>\n",
       "      <td>0</td>\n",
       "      <td>0</td>\n",
       "      <td>0</td>\n",
       "      <td>0</td>\n",
       "      <td>...</td>\n",
       "      <td>0</td>\n",
       "      <td>1</td>\n",
       "      <td>0</td>\n",
       "      <td>0</td>\n",
       "      <td>0</td>\n",
       "      <td>0</td>\n",
       "      <td>0</td>\n",
       "      <td>0</td>\n",
       "      <td>0</td>\n",
       "      <td>0</td>\n",
       "    </tr>\n",
       "    <tr>\n",
       "      <th>1</th>\n",
       "      <td>0</td>\n",
       "      <td>0</td>\n",
       "      <td>0</td>\n",
       "      <td>0</td>\n",
       "      <td>0</td>\n",
       "      <td>0</td>\n",
       "      <td>0</td>\n",
       "      <td>0</td>\n",
       "      <td>0</td>\n",
       "      <td>0</td>\n",
       "      <td>...</td>\n",
       "      <td>0</td>\n",
       "      <td>0</td>\n",
       "      <td>0</td>\n",
       "      <td>0</td>\n",
       "      <td>0</td>\n",
       "      <td>0</td>\n",
       "      <td>0</td>\n",
       "      <td>0</td>\n",
       "      <td>0</td>\n",
       "      <td>0</td>\n",
       "    </tr>\n",
       "    <tr>\n",
       "      <th>2</th>\n",
       "      <td>0</td>\n",
       "      <td>0</td>\n",
       "      <td>0</td>\n",
       "      <td>0</td>\n",
       "      <td>0</td>\n",
       "      <td>0</td>\n",
       "      <td>0</td>\n",
       "      <td>1</td>\n",
       "      <td>0</td>\n",
       "      <td>1</td>\n",
       "      <td>...</td>\n",
       "      <td>0</td>\n",
       "      <td>0</td>\n",
       "      <td>0</td>\n",
       "      <td>0</td>\n",
       "      <td>0</td>\n",
       "      <td>0</td>\n",
       "      <td>0</td>\n",
       "      <td>0</td>\n",
       "      <td>0</td>\n",
       "      <td>0</td>\n",
       "    </tr>\n",
       "    <tr>\n",
       "      <th>3</th>\n",
       "      <td>0</td>\n",
       "      <td>0</td>\n",
       "      <td>0</td>\n",
       "      <td>0</td>\n",
       "      <td>0</td>\n",
       "      <td>0</td>\n",
       "      <td>0</td>\n",
       "      <td>1</td>\n",
       "      <td>1</td>\n",
       "      <td>0</td>\n",
       "      <td>...</td>\n",
       "      <td>0</td>\n",
       "      <td>0</td>\n",
       "      <td>0</td>\n",
       "      <td>0</td>\n",
       "      <td>0</td>\n",
       "      <td>0</td>\n",
       "      <td>0</td>\n",
       "      <td>0</td>\n",
       "      <td>0</td>\n",
       "      <td>0</td>\n",
       "    </tr>\n",
       "    <tr>\n",
       "      <th>4</th>\n",
       "      <td>0</td>\n",
       "      <td>0</td>\n",
       "      <td>0</td>\n",
       "      <td>0</td>\n",
       "      <td>0</td>\n",
       "      <td>0</td>\n",
       "      <td>0</td>\n",
       "      <td>1</td>\n",
       "      <td>1</td>\n",
       "      <td>0</td>\n",
       "      <td>...</td>\n",
       "      <td>0</td>\n",
       "      <td>0</td>\n",
       "      <td>0</td>\n",
       "      <td>0</td>\n",
       "      <td>0</td>\n",
       "      <td>0</td>\n",
       "      <td>0</td>\n",
       "      <td>0</td>\n",
       "      <td>0</td>\n",
       "      <td>0</td>\n",
       "    </tr>\n",
       "    <tr>\n",
       "      <th>...</th>\n",
       "      <td>...</td>\n",
       "      <td>...</td>\n",
       "      <td>...</td>\n",
       "      <td>...</td>\n",
       "      <td>...</td>\n",
       "      <td>...</td>\n",
       "      <td>...</td>\n",
       "      <td>...</td>\n",
       "      <td>...</td>\n",
       "      <td>...</td>\n",
       "      <td>...</td>\n",
       "      <td>...</td>\n",
       "      <td>...</td>\n",
       "      <td>...</td>\n",
       "      <td>...</td>\n",
       "      <td>...</td>\n",
       "      <td>...</td>\n",
       "      <td>...</td>\n",
       "      <td>...</td>\n",
       "      <td>...</td>\n",
       "      <td>...</td>\n",
       "    </tr>\n",
       "    <tr>\n",
       "      <th>62</th>\n",
       "      <td>0</td>\n",
       "      <td>0</td>\n",
       "      <td>0</td>\n",
       "      <td>0</td>\n",
       "      <td>0</td>\n",
       "      <td>0</td>\n",
       "      <td>0</td>\n",
       "      <td>0</td>\n",
       "      <td>0</td>\n",
       "      <td>0</td>\n",
       "      <td>...</td>\n",
       "      <td>0</td>\n",
       "      <td>0</td>\n",
       "      <td>0</td>\n",
       "      <td>0</td>\n",
       "      <td>0</td>\n",
       "      <td>0</td>\n",
       "      <td>0</td>\n",
       "      <td>0</td>\n",
       "      <td>0</td>\n",
       "      <td>0</td>\n",
       "    </tr>\n",
       "    <tr>\n",
       "      <th>63</th>\n",
       "      <td>0</td>\n",
       "      <td>0</td>\n",
       "      <td>0</td>\n",
       "      <td>0</td>\n",
       "      <td>0</td>\n",
       "      <td>0</td>\n",
       "      <td>0</td>\n",
       "      <td>0</td>\n",
       "      <td>0</td>\n",
       "      <td>0</td>\n",
       "      <td>...</td>\n",
       "      <td>0</td>\n",
       "      <td>0</td>\n",
       "      <td>0</td>\n",
       "      <td>0</td>\n",
       "      <td>0</td>\n",
       "      <td>0</td>\n",
       "      <td>0</td>\n",
       "      <td>0</td>\n",
       "      <td>0</td>\n",
       "      <td>0</td>\n",
       "    </tr>\n",
       "    <tr>\n",
       "      <th>64</th>\n",
       "      <td>0</td>\n",
       "      <td>0</td>\n",
       "      <td>0</td>\n",
       "      <td>0</td>\n",
       "      <td>0</td>\n",
       "      <td>0</td>\n",
       "      <td>0</td>\n",
       "      <td>0</td>\n",
       "      <td>0</td>\n",
       "      <td>0</td>\n",
       "      <td>...</td>\n",
       "      <td>0</td>\n",
       "      <td>0</td>\n",
       "      <td>0</td>\n",
       "      <td>0</td>\n",
       "      <td>0</td>\n",
       "      <td>0</td>\n",
       "      <td>0</td>\n",
       "      <td>0</td>\n",
       "      <td>0</td>\n",
       "      <td>0</td>\n",
       "    </tr>\n",
       "    <tr>\n",
       "      <th>65</th>\n",
       "      <td>1</td>\n",
       "      <td>0</td>\n",
       "      <td>0</td>\n",
       "      <td>0</td>\n",
       "      <td>0</td>\n",
       "      <td>0</td>\n",
       "      <td>0</td>\n",
       "      <td>0</td>\n",
       "      <td>0</td>\n",
       "      <td>0</td>\n",
       "      <td>...</td>\n",
       "      <td>0</td>\n",
       "      <td>0</td>\n",
       "      <td>0</td>\n",
       "      <td>0</td>\n",
       "      <td>0</td>\n",
       "      <td>0</td>\n",
       "      <td>0</td>\n",
       "      <td>0</td>\n",
       "      <td>0</td>\n",
       "      <td>0</td>\n",
       "    </tr>\n",
       "    <tr>\n",
       "      <th>66</th>\n",
       "      <td>0</td>\n",
       "      <td>0</td>\n",
       "      <td>0</td>\n",
       "      <td>0</td>\n",
       "      <td>0</td>\n",
       "      <td>0</td>\n",
       "      <td>0</td>\n",
       "      <td>0</td>\n",
       "      <td>0</td>\n",
       "      <td>0</td>\n",
       "      <td>...</td>\n",
       "      <td>0</td>\n",
       "      <td>0</td>\n",
       "      <td>0</td>\n",
       "      <td>0</td>\n",
       "      <td>0</td>\n",
       "      <td>0</td>\n",
       "      <td>0</td>\n",
       "      <td>0</td>\n",
       "      <td>0</td>\n",
       "      <td>0</td>\n",
       "    </tr>\n",
       "  </tbody>\n",
       "</table>\n",
       "<p>67 rows × 147 columns</p>\n",
       "</div>"
      ],
      "text/plain": [
       "    according  among  astronomers  atomic  atomic nuclei  based  believed  \\\n",
       "0           0      0            0       0              0      0         0   \n",
       "1           0      0            0       0              0      0         0   \n",
       "2           0      0            0       0              0      0         0   \n",
       "3           0      0            0       0              0      0         0   \n",
       "4           0      0            0       0              0      0         0   \n",
       "..        ...    ...          ...     ...            ...    ...       ...   \n",
       "62          0      0            0       0              0      0         0   \n",
       "63          0      0            0       0              0      0         0   \n",
       "64          0      0            0       0              0      0         0   \n",
       "65          1      0            0       0              0      0         0   \n",
       "66          0      0            0       0              0      0         0   \n",
       "\n",
       "    black  black hole  black holes  ...  waves  way  weigh  white  \\\n",
       "0       0           0            0  ...      0    1      0      0   \n",
       "1       0           0            0  ...      0    0      0      0   \n",
       "2       1           0            1  ...      0    0      0      0   \n",
       "3       1           1            0  ...      0    0      0      0   \n",
       "4       1           1            0  ...      0    0      0      0   \n",
       "..    ...         ...          ...  ...    ...  ...    ...    ...   \n",
       "62      0           0            0  ...      0    0      0      0   \n",
       "63      0           0            0  ...      0    0      0      0   \n",
       "64      0           0            0  ...      0    0      0      0   \n",
       "65      0           0            0  ...      0    0      0      0   \n",
       "66      0           0            0  ...      0    0      0      0   \n",
       "\n",
       "    white dwarf  white dwarfs  would  would weigh  xray  years  \n",
       "0             0             0      0            0     0      0  \n",
       "1             0             0      0            0     0      0  \n",
       "2             0             0      0            0     0      0  \n",
       "3             0             0      0            0     0      0  \n",
       "4             0             0      0            0     0      0  \n",
       "..          ...           ...    ...          ...   ...    ...  \n",
       "62            0             0      0            0     0      0  \n",
       "63            0             0      0            0     0      0  \n",
       "64            0             0      0            0     0      0  \n",
       "65            0             0      0            0     0      0  \n",
       "66            0             0      0            0     0      0  \n",
       "\n",
       "[67 rows x 147 columns]"
      ]
     },
     "execution_count": 53,
     "metadata": {},
     "output_type": "execute_result"
    }
   ],
   "source": [
    "import pandas as pd\n",
    "from sklearn.feature_extraction.text import CountVectorizer\n",
    "\n",
    "count_vectorizer = CountVectorizer(min_df=2, max_df=0.5, ngram_range = (1,2))\n",
    "features = count_vectorizer.fit_transform(text)\n",
    "\n",
    "pd.DataFrame(\n",
    "    features.todense(),\n",
    "    columns = count_vectorizer.get_feature_names()\n",
    ")"
   ]
  },
  {
   "cell_type": "markdown",
   "id": "a58ea595",
   "metadata": {},
   "source": [
    "# TF-IDF"
   ]
  },
  {
   "cell_type": "markdown",
   "id": "6f7ab3c7",
   "metadata": {},
   "source": [
    "[TF-IDF с примерами кода: просто и понятно](http://nlpx.net/archives/57) (сокращение от term frequency — inverse document frequency) – это статистическая мера для оценки важности слова в документе, который является частью коллекции или корпуса."
   ]
  },
  {
   "cell_type": "markdown",
   "id": "edf4d7db",
   "metadata": {},
   "source": [
    "Скоринг по TF-IDF растет пропорционально частоте появления слова в документе, но это компенсируется количеством документов, содержащих это слово."
   ]
  },
  {
   "cell_type": "markdown",
   "id": "f2cc36a4",
   "metadata": {},
   "source": [
    "Формула скоринга для слова X в документе Y:"
   ]
  },
  {
   "cell_type": "markdown",
   "id": "4eacc0de",
   "metadata": {},
   "source": [
    "####\n",
    "У частотного скоринга есть проблема: слова с наибольшей частотностью имеют, соответственно, наибольшую оценку. В этих словах может быть не так много информационного выигрыша для модели, как в менее частых словах. Один из способов исправить ситуацию – понижать оценку слова, которое часто встречается во всех схожих документах. Это называется TF-IDF."
   ]
  },
  {
   "cell_type": "markdown",
   "id": "3a07167f",
   "metadata": {},
   "source": [
    "![d](http://3.bp.blogspot.com/-u928a3xbrsw/UukmRVX_JzI/AAAAAAAAAKE/wIhuNmdQb7E/s1600/td-idf-graphic.png)"
   ]
  },
  {
   "cell_type": "markdown",
   "id": "79ea7c9b",
   "metadata": {},
   "source": [
    "TF (term frequency — частота слова) – отношение числа вхождений слова к общему числу слов документа.\n",
    "\n",
    "![](https://habrastorage.org/r/w1560/webt/ai/p0/wk/aip0wkqcynj8q1cxwxlufspqqds.png)"
   ]
  },
  {
   "cell_type": "markdown",
   "id": "fc675f44",
   "metadata": {},
   "source": [
    "IDF (inverse document frequency — обратная частота документа) — инверсия частоты, с которой некоторое слово встречается в документах коллекции.\n",
    "\n",
    "![](https://habrastorage.org/webt/6j/xd/32/6jxd32ydlpkmixkjw6hdgmp6f6m.png)"
   ]
  },
  {
   "cell_type": "markdown",
   "id": "a7dff17a",
   "metadata": {},
   "source": [
    "В итоге, вычислить TF-IDF для слова term можно так:\n",
    "\n",
    "![](https://habrastorage.org/webt/hl/tp/n0/hltpn0vg_gdo8bn1pfimbvu60no.png)"
   ]
  },
  {
   "cell_type": "code",
   "execution_count": 54,
   "id": "896447d6",
   "metadata": {},
   "outputs": [
    {
     "data": {
      "text/html": [
       "<div>\n",
       "<style scoped>\n",
       "    .dataframe tbody tr th:only-of-type {\n",
       "        vertical-align: middle;\n",
       "    }\n",
       "\n",
       "    .dataframe tbody tr th {\n",
       "        vertical-align: top;\n",
       "    }\n",
       "\n",
       "    .dataframe thead th {\n",
       "        text-align: right;\n",
       "    }\n",
       "</style>\n",
       "<table border=\"1\" class=\"dataframe\">\n",
       "  <thead>\n",
       "    <tr style=\"text-align: right;\">\n",
       "      <th></th>\n",
       "      <th>according</th>\n",
       "      <th>among</th>\n",
       "      <th>astronomers</th>\n",
       "      <th>atomic</th>\n",
       "      <th>atomic nuclei</th>\n",
       "      <th>based</th>\n",
       "      <th>believed</th>\n",
       "      <th>black</th>\n",
       "      <th>black hole</th>\n",
       "      <th>black holes</th>\n",
       "      <th>...</th>\n",
       "      <th>waves</th>\n",
       "      <th>way</th>\n",
       "      <th>weigh</th>\n",
       "      <th>white</th>\n",
       "      <th>white dwarf</th>\n",
       "      <th>white dwarfs</th>\n",
       "      <th>would</th>\n",
       "      <th>would weigh</th>\n",
       "      <th>xray</th>\n",
       "      <th>years</th>\n",
       "    </tr>\n",
       "  </thead>\n",
       "  <tbody>\n",
       "    <tr>\n",
       "      <th>0</th>\n",
       "      <td>0.000000</td>\n",
       "      <td>0.0</td>\n",
       "      <td>0.0</td>\n",
       "      <td>0.0</td>\n",
       "      <td>0.0</td>\n",
       "      <td>0.0</td>\n",
       "      <td>0.0</td>\n",
       "      <td>0.000000</td>\n",
       "      <td>0.000000</td>\n",
       "      <td>0.000000</td>\n",
       "      <td>...</td>\n",
       "      <td>0.0</td>\n",
       "      <td>0.609497</td>\n",
       "      <td>0.0</td>\n",
       "      <td>0.0</td>\n",
       "      <td>0.0</td>\n",
       "      <td>0.0</td>\n",
       "      <td>0.0</td>\n",
       "      <td>0.0</td>\n",
       "      <td>0.0</td>\n",
       "      <td>0.0</td>\n",
       "    </tr>\n",
       "    <tr>\n",
       "      <th>1</th>\n",
       "      <td>0.000000</td>\n",
       "      <td>0.0</td>\n",
       "      <td>0.0</td>\n",
       "      <td>0.0</td>\n",
       "      <td>0.0</td>\n",
       "      <td>0.0</td>\n",
       "      <td>0.0</td>\n",
       "      <td>0.000000</td>\n",
       "      <td>0.000000</td>\n",
       "      <td>0.000000</td>\n",
       "      <td>...</td>\n",
       "      <td>0.0</td>\n",
       "      <td>0.000000</td>\n",
       "      <td>0.0</td>\n",
       "      <td>0.0</td>\n",
       "      <td>0.0</td>\n",
       "      <td>0.0</td>\n",
       "      <td>0.0</td>\n",
       "      <td>0.0</td>\n",
       "      <td>0.0</td>\n",
       "      <td>0.0</td>\n",
       "    </tr>\n",
       "    <tr>\n",
       "      <th>2</th>\n",
       "      <td>0.000000</td>\n",
       "      <td>0.0</td>\n",
       "      <td>0.0</td>\n",
       "      <td>0.0</td>\n",
       "      <td>0.0</td>\n",
       "      <td>0.0</td>\n",
       "      <td>0.0</td>\n",
       "      <td>0.397467</td>\n",
       "      <td>0.000000</td>\n",
       "      <td>0.490156</td>\n",
       "      <td>...</td>\n",
       "      <td>0.0</td>\n",
       "      <td>0.000000</td>\n",
       "      <td>0.0</td>\n",
       "      <td>0.0</td>\n",
       "      <td>0.0</td>\n",
       "      <td>0.0</td>\n",
       "      <td>0.0</td>\n",
       "      <td>0.0</td>\n",
       "      <td>0.0</td>\n",
       "      <td>0.0</td>\n",
       "    </tr>\n",
       "    <tr>\n",
       "      <th>3</th>\n",
       "      <td>0.000000</td>\n",
       "      <td>0.0</td>\n",
       "      <td>0.0</td>\n",
       "      <td>0.0</td>\n",
       "      <td>0.0</td>\n",
       "      <td>0.0</td>\n",
       "      <td>0.0</td>\n",
       "      <td>0.267841</td>\n",
       "      <td>0.316828</td>\n",
       "      <td>0.000000</td>\n",
       "      <td>...</td>\n",
       "      <td>0.0</td>\n",
       "      <td>0.000000</td>\n",
       "      <td>0.0</td>\n",
       "      <td>0.0</td>\n",
       "      <td>0.0</td>\n",
       "      <td>0.0</td>\n",
       "      <td>0.0</td>\n",
       "      <td>0.0</td>\n",
       "      <td>0.0</td>\n",
       "      <td>0.0</td>\n",
       "    </tr>\n",
       "    <tr>\n",
       "      <th>4</th>\n",
       "      <td>0.000000</td>\n",
       "      <td>0.0</td>\n",
       "      <td>0.0</td>\n",
       "      <td>0.0</td>\n",
       "      <td>0.0</td>\n",
       "      <td>0.0</td>\n",
       "      <td>0.0</td>\n",
       "      <td>0.234437</td>\n",
       "      <td>0.277314</td>\n",
       "      <td>0.000000</td>\n",
       "      <td>...</td>\n",
       "      <td>0.0</td>\n",
       "      <td>0.000000</td>\n",
       "      <td>0.0</td>\n",
       "      <td>0.0</td>\n",
       "      <td>0.0</td>\n",
       "      <td>0.0</td>\n",
       "      <td>0.0</td>\n",
       "      <td>0.0</td>\n",
       "      <td>0.0</td>\n",
       "      <td>0.0</td>\n",
       "    </tr>\n",
       "    <tr>\n",
       "      <th>...</th>\n",
       "      <td>...</td>\n",
       "      <td>...</td>\n",
       "      <td>...</td>\n",
       "      <td>...</td>\n",
       "      <td>...</td>\n",
       "      <td>...</td>\n",
       "      <td>...</td>\n",
       "      <td>...</td>\n",
       "      <td>...</td>\n",
       "      <td>...</td>\n",
       "      <td>...</td>\n",
       "      <td>...</td>\n",
       "      <td>...</td>\n",
       "      <td>...</td>\n",
       "      <td>...</td>\n",
       "      <td>...</td>\n",
       "      <td>...</td>\n",
       "      <td>...</td>\n",
       "      <td>...</td>\n",
       "      <td>...</td>\n",
       "      <td>...</td>\n",
       "    </tr>\n",
       "    <tr>\n",
       "      <th>62</th>\n",
       "      <td>0.000000</td>\n",
       "      <td>0.0</td>\n",
       "      <td>0.0</td>\n",
       "      <td>0.0</td>\n",
       "      <td>0.0</td>\n",
       "      <td>0.0</td>\n",
       "      <td>0.0</td>\n",
       "      <td>0.000000</td>\n",
       "      <td>0.000000</td>\n",
       "      <td>0.000000</td>\n",
       "      <td>...</td>\n",
       "      <td>0.0</td>\n",
       "      <td>0.000000</td>\n",
       "      <td>0.0</td>\n",
       "      <td>0.0</td>\n",
       "      <td>0.0</td>\n",
       "      <td>0.0</td>\n",
       "      <td>0.0</td>\n",
       "      <td>0.0</td>\n",
       "      <td>0.0</td>\n",
       "      <td>0.0</td>\n",
       "    </tr>\n",
       "    <tr>\n",
       "      <th>63</th>\n",
       "      <td>0.000000</td>\n",
       "      <td>0.0</td>\n",
       "      <td>0.0</td>\n",
       "      <td>0.0</td>\n",
       "      <td>0.0</td>\n",
       "      <td>0.0</td>\n",
       "      <td>0.0</td>\n",
       "      <td>0.000000</td>\n",
       "      <td>0.000000</td>\n",
       "      <td>0.000000</td>\n",
       "      <td>...</td>\n",
       "      <td>0.0</td>\n",
       "      <td>0.000000</td>\n",
       "      <td>0.0</td>\n",
       "      <td>0.0</td>\n",
       "      <td>0.0</td>\n",
       "      <td>0.0</td>\n",
       "      <td>0.0</td>\n",
       "      <td>0.0</td>\n",
       "      <td>0.0</td>\n",
       "      <td>0.0</td>\n",
       "    </tr>\n",
       "    <tr>\n",
       "      <th>64</th>\n",
       "      <td>0.000000</td>\n",
       "      <td>0.0</td>\n",
       "      <td>0.0</td>\n",
       "      <td>0.0</td>\n",
       "      <td>0.0</td>\n",
       "      <td>0.0</td>\n",
       "      <td>0.0</td>\n",
       "      <td>0.000000</td>\n",
       "      <td>0.000000</td>\n",
       "      <td>0.000000</td>\n",
       "      <td>...</td>\n",
       "      <td>0.0</td>\n",
       "      <td>0.000000</td>\n",
       "      <td>0.0</td>\n",
       "      <td>0.0</td>\n",
       "      <td>0.0</td>\n",
       "      <td>0.0</td>\n",
       "      <td>0.0</td>\n",
       "      <td>0.0</td>\n",
       "      <td>0.0</td>\n",
       "      <td>0.0</td>\n",
       "    </tr>\n",
       "    <tr>\n",
       "      <th>65</th>\n",
       "      <td>0.382294</td>\n",
       "      <td>0.0</td>\n",
       "      <td>0.0</td>\n",
       "      <td>0.0</td>\n",
       "      <td>0.0</td>\n",
       "      <td>0.0</td>\n",
       "      <td>0.0</td>\n",
       "      <td>0.000000</td>\n",
       "      <td>0.000000</td>\n",
       "      <td>0.000000</td>\n",
       "      <td>...</td>\n",
       "      <td>0.0</td>\n",
       "      <td>0.000000</td>\n",
       "      <td>0.0</td>\n",
       "      <td>0.0</td>\n",
       "      <td>0.0</td>\n",
       "      <td>0.0</td>\n",
       "      <td>0.0</td>\n",
       "      <td>0.0</td>\n",
       "      <td>0.0</td>\n",
       "      <td>0.0</td>\n",
       "    </tr>\n",
       "    <tr>\n",
       "      <th>66</th>\n",
       "      <td>0.000000</td>\n",
       "      <td>0.0</td>\n",
       "      <td>0.0</td>\n",
       "      <td>0.0</td>\n",
       "      <td>0.0</td>\n",
       "      <td>0.0</td>\n",
       "      <td>0.0</td>\n",
       "      <td>0.000000</td>\n",
       "      <td>0.000000</td>\n",
       "      <td>0.000000</td>\n",
       "      <td>...</td>\n",
       "      <td>0.0</td>\n",
       "      <td>0.000000</td>\n",
       "      <td>0.0</td>\n",
       "      <td>0.0</td>\n",
       "      <td>0.0</td>\n",
       "      <td>0.0</td>\n",
       "      <td>0.0</td>\n",
       "      <td>0.0</td>\n",
       "      <td>0.0</td>\n",
       "      <td>0.0</td>\n",
       "    </tr>\n",
       "  </tbody>\n",
       "</table>\n",
       "<p>67 rows × 147 columns</p>\n",
       "</div>"
      ],
      "text/plain": [
       "    according  among  astronomers  atomic  atomic nuclei  based  believed  \\\n",
       "0    0.000000    0.0          0.0     0.0            0.0    0.0       0.0   \n",
       "1    0.000000    0.0          0.0     0.0            0.0    0.0       0.0   \n",
       "2    0.000000    0.0          0.0     0.0            0.0    0.0       0.0   \n",
       "3    0.000000    0.0          0.0     0.0            0.0    0.0       0.0   \n",
       "4    0.000000    0.0          0.0     0.0            0.0    0.0       0.0   \n",
       "..        ...    ...          ...     ...            ...    ...       ...   \n",
       "62   0.000000    0.0          0.0     0.0            0.0    0.0       0.0   \n",
       "63   0.000000    0.0          0.0     0.0            0.0    0.0       0.0   \n",
       "64   0.000000    0.0          0.0     0.0            0.0    0.0       0.0   \n",
       "65   0.382294    0.0          0.0     0.0            0.0    0.0       0.0   \n",
       "66   0.000000    0.0          0.0     0.0            0.0    0.0       0.0   \n",
       "\n",
       "       black  black hole  black holes  ...  waves       way  weigh  white  \\\n",
       "0   0.000000    0.000000     0.000000  ...    0.0  0.609497    0.0    0.0   \n",
       "1   0.000000    0.000000     0.000000  ...    0.0  0.000000    0.0    0.0   \n",
       "2   0.397467    0.000000     0.490156  ...    0.0  0.000000    0.0    0.0   \n",
       "3   0.267841    0.316828     0.000000  ...    0.0  0.000000    0.0    0.0   \n",
       "4   0.234437    0.277314     0.000000  ...    0.0  0.000000    0.0    0.0   \n",
       "..       ...         ...          ...  ...    ...       ...    ...    ...   \n",
       "62  0.000000    0.000000     0.000000  ...    0.0  0.000000    0.0    0.0   \n",
       "63  0.000000    0.000000     0.000000  ...    0.0  0.000000    0.0    0.0   \n",
       "64  0.000000    0.000000     0.000000  ...    0.0  0.000000    0.0    0.0   \n",
       "65  0.000000    0.000000     0.000000  ...    0.0  0.000000    0.0    0.0   \n",
       "66  0.000000    0.000000     0.000000  ...    0.0  0.000000    0.0    0.0   \n",
       "\n",
       "    white dwarf  white dwarfs  would  would weigh  xray  years  \n",
       "0           0.0           0.0    0.0          0.0   0.0    0.0  \n",
       "1           0.0           0.0    0.0          0.0   0.0    0.0  \n",
       "2           0.0           0.0    0.0          0.0   0.0    0.0  \n",
       "3           0.0           0.0    0.0          0.0   0.0    0.0  \n",
       "4           0.0           0.0    0.0          0.0   0.0    0.0  \n",
       "..          ...           ...    ...          ...   ...    ...  \n",
       "62          0.0           0.0    0.0          0.0   0.0    0.0  \n",
       "63          0.0           0.0    0.0          0.0   0.0    0.0  \n",
       "64          0.0           0.0    0.0          0.0   0.0    0.0  \n",
       "65          0.0           0.0    0.0          0.0   0.0    0.0  \n",
       "66          0.0           0.0    0.0          0.0   0.0    0.0  \n",
       "\n",
       "[67 rows x 147 columns]"
      ]
     },
     "execution_count": 54,
     "metadata": {},
     "output_type": "execute_result"
    }
   ],
   "source": [
    "from sklearn.feature_extraction.text import TfidfVectorizer\n",
    "\n",
    "tfidf_vectorizer = TfidfVectorizer(min_df=2, max_df=0.5, ngram_range = (1,2))\n",
    "features = tfidf_vectorizer.fit_transform(text)\n",
    "\n",
    "pd.DataFrame(\n",
    "    features.todense(),\n",
    "    columns = tfidf_vectorizer.get_feature_names()\n",
    ")"
   ]
  },
  {
   "cell_type": "code",
   "execution_count": 55,
   "id": "ad241d2c",
   "metadata": {},
   "outputs": [
    {
     "data": {
      "text/plain": [
       "thermal energy    0.002076\n",
       "lives long        0.002076\n",
       "long              0.002076\n",
       "long thermal      0.002076\n",
       "sky               0.002076\n",
       "                    ...   \n",
       "mass              0.022124\n",
       "white             0.025129\n",
       "black             0.028281\n",
       "stars             0.030955\n",
       "star              0.034818\n",
       "Length: 969, dtype: float64"
      ]
     },
     "execution_count": 55,
     "metadata": {},
     "output_type": "execute_result"
    }
   ],
   "source": [
    "tfidf_vectorizer = TfidfVectorizer(ngram_range = (1,2))\n",
    "features = tfidf_vectorizer.fit_transform(text)\n",
    "\n",
    "df = pd.DataFrame(\n",
    "    features.todense(),\n",
    "    columns = tfidf_vectorizer.get_feature_names()\n",
    ")\n",
    "\n",
    "df.mean(axis=0).sort_values()"
   ]
  },
  {
   "cell_type": "code",
   "execution_count": 57,
   "id": "b55b93b6",
   "metadata": {},
   "outputs": [
    {
     "data": {
      "text/html": [
       "<div>\n",
       "<style scoped>\n",
       "    .dataframe tbody tr th:only-of-type {\n",
       "        vertical-align: middle;\n",
       "    }\n",
       "\n",
       "    .dataframe tbody tr th {\n",
       "        vertical-align: top;\n",
       "    }\n",
       "\n",
       "    .dataframe thead th {\n",
       "        text-align: right;\n",
       "    }\n",
       "</style>\n",
       "<table border=\"1\" class=\"dataframe\">\n",
       "  <thead>\n",
       "    <tr style=\"text-align: right;\">\n",
       "      <th></th>\n",
       "      <th>black</th>\n",
       "      <th>star</th>\n",
       "      <th>stars</th>\n",
       "    </tr>\n",
       "  </thead>\n",
       "  <tbody>\n",
       "    <tr>\n",
       "      <th>0</th>\n",
       "      <td>0.0</td>\n",
       "      <td>0.0</td>\n",
       "      <td>0.0</td>\n",
       "    </tr>\n",
       "    <tr>\n",
       "      <th>1</th>\n",
       "      <td>0.0</td>\n",
       "      <td>0.0</td>\n",
       "      <td>0.0</td>\n",
       "    </tr>\n",
       "    <tr>\n",
       "      <th>2</th>\n",
       "      <td>1.0</td>\n",
       "      <td>0.0</td>\n",
       "      <td>0.0</td>\n",
       "    </tr>\n",
       "    <tr>\n",
       "      <th>3</th>\n",
       "      <td>1.0</td>\n",
       "      <td>0.0</td>\n",
       "      <td>0.0</td>\n",
       "    </tr>\n",
       "    <tr>\n",
       "      <th>4</th>\n",
       "      <td>1.0</td>\n",
       "      <td>0.0</td>\n",
       "      <td>0.0</td>\n",
       "    </tr>\n",
       "    <tr>\n",
       "      <th>...</th>\n",
       "      <td>...</td>\n",
       "      <td>...</td>\n",
       "      <td>...</td>\n",
       "    </tr>\n",
       "    <tr>\n",
       "      <th>62</th>\n",
       "      <td>0.0</td>\n",
       "      <td>1.0</td>\n",
       "      <td>0.0</td>\n",
       "    </tr>\n",
       "    <tr>\n",
       "      <th>63</th>\n",
       "      <td>0.0</td>\n",
       "      <td>1.0</td>\n",
       "      <td>0.0</td>\n",
       "    </tr>\n",
       "    <tr>\n",
       "      <th>64</th>\n",
       "      <td>0.0</td>\n",
       "      <td>1.0</td>\n",
       "      <td>0.0</td>\n",
       "    </tr>\n",
       "    <tr>\n",
       "      <th>65</th>\n",
       "      <td>0.0</td>\n",
       "      <td>0.0</td>\n",
       "      <td>0.0</td>\n",
       "    </tr>\n",
       "    <tr>\n",
       "      <th>66</th>\n",
       "      <td>0.0</td>\n",
       "      <td>0.0</td>\n",
       "      <td>0.0</td>\n",
       "    </tr>\n",
       "  </tbody>\n",
       "</table>\n",
       "<p>67 rows × 3 columns</p>\n",
       "</div>"
      ],
      "text/plain": [
       "    black  star  stars\n",
       "0     0.0   0.0    0.0\n",
       "1     0.0   0.0    0.0\n",
       "2     1.0   0.0    0.0\n",
       "3     1.0   0.0    0.0\n",
       "4     1.0   0.0    0.0\n",
       "..    ...   ...    ...\n",
       "62    0.0   1.0    0.0\n",
       "63    0.0   1.0    0.0\n",
       "64    0.0   1.0    0.0\n",
       "65    0.0   0.0    0.0\n",
       "66    0.0   0.0    0.0\n",
       "\n",
       "[67 rows x 3 columns]"
      ]
     },
     "execution_count": 57,
     "metadata": {},
     "output_type": "execute_result"
    }
   ],
   "source": [
    "tfidf_vectorizer = TfidfVectorizer(max_features=3, ngram_range = (1,2))\n",
    "features = tfidf_vectorizer.fit_transform(text)\n",
    "\n",
    "pd.DataFrame(\n",
    "    features.todense(),\n",
    "    columns = tfidf_vectorizer.get_feature_names()\n",
    ")"
   ]
  },
  {
   "cell_type": "markdown",
   "id": "ca898187",
   "metadata": {},
   "source": [
    "####\n",
    "Заключение"
   ]
  },
  {
   "cell_type": "markdown",
   "id": "ce50d4d5",
   "metadata": {},
   "source": [
    "####\n",
    "В этой статье были разобраны основы NLP для текста, а именно:"
   ]
  },
  {
   "cell_type": "markdown",
   "id": "5e58f193",
   "metadata": {},
   "source": [
    "* Узнали что такое NLP? \n",
    "* узнали что оно позволяет применять алгоритмы машинного обучения для текста и речи;\n",
    "* NLTK (Natural Language Toolkit)\n",
    "* токенизация по предложениям\n",
    "* токенизация по словам\n",
    "* лемматизация и стемминг\n",
    "* стоп-слова\n",
    "* регулярное выражение\n",
    "* скомпоновали предложения в слова\n",
    "* векторизацию\n",
    "* TF-IDF"
   ]
  },
  {
   "cell_type": "markdown",
   "id": "7898bf05",
   "metadata": {},
   "source": [
    "####\n",
    "Теперь, зная основы выделения признаков, мы можем использовать признаки как входные данные для алгоритмов машинного обучения."
   ]
  }
 ],
 "metadata": {
  "kernelspec": {
   "display_name": "Python 3",
   "language": "python",
   "name": "python3"
  },
  "language_info": {
   "codemirror_mode": {
    "name": "ipython",
    "version": 3
   },
   "file_extension": ".py",
   "mimetype": "text/x-python",
   "name": "python",
   "nbconvert_exporter": "python",
   "pygments_lexer": "ipython3",
   "version": "3.8.8"
  }
 },
 "nbformat": 4,
 "nbformat_minor": 5
}
